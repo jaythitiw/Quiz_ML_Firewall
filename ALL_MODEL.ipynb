{
 "cells": [
  {
   "cell_type": "code",
   "execution_count": 7,
   "metadata": {},
   "outputs": [],
   "source": [
    "import numpy as np\n",
    "import pandas as pd\n",
    "from sklearn import metrics\n",
    "from sklearn.model_selection import train_test_split\n",
    "import seaborn as sns\n",
    "import matplotlib.pyplot as plt\n",
    "from sklearn.metrics import confusion_matrix\n",
    "from sklearn import preprocessing\n",
    "from sklearn.preprocessing import StandardScaler"
   ]
  },
  {
   "cell_type": "code",
   "execution_count": 3,
   "metadata": {},
   "outputs": [],
   "source": [
    "df_FW = pd.read_csv(r'C:\\Users\\JayNB\\OneDrive\\เดสก์ท็อป\\NIDA\\ML_QUIZ\\log2.csv')"
   ]
  },
  {
   "cell_type": "code",
   "execution_count": 4,
   "metadata": {},
   "outputs": [],
   "source": [
    "from sklearn.model_selection import train_test_split"
   ]
  },
  {
   "cell_type": "code",
   "execution_count": 5,
   "metadata": {},
   "outputs": [],
   "source": [
    "# สร้างตัวแปรทำนาย (X: Independents) และตัวแปรเป้าหมาย (Y: Target label) สำหรับ Decision Tree model\n",
    "\n",
    "X = df_FW[[\"Destination Port\",\"NAT Source Port\",\"NAT Destination Port\", \"Bytes\",\"pkts_sent\",\"pkts_received\",\"Elapsed Time (sec)\"]]\n",
    "Y = df_FW['Action']"
   ]
  },
  {
   "cell_type": "code",
   "execution_count": 8,
   "metadata": {},
   "outputs": [],
   "source": [
    "X_train, X_test, y_train, y_test = train_test_split(X, Y, test_size=0.30, random_state=55)"
   ]
  },
  {
   "cell_type": "code",
   "execution_count": 9,
   "metadata": {},
   "outputs": [],
   "source": [
    "ss = StandardScaler()\n",
    "X_train_ss = ss.fit_transform(X_train)\n",
    "X_test_ss = ss.transform(X_test)"
   ]
  },
  {
   "attachments": {},
   "cell_type": "markdown",
   "metadata": {},
   "source": [
    "1. Decision Tree with Grid Search CV"
   ]
  },
  {
   "cell_type": "code",
   "execution_count": 16,
   "metadata": {},
   "outputs": [],
   "source": [
    "from sklearn import tree\n",
    "from matplotlib import pyplot as plt\n",
    "from sklearn.tree import DecisionTreeClassifier\n",
    "from sklearn.model_selection import GridSearchCV\n",
    "from sklearn.preprocessing import StandardScaler\n",
    "from sklearn.preprocessing import OneHotEncoder\n",
    "from sklearn.compose import ColumnTransformer\n",
    "from sklearn.pipeline import Pipeline\n",
    "from sklearn.metrics import accuracy_score\n",
    "from sklearn.metrics import f1_score\n",
    "from sklearn.metrics import precision_score\n",
    "from sklearn.metrics import recall_score\n",
    "import warnings\n",
    "from sklearn.metrics import classification_report, confusion_matrix\n",
    "warnings.filterwarnings('ignore')"
   ]
  },
  {
   "cell_type": "code",
   "execution_count": 31,
   "metadata": {},
   "outputs": [
    {
     "name": "stdout",
     "output_type": "stream",
     "text": [
      "              precision    recall  f1-score   support\n",
      "\n",
      "       allow       1.00      1.00      1.00     11378\n",
      "        deny       1.00      1.00      1.00      4452\n",
      "        drop       1.00      1.00      1.00      3811\n",
      "  reset-both       0.82      0.74      0.78        19\n",
      "\n",
      "    accuracy                           1.00     19660\n",
      "   macro avg       0.95      0.93      0.94     19660\n",
      "weighted avg       1.00      1.00      1.00     19660\n",
      "\n",
      "\n",
      "\n",
      "[[11377     1     0     0]\n",
      " [    0  4437    12     3]\n",
      " [    0     0  3811     0]\n",
      " [    0     5     0    14]]\n",
      "CPU times: total: 141 ms\n",
      "Wall time: 501 ms\n"
     ]
    }
   ],
   "source": [
    "%%time\n",
    "dtree = DecisionTreeClassifier()\n",
    "dtree.fit(X_train_ss, y_train)\n",
    "pred = dtree.predict(X_test_ss)\n",
    "print(classification_report(y_test, pred))\n",
    "print('\\n')\n",
    "print(confusion_matrix(y_test, pred))"
   ]
  },
  {
   "attachments": {},
   "cell_type": "markdown",
   "metadata": {},
   "source": [
    "Grid Search CV"
   ]
  },
  {
   "cell_type": "code",
   "execution_count": 34,
   "metadata": {},
   "outputs": [],
   "source": [
    "tree_param = {'max_features': ['auto', 'sqrt', 'log2'],\n",
    "              'ccp_alpha': [0.0,0.1, .01, .001],\n",
    "              'max_depth' : range(0,15),\n",
    "              'criterion' :['gini', 'entropy']\n",
    "             }"
   ]
  },
  {
   "cell_type": "code",
   "execution_count": 35,
   "metadata": {},
   "outputs": [
    {
     "name": "stdout",
     "output_type": "stream",
     "text": [
      "Fitting 5 folds for each of 360 candidates, totalling 1800 fits\n",
      "[[11377     1     0     0]\n",
      " [    2  4438    12     0]\n",
      " [    0     0  3811     0]\n",
      " [    0     8     0    11]]\n",
      "              precision    recall  f1-score   support\n",
      "\n",
      "       allow       1.00      1.00      1.00     11378\n",
      "        deny       1.00      1.00      1.00      4452\n",
      "        drop       1.00      1.00      1.00      3811\n",
      "  reset-both       1.00      0.58      0.73        19\n",
      "\n",
      "    accuracy                           1.00     19660\n",
      "   macro avg       1.00      0.89      0.93     19660\n",
      "weighted avg       1.00      1.00      1.00     19660\n",
      "\n"
     ]
    }
   ],
   "source": [
    "grid_search = GridSearchCV(estimator=tree_clas, param_grid=tree_param, cv=5, verbose=True)\n",
    "grid_search.fit(X_train_ss,y_train)\n",
    "tree_pred= grid_search.best_estimator_.predict(X_test_ss)\n"
   ]
  },
  {
   "cell_type": "code",
   "execution_count": 37,
   "metadata": {},
   "outputs": [
    {
     "name": "stdout",
     "output_type": "stream",
     "text": [
      "[[11377     1     0     0]\n",
      " [    2  4438    12     0]\n",
      " [    0     0  3811     0]\n",
      " [    0     8     0    11]]\n",
      "              precision    recall  f1-score   support\n",
      "\n",
      "       allow       1.00      1.00      1.00     11378\n",
      "        deny       1.00      1.00      1.00      4452\n",
      "        drop       1.00      1.00      1.00      3811\n",
      "  reset-both       1.00      0.58      0.73        19\n",
      "\n",
      "    accuracy                           1.00     19660\n",
      "   macro avg       1.00      0.89      0.93     19660\n",
      "weighted avg       1.00      1.00      1.00     19660\n",
      "\n"
     ]
    }
   ],
   "source": [
    "print(confusion_matrix(y_test,tree_pred))\n",
    "print(classification_report(y_test,tree_pred))\n",
    "tree_acc = accuracy_score(y_test,tree_pred)"
   ]
  },
  {
   "cell_type": "code",
   "execution_count": 36,
   "metadata": {},
   "outputs": [
    {
     "data": {
      "text/html": [
       "<style>#sk-container-id-5 {color: black;background-color: white;}#sk-container-id-5 pre{padding: 0;}#sk-container-id-5 div.sk-toggleable {background-color: white;}#sk-container-id-5 label.sk-toggleable__label {cursor: pointer;display: block;width: 100%;margin-bottom: 0;padding: 0.3em;box-sizing: border-box;text-align: center;}#sk-container-id-5 label.sk-toggleable__label-arrow:before {content: \"▸\";float: left;margin-right: 0.25em;color: #696969;}#sk-container-id-5 label.sk-toggleable__label-arrow:hover:before {color: black;}#sk-container-id-5 div.sk-estimator:hover label.sk-toggleable__label-arrow:before {color: black;}#sk-container-id-5 div.sk-toggleable__content {max-height: 0;max-width: 0;overflow: hidden;text-align: left;background-color: #f0f8ff;}#sk-container-id-5 div.sk-toggleable__content pre {margin: 0.2em;color: black;border-radius: 0.25em;background-color: #f0f8ff;}#sk-container-id-5 input.sk-toggleable__control:checked~div.sk-toggleable__content {max-height: 200px;max-width: 100%;overflow: auto;}#sk-container-id-5 input.sk-toggleable__control:checked~label.sk-toggleable__label-arrow:before {content: \"▾\";}#sk-container-id-5 div.sk-estimator input.sk-toggleable__control:checked~label.sk-toggleable__label {background-color: #d4ebff;}#sk-container-id-5 div.sk-label input.sk-toggleable__control:checked~label.sk-toggleable__label {background-color: #d4ebff;}#sk-container-id-5 input.sk-hidden--visually {border: 0;clip: rect(1px 1px 1px 1px);clip: rect(1px, 1px, 1px, 1px);height: 1px;margin: -1px;overflow: hidden;padding: 0;position: absolute;width: 1px;}#sk-container-id-5 div.sk-estimator {font-family: monospace;background-color: #f0f8ff;border: 1px dotted black;border-radius: 0.25em;box-sizing: border-box;margin-bottom: 0.5em;}#sk-container-id-5 div.sk-estimator:hover {background-color: #d4ebff;}#sk-container-id-5 div.sk-parallel-item::after {content: \"\";width: 100%;border-bottom: 1px solid gray;flex-grow: 1;}#sk-container-id-5 div.sk-label:hover label.sk-toggleable__label {background-color: #d4ebff;}#sk-container-id-5 div.sk-serial::before {content: \"\";position: absolute;border-left: 1px solid gray;box-sizing: border-box;top: 0;bottom: 0;left: 50%;z-index: 0;}#sk-container-id-5 div.sk-serial {display: flex;flex-direction: column;align-items: center;background-color: white;padding-right: 0.2em;padding-left: 0.2em;position: relative;}#sk-container-id-5 div.sk-item {position: relative;z-index: 1;}#sk-container-id-5 div.sk-parallel {display: flex;align-items: stretch;justify-content: center;background-color: white;position: relative;}#sk-container-id-5 div.sk-item::before, #sk-container-id-5 div.sk-parallel-item::before {content: \"\";position: absolute;border-left: 1px solid gray;box-sizing: border-box;top: 0;bottom: 0;left: 50%;z-index: -1;}#sk-container-id-5 div.sk-parallel-item {display: flex;flex-direction: column;z-index: 1;position: relative;background-color: white;}#sk-container-id-5 div.sk-parallel-item:first-child::after {align-self: flex-end;width: 50%;}#sk-container-id-5 div.sk-parallel-item:last-child::after {align-self: flex-start;width: 50%;}#sk-container-id-5 div.sk-parallel-item:only-child::after {width: 0;}#sk-container-id-5 div.sk-dashed-wrapped {border: 1px dashed gray;margin: 0 0.4em 0.5em 0.4em;box-sizing: border-box;padding-bottom: 0.4em;background-color: white;}#sk-container-id-5 div.sk-label label {font-family: monospace;font-weight: bold;display: inline-block;line-height: 1.2em;}#sk-container-id-5 div.sk-label-container {text-align: center;}#sk-container-id-5 div.sk-container {/* jupyter's `normalize.less` sets `[hidden] { display: none; }` but bootstrap.min.css set `[hidden] { display: none !important; }` so we also need the `!important` here to be able to override the default hidden behavior on the sphinx rendered scikit-learn.org. See: https://github.com/scikit-learn/scikit-learn/issues/21755 */display: inline-block !important;position: relative;}#sk-container-id-5 div.sk-text-repr-fallback {display: none;}</style><div id=\"sk-container-id-5\" class=\"sk-top-container\"><div class=\"sk-text-repr-fallback\"><pre>DecisionTreeClassifier(max_depth=14, max_features=&#x27;auto&#x27;, random_state=123)</pre><b>In a Jupyter environment, please rerun this cell to show the HTML representation or trust the notebook. <br />On GitHub, the HTML representation is unable to render, please try loading this page with nbviewer.org.</b></div><div class=\"sk-container\" hidden><div class=\"sk-item\"><div class=\"sk-estimator sk-toggleable\"><input class=\"sk-toggleable__control sk-hidden--visually\" id=\"sk-estimator-id-5\" type=\"checkbox\" checked><label for=\"sk-estimator-id-5\" class=\"sk-toggleable__label sk-toggleable__label-arrow\">DecisionTreeClassifier</label><div class=\"sk-toggleable__content\"><pre>DecisionTreeClassifier(max_depth=14, max_features=&#x27;auto&#x27;, random_state=123)</pre></div></div></div></div></div>"
      ],
      "text/plain": [
       "DecisionTreeClassifier(max_depth=14, max_features='auto', random_state=123)"
      ]
     },
     "execution_count": 36,
     "metadata": {},
     "output_type": "execute_result"
    }
   ],
   "source": [
    "grid_search.best_estimator_"
   ]
  },
  {
   "attachments": {},
   "cell_type": "markdown",
   "metadata": {},
   "source": [
    "2.KNN "
   ]
  },
  {
   "cell_type": "code",
   "execution_count": 32,
   "metadata": {},
   "outputs": [],
   "source": [
    "# นำเข้า KNN Classifier\n",
    "\n",
    "from sklearn.neighbors import KNeighborsClassifier"
   ]
  },
  {
   "cell_type": "code",
   "execution_count": 33,
   "metadata": {},
   "outputs": [],
   "source": [
    "KNN = KNeighborsClassifier(n_neighbors = 1)"
   ]
  },
  {
   "cell_type": "code",
   "execution_count": 38,
   "metadata": {},
   "outputs": [
    {
     "data": {
      "text/html": [
       "<style>#sk-container-id-6 {color: black;background-color: white;}#sk-container-id-6 pre{padding: 0;}#sk-container-id-6 div.sk-toggleable {background-color: white;}#sk-container-id-6 label.sk-toggleable__label {cursor: pointer;display: block;width: 100%;margin-bottom: 0;padding: 0.3em;box-sizing: border-box;text-align: center;}#sk-container-id-6 label.sk-toggleable__label-arrow:before {content: \"▸\";float: left;margin-right: 0.25em;color: #696969;}#sk-container-id-6 label.sk-toggleable__label-arrow:hover:before {color: black;}#sk-container-id-6 div.sk-estimator:hover label.sk-toggleable__label-arrow:before {color: black;}#sk-container-id-6 div.sk-toggleable__content {max-height: 0;max-width: 0;overflow: hidden;text-align: left;background-color: #f0f8ff;}#sk-container-id-6 div.sk-toggleable__content pre {margin: 0.2em;color: black;border-radius: 0.25em;background-color: #f0f8ff;}#sk-container-id-6 input.sk-toggleable__control:checked~div.sk-toggleable__content {max-height: 200px;max-width: 100%;overflow: auto;}#sk-container-id-6 input.sk-toggleable__control:checked~label.sk-toggleable__label-arrow:before {content: \"▾\";}#sk-container-id-6 div.sk-estimator input.sk-toggleable__control:checked~label.sk-toggleable__label {background-color: #d4ebff;}#sk-container-id-6 div.sk-label input.sk-toggleable__control:checked~label.sk-toggleable__label {background-color: #d4ebff;}#sk-container-id-6 input.sk-hidden--visually {border: 0;clip: rect(1px 1px 1px 1px);clip: rect(1px, 1px, 1px, 1px);height: 1px;margin: -1px;overflow: hidden;padding: 0;position: absolute;width: 1px;}#sk-container-id-6 div.sk-estimator {font-family: monospace;background-color: #f0f8ff;border: 1px dotted black;border-radius: 0.25em;box-sizing: border-box;margin-bottom: 0.5em;}#sk-container-id-6 div.sk-estimator:hover {background-color: #d4ebff;}#sk-container-id-6 div.sk-parallel-item::after {content: \"\";width: 100%;border-bottom: 1px solid gray;flex-grow: 1;}#sk-container-id-6 div.sk-label:hover label.sk-toggleable__label {background-color: #d4ebff;}#sk-container-id-6 div.sk-serial::before {content: \"\";position: absolute;border-left: 1px solid gray;box-sizing: border-box;top: 0;bottom: 0;left: 50%;z-index: 0;}#sk-container-id-6 div.sk-serial {display: flex;flex-direction: column;align-items: center;background-color: white;padding-right: 0.2em;padding-left: 0.2em;position: relative;}#sk-container-id-6 div.sk-item {position: relative;z-index: 1;}#sk-container-id-6 div.sk-parallel {display: flex;align-items: stretch;justify-content: center;background-color: white;position: relative;}#sk-container-id-6 div.sk-item::before, #sk-container-id-6 div.sk-parallel-item::before {content: \"\";position: absolute;border-left: 1px solid gray;box-sizing: border-box;top: 0;bottom: 0;left: 50%;z-index: -1;}#sk-container-id-6 div.sk-parallel-item {display: flex;flex-direction: column;z-index: 1;position: relative;background-color: white;}#sk-container-id-6 div.sk-parallel-item:first-child::after {align-self: flex-end;width: 50%;}#sk-container-id-6 div.sk-parallel-item:last-child::after {align-self: flex-start;width: 50%;}#sk-container-id-6 div.sk-parallel-item:only-child::after {width: 0;}#sk-container-id-6 div.sk-dashed-wrapped {border: 1px dashed gray;margin: 0 0.4em 0.5em 0.4em;box-sizing: border-box;padding-bottom: 0.4em;background-color: white;}#sk-container-id-6 div.sk-label label {font-family: monospace;font-weight: bold;display: inline-block;line-height: 1.2em;}#sk-container-id-6 div.sk-label-container {text-align: center;}#sk-container-id-6 div.sk-container {/* jupyter's `normalize.less` sets `[hidden] { display: none; }` but bootstrap.min.css set `[hidden] { display: none !important; }` so we also need the `!important` here to be able to override the default hidden behavior on the sphinx rendered scikit-learn.org. See: https://github.com/scikit-learn/scikit-learn/issues/21755 */display: inline-block !important;position: relative;}#sk-container-id-6 div.sk-text-repr-fallback {display: none;}</style><div id=\"sk-container-id-6\" class=\"sk-top-container\"><div class=\"sk-text-repr-fallback\"><pre>GridSearchCV(cv=5, estimator=KNeighborsClassifier(),\n",
       "             param_grid={&#x27;algorithm&#x27;: [&#x27;auto&#x27;, &#x27;kd_tree&#x27;, &#x27;ball_tree&#x27;],\n",
       "                         &#x27;n_neighbors&#x27;: range(0, 15),\n",
       "                         &#x27;weights&#x27;: [&#x27;uniform&#x27;, &#x27;distance&#x27;]})</pre><b>In a Jupyter environment, please rerun this cell to show the HTML representation or trust the notebook. <br />On GitHub, the HTML representation is unable to render, please try loading this page with nbviewer.org.</b></div><div class=\"sk-container\" hidden><div class=\"sk-item sk-dashed-wrapped\"><div class=\"sk-label-container\"><div class=\"sk-label sk-toggleable\"><input class=\"sk-toggleable__control sk-hidden--visually\" id=\"sk-estimator-id-6\" type=\"checkbox\" ><label for=\"sk-estimator-id-6\" class=\"sk-toggleable__label sk-toggleable__label-arrow\">GridSearchCV</label><div class=\"sk-toggleable__content\"><pre>GridSearchCV(cv=5, estimator=KNeighborsClassifier(),\n",
       "             param_grid={&#x27;algorithm&#x27;: [&#x27;auto&#x27;, &#x27;kd_tree&#x27;, &#x27;ball_tree&#x27;],\n",
       "                         &#x27;n_neighbors&#x27;: range(0, 15),\n",
       "                         &#x27;weights&#x27;: [&#x27;uniform&#x27;, &#x27;distance&#x27;]})</pre></div></div></div><div class=\"sk-parallel\"><div class=\"sk-parallel-item\"><div class=\"sk-item\"><div class=\"sk-label-container\"><div class=\"sk-label sk-toggleable\"><input class=\"sk-toggleable__control sk-hidden--visually\" id=\"sk-estimator-id-7\" type=\"checkbox\" ><label for=\"sk-estimator-id-7\" class=\"sk-toggleable__label sk-toggleable__label-arrow\">estimator: KNeighborsClassifier</label><div class=\"sk-toggleable__content\"><pre>KNeighborsClassifier()</pre></div></div></div><div class=\"sk-serial\"><div class=\"sk-item\"><div class=\"sk-estimator sk-toggleable\"><input class=\"sk-toggleable__control sk-hidden--visually\" id=\"sk-estimator-id-8\" type=\"checkbox\" ><label for=\"sk-estimator-id-8\" class=\"sk-toggleable__label sk-toggleable__label-arrow\">KNeighborsClassifier</label><div class=\"sk-toggleable__content\"><pre>KNeighborsClassifier()</pre></div></div></div></div></div></div></div></div></div></div>"
      ],
      "text/plain": [
       "GridSearchCV(cv=5, estimator=KNeighborsClassifier(),\n",
       "             param_grid={'algorithm': ['auto', 'kd_tree', 'ball_tree'],\n",
       "                         'n_neighbors': range(0, 15),\n",
       "                         'weights': ['uniform', 'distance']})"
      ]
     },
     "execution_count": 38,
     "metadata": {},
     "output_type": "execute_result"
    }
   ],
   "source": [
    "from sklearn.model_selection import GridSearchCV\n",
    "\n",
    "param_grid = dict(n_neighbors=range(0,15),weights=['uniform', 'distance'],algorithm=['auto', 'kd_tree','ball_tree'])\n",
    "\n",
    "knn = KNeighborsClassifier()\n",
    "\n",
    "knn_CV = GridSearchCV(knn, param_grid=param_grid, cv= 5)\n",
    "\n",
    "knn_CV.fit(X_train, y_train)"
   ]
  },
  {
   "cell_type": "code",
   "execution_count": 40,
   "metadata": {},
   "outputs": [],
   "source": [
    "knn_CV.best_params_\n",
    "bestKNN = knn_CV.best_estimator_"
   ]
  },
  {
   "cell_type": "code",
   "execution_count": 41,
   "metadata": {},
   "outputs": [
    {
     "data": {
      "text/html": [
       "<style>#sk-container-id-7 {color: black;background-color: white;}#sk-container-id-7 pre{padding: 0;}#sk-container-id-7 div.sk-toggleable {background-color: white;}#sk-container-id-7 label.sk-toggleable__label {cursor: pointer;display: block;width: 100%;margin-bottom: 0;padding: 0.3em;box-sizing: border-box;text-align: center;}#sk-container-id-7 label.sk-toggleable__label-arrow:before {content: \"▸\";float: left;margin-right: 0.25em;color: #696969;}#sk-container-id-7 label.sk-toggleable__label-arrow:hover:before {color: black;}#sk-container-id-7 div.sk-estimator:hover label.sk-toggleable__label-arrow:before {color: black;}#sk-container-id-7 div.sk-toggleable__content {max-height: 0;max-width: 0;overflow: hidden;text-align: left;background-color: #f0f8ff;}#sk-container-id-7 div.sk-toggleable__content pre {margin: 0.2em;color: black;border-radius: 0.25em;background-color: #f0f8ff;}#sk-container-id-7 input.sk-toggleable__control:checked~div.sk-toggleable__content {max-height: 200px;max-width: 100%;overflow: auto;}#sk-container-id-7 input.sk-toggleable__control:checked~label.sk-toggleable__label-arrow:before {content: \"▾\";}#sk-container-id-7 div.sk-estimator input.sk-toggleable__control:checked~label.sk-toggleable__label {background-color: #d4ebff;}#sk-container-id-7 div.sk-label input.sk-toggleable__control:checked~label.sk-toggleable__label {background-color: #d4ebff;}#sk-container-id-7 input.sk-hidden--visually {border: 0;clip: rect(1px 1px 1px 1px);clip: rect(1px, 1px, 1px, 1px);height: 1px;margin: -1px;overflow: hidden;padding: 0;position: absolute;width: 1px;}#sk-container-id-7 div.sk-estimator {font-family: monospace;background-color: #f0f8ff;border: 1px dotted black;border-radius: 0.25em;box-sizing: border-box;margin-bottom: 0.5em;}#sk-container-id-7 div.sk-estimator:hover {background-color: #d4ebff;}#sk-container-id-7 div.sk-parallel-item::after {content: \"\";width: 100%;border-bottom: 1px solid gray;flex-grow: 1;}#sk-container-id-7 div.sk-label:hover label.sk-toggleable__label {background-color: #d4ebff;}#sk-container-id-7 div.sk-serial::before {content: \"\";position: absolute;border-left: 1px solid gray;box-sizing: border-box;top: 0;bottom: 0;left: 50%;z-index: 0;}#sk-container-id-7 div.sk-serial {display: flex;flex-direction: column;align-items: center;background-color: white;padding-right: 0.2em;padding-left: 0.2em;position: relative;}#sk-container-id-7 div.sk-item {position: relative;z-index: 1;}#sk-container-id-7 div.sk-parallel {display: flex;align-items: stretch;justify-content: center;background-color: white;position: relative;}#sk-container-id-7 div.sk-item::before, #sk-container-id-7 div.sk-parallel-item::before {content: \"\";position: absolute;border-left: 1px solid gray;box-sizing: border-box;top: 0;bottom: 0;left: 50%;z-index: -1;}#sk-container-id-7 div.sk-parallel-item {display: flex;flex-direction: column;z-index: 1;position: relative;background-color: white;}#sk-container-id-7 div.sk-parallel-item:first-child::after {align-self: flex-end;width: 50%;}#sk-container-id-7 div.sk-parallel-item:last-child::after {align-self: flex-start;width: 50%;}#sk-container-id-7 div.sk-parallel-item:only-child::after {width: 0;}#sk-container-id-7 div.sk-dashed-wrapped {border: 1px dashed gray;margin: 0 0.4em 0.5em 0.4em;box-sizing: border-box;padding-bottom: 0.4em;background-color: white;}#sk-container-id-7 div.sk-label label {font-family: monospace;font-weight: bold;display: inline-block;line-height: 1.2em;}#sk-container-id-7 div.sk-label-container {text-align: center;}#sk-container-id-7 div.sk-container {/* jupyter's `normalize.less` sets `[hidden] { display: none; }` but bootstrap.min.css set `[hidden] { display: none !important; }` so we also need the `!important` here to be able to override the default hidden behavior on the sphinx rendered scikit-learn.org. See: https://github.com/scikit-learn/scikit-learn/issues/21755 */display: inline-block !important;position: relative;}#sk-container-id-7 div.sk-text-repr-fallback {display: none;}</style><div id=\"sk-container-id-7\" class=\"sk-top-container\"><div class=\"sk-text-repr-fallback\"><pre>KNeighborsClassifier(n_neighbors=9, weights=&#x27;distance&#x27;)</pre><b>In a Jupyter environment, please rerun this cell to show the HTML representation or trust the notebook. <br />On GitHub, the HTML representation is unable to render, please try loading this page with nbviewer.org.</b></div><div class=\"sk-container\" hidden><div class=\"sk-item\"><div class=\"sk-estimator sk-toggleable\"><input class=\"sk-toggleable__control sk-hidden--visually\" id=\"sk-estimator-id-9\" type=\"checkbox\" checked><label for=\"sk-estimator-id-9\" class=\"sk-toggleable__label sk-toggleable__label-arrow\">KNeighborsClassifier</label><div class=\"sk-toggleable__content\"><pre>KNeighborsClassifier(n_neighbors=9, weights=&#x27;distance&#x27;)</pre></div></div></div></div></div>"
      ],
      "text/plain": [
       "KNeighborsClassifier(n_neighbors=9, weights='distance')"
      ]
     },
     "execution_count": 41,
     "metadata": {},
     "output_type": "execute_result"
    }
   ],
   "source": [
    "bestKNN.fit(X_train, y_train)"
   ]
  },
  {
   "cell_type": "code",
   "execution_count": 42,
   "metadata": {},
   "outputs": [
    {
     "data": {
      "text/plain": [
       "array(['deny', 'drop', 'allow', ..., 'allow', 'deny', 'drop'],\n",
       "      dtype=object)"
      ]
     },
     "execution_count": 42,
     "metadata": {},
     "output_type": "execute_result"
    }
   ],
   "source": [
    "pred = bestKNN.predict(X_test)\n",
    "\n",
    "pred"
   ]
  },
  {
   "cell_type": "code",
   "execution_count": 43,
   "metadata": {},
   "outputs": [
    {
     "name": "stdout",
     "output_type": "stream",
     "text": [
      "              precision    recall  f1-score   support\n",
      "\n",
      "       allow       1.00      1.00      1.00     11378\n",
      "        deny       1.00      1.00      1.00      4452\n",
      "        drop       1.00      1.00      1.00      3811\n",
      "  reset-both       0.79      0.58      0.67        19\n",
      "\n",
      "    accuracy                           1.00     19660\n",
      "   macro avg       0.94      0.89      0.92     19660\n",
      "weighted avg       1.00      1.00      1.00     19660\n",
      "\n",
      "\n",
      "\n",
      "[[11366    12     0     0]\n",
      " [    5  4432    12     3]\n",
      " [    0     0  3811     0]\n",
      " [    6     2     0    11]]\n"
     ]
    }
   ],
   "source": [
    "print(classification_report(y_test, pred))\n",
    "print('\\n')\n",
    "print(confusion_matrix(y_test, pred))"
   ]
  },
  {
   "cell_type": "code",
   "execution_count": 44,
   "metadata": {},
   "outputs": [],
   "source": [
    "error_rate = []\n",
    "\n",
    "for i in range(1,35):\n",
    "    \n",
    "    KNN = KNeighborsClassifier(n_neighbors = i)\n",
    "    KNN.fit(X_train, y_train)\n",
    "    pred_i = KNN.predict(X_test)\n",
    "    error_rate.append(np.mean(pred_i != y_test))"
   ]
  },
  {
   "cell_type": "code",
   "execution_count": 45,
   "metadata": {},
   "outputs": [
    {
     "data": {
      "text/plain": [
       "Text(0, 0.5, 'Error Rate')"
      ]
     },
     "execution_count": 45,
     "metadata": {},
     "output_type": "execute_result"
    },
    {
     "data": {
      "image/png": "[encoded data removed]",
      "text/plain": [
       "<Figure size 1000x600 with 1 Axes>"
      ]
     },
     "metadata": {},
     "output_type": "display_data"
    }
   ],
   "source": [
    "\n",
    "plt.figure(figsize = (10,6))\n",
    "plt.plot(range(1,35), error_rate, color = 'pink', linestyle = 'dashed', marker = 'o',\n",
    "        markerfacecolor = 'blue', markersize = 10)\n",
    "plt.title('Error Rate vs K Value')\n",
    "plt.xlabel('K')\n",
    "plt.ylabel('Error Rate')"
   ]
  },
  {
   "cell_type": "code",
   "execution_count": 46,
   "metadata": {},
   "outputs": [
    {
     "name": "stdout",
     "output_type": "stream",
     "text": [
      "              precision    recall  f1-score   support\n",
      "\n",
      "       allow       1.00      1.00      1.00     11378\n",
      "        deny       1.00      1.00      1.00      4452\n",
      "        drop       1.00      1.00      1.00      3811\n",
      "  reset-both       0.68      0.68      0.68        19\n",
      "\n",
      "    accuracy                           1.00     19660\n",
      "   macro avg       0.92      0.92      0.92     19660\n",
      "weighted avg       1.00      1.00      1.00     19660\n",
      "\n",
      "\n",
      "\n",
      "[[11364    14     0     0]\n",
      " [    4  4430    12     6]\n",
      " [    0     0  3811     0]\n",
      " [    4     2     0    13]]\n"
     ]
    }
   ],
   "source": [
    "KNN = KNeighborsClassifier(n_neighbors = 1)\n",
    "KNN.fit(X_train, y_train)\n",
    "pred = KNN.predict(X_test)\n",
    "\n",
    "print(classification_report(y_test, pred))\n",
    "print('\\n')\n",
    "print(confusion_matrix(y_test, pred))"
   ]
  },
  {
   "attachments": {},
   "cell_type": "markdown",
   "metadata": {},
   "source": [
    "3.Random Forest"
   ]
  },
  {
   "cell_type": "code",
   "execution_count": 47,
   "metadata": {},
   "outputs": [],
   "source": [
    "from sklearn.ensemble import RandomForestClassifier"
   ]
  },
  {
   "cell_type": "code",
   "execution_count": 49,
   "metadata": {},
   "outputs": [],
   "source": [
    "rf = RandomForestClassifier()"
   ]
  },
  {
   "cell_type": "code",
   "execution_count": 50,
   "metadata": {},
   "outputs": [
    {
     "data": {
      "text/html": [
       "<style>#sk-container-id-8 {color: black;background-color: white;}#sk-container-id-8 pre{padding: 0;}#sk-container-id-8 div.sk-toggleable {background-color: white;}#sk-container-id-8 label.sk-toggleable__label {cursor: pointer;display: block;width: 100%;margin-bottom: 0;padding: 0.3em;box-sizing: border-box;text-align: center;}#sk-container-id-8 label.sk-toggleable__label-arrow:before {content: \"▸\";float: left;margin-right: 0.25em;color: #696969;}#sk-container-id-8 label.sk-toggleable__label-arrow:hover:before {color: black;}#sk-container-id-8 div.sk-estimator:hover label.sk-toggleable__label-arrow:before {color: black;}#sk-container-id-8 div.sk-toggleable__content {max-height: 0;max-width: 0;overflow: hidden;text-align: left;background-color: #f0f8ff;}#sk-container-id-8 div.sk-toggleable__content pre {margin: 0.2em;color: black;border-radius: 0.25em;background-color: #f0f8ff;}#sk-container-id-8 input.sk-toggleable__control:checked~div.sk-toggleable__content {max-height: 200px;max-width: 100%;overflow: auto;}#sk-container-id-8 input.sk-toggleable__control:checked~label.sk-toggleable__label-arrow:before {content: \"▾\";}#sk-container-id-8 div.sk-estimator input.sk-toggleable__control:checked~label.sk-toggleable__label {background-color: #d4ebff;}#sk-container-id-8 div.sk-label input.sk-toggleable__control:checked~label.sk-toggleable__label {background-color: #d4ebff;}#sk-container-id-8 input.sk-hidden--visually {border: 0;clip: rect(1px 1px 1px 1px);clip: rect(1px, 1px, 1px, 1px);height: 1px;margin: -1px;overflow: hidden;padding: 0;position: absolute;width: 1px;}#sk-container-id-8 div.sk-estimator {font-family: monospace;background-color: #f0f8ff;border: 1px dotted black;border-radius: 0.25em;box-sizing: border-box;margin-bottom: 0.5em;}#sk-container-id-8 div.sk-estimator:hover {background-color: #d4ebff;}#sk-container-id-8 div.sk-parallel-item::after {content: \"\";width: 100%;border-bottom: 1px solid gray;flex-grow: 1;}#sk-container-id-8 div.sk-label:hover label.sk-toggleable__label {background-color: #d4ebff;}#sk-container-id-8 div.sk-serial::before {content: \"\";position: absolute;border-left: 1px solid gray;box-sizing: border-box;top: 0;bottom: 0;left: 50%;z-index: 0;}#sk-container-id-8 div.sk-serial {display: flex;flex-direction: column;align-items: center;background-color: white;padding-right: 0.2em;padding-left: 0.2em;position: relative;}#sk-container-id-8 div.sk-item {position: relative;z-index: 1;}#sk-container-id-8 div.sk-parallel {display: flex;align-items: stretch;justify-content: center;background-color: white;position: relative;}#sk-container-id-8 div.sk-item::before, #sk-container-id-8 div.sk-parallel-item::before {content: \"\";position: absolute;border-left: 1px solid gray;box-sizing: border-box;top: 0;bottom: 0;left: 50%;z-index: -1;}#sk-container-id-8 div.sk-parallel-item {display: flex;flex-direction: column;z-index: 1;position: relative;background-color: white;}#sk-container-id-8 div.sk-parallel-item:first-child::after {align-self: flex-end;width: 50%;}#sk-container-id-8 div.sk-parallel-item:last-child::after {align-self: flex-start;width: 50%;}#sk-container-id-8 div.sk-parallel-item:only-child::after {width: 0;}#sk-container-id-8 div.sk-dashed-wrapped {border: 1px dashed gray;margin: 0 0.4em 0.5em 0.4em;box-sizing: border-box;padding-bottom: 0.4em;background-color: white;}#sk-container-id-8 div.sk-label label {font-family: monospace;font-weight: bold;display: inline-block;line-height: 1.2em;}#sk-container-id-8 div.sk-label-container {text-align: center;}#sk-container-id-8 div.sk-container {/* jupyter's `normalize.less` sets `[hidden] { display: none; }` but bootstrap.min.css set `[hidden] { display: none !important; }` so we also need the `!important` here to be able to override the default hidden behavior on the sphinx rendered scikit-learn.org. See: https://github.com/scikit-learn/scikit-learn/issues/21755 */display: inline-block !important;position: relative;}#sk-container-id-8 div.sk-text-repr-fallback {display: none;}</style><div id=\"sk-container-id-8\" class=\"sk-top-container\"><div class=\"sk-text-repr-fallback\"><pre>RandomForestClassifier()</pre><b>In a Jupyter environment, please rerun this cell to show the HTML representation or trust the notebook. <br />On GitHub, the HTML representation is unable to render, please try loading this page with nbviewer.org.</b></div><div class=\"sk-container\" hidden><div class=\"sk-item\"><div class=\"sk-estimator sk-toggleable\"><input class=\"sk-toggleable__control sk-hidden--visually\" id=\"sk-estimator-id-10\" type=\"checkbox\" checked><label for=\"sk-estimator-id-10\" class=\"sk-toggleable__label sk-toggleable__label-arrow\">RandomForestClassifier</label><div class=\"sk-toggleable__content\"><pre>RandomForestClassifier()</pre></div></div></div></div></div>"
      ],
      "text/plain": [
       "RandomForestClassifier()"
      ]
     },
     "execution_count": 50,
     "metadata": {},
     "output_type": "execute_result"
    }
   ],
   "source": [
    "rf.fit(X_train, y_train)"
   ]
  },
  {
   "cell_type": "code",
   "execution_count": 51,
   "metadata": {},
   "outputs": [],
   "source": [
    "pre_rf = rf.predict(X_test)"
   ]
  },
  {
   "cell_type": "code",
   "execution_count": 52,
   "metadata": {},
   "outputs": [
    {
     "name": "stdout",
     "output_type": "stream",
     "text": [
      "              precision    recall  f1-score   support\n",
      "\n",
      "       allow       1.00      1.00      1.00     11378\n",
      "        deny       1.00      1.00      1.00      4452\n",
      "        drop       1.00      1.00      1.00      3811\n",
      "  reset-both       0.92      0.58      0.71        19\n",
      "\n",
      "    accuracy                           1.00     19660\n",
      "   macro avg       0.98      0.89      0.93     19660\n",
      "weighted avg       1.00      1.00      1.00     19660\n",
      "\n",
      "\n",
      "\n",
      "[[11377     1     0     0]\n",
      " [    0  4439    12     1]\n",
      " [    0     0  3811     0]\n",
      " [    0     8     0    11]]\n"
     ]
    }
   ],
   "source": [
    "print(classification_report(y_test, pre_rf))\n",
    "print('\\n')\n",
    "print(confusion_matrix(y_test, pre_rf))"
   ]
  },
  {
   "cell_type": "code",
   "execution_count": 53,
   "metadata": {},
   "outputs": [],
   "source": [
    "param_grid = {\n",
    "    'max_features': [4,6,8],\n",
    "    'min_samples_leaf': [1,3,5],\n",
    "    'min_samples_split': [2,5,12],\n",
    "    'n_estimators': [10,100,300,500]\n",
    "}"
   ]
  },
  {
   "cell_type": "code",
   "execution_count": 54,
   "metadata": {},
   "outputs": [],
   "source": [
    "grid_search = GridSearchCV(estimator = rf, param_grid = param_grid, verbose = 3)"
   ]
  },
  {
   "cell_type": "code",
   "execution_count": 55,
   "metadata": {},
   "outputs": [
    {
     "name": "stdout",
     "output_type": "stream",
     "text": [
      "Fitting 5 folds for each of 108 candidates, totalling 540 fits\n",
      "[CV 1/5] END max_features=4, min_samples_leaf=1, min_samples_split=2, n_estimators=10;, score=0.999 total time=   0.1s\n",
      "[CV 2/5] END max_features=4, min_samples_leaf=1, min_samples_split=2, n_estimators=10;, score=0.998 total time=   0.1s\n",
      "[CV 3/5] END max_features=4, min_samples_leaf=1, min_samples_split=2, n_estimators=10;, score=0.999 total time=   0.1s\n",
      "[CV 4/5] END max_features=4, min_samples_leaf=1, min_samples_split=2, n_estimators=10;, score=0.999 total time=   0.2s\n",
      "[CV 5/5] END max_features=4, min_samples_leaf=1, min_samples_split=2, n_estimators=10;, score=0.998 total time=   0.1s\n",
      "[CV 1/5] END max_features=4, min_samples_leaf=1, min_samples_split=2, n_estimators=100;, score=0.999 total time=   1.8s\n",
      "[CV 2/5] END max_features=4, min_samples_leaf=1, min_samples_split=2, n_estimators=100;, score=0.998 total time=   1.7s\n",
      "[CV 3/5] END max_features=4, min_samples_leaf=1, min_samples_split=2, n_estimators=100;, score=0.999 total time=   1.8s\n",
      "[CV 4/5] END max_features=4, min_samples_leaf=1, min_samples_split=2, n_estimators=100;, score=0.999 total time=   1.9s\n",
      "[CV 5/5] END max_features=4, min_samples_leaf=1, min_samples_split=2, n_estimators=100;, score=0.998 total time=   2.0s\n",
      "[CV 1/5] END max_features=4, min_samples_leaf=1, min_samples_split=2, n_estimators=300;, score=0.999 total time=   5.6s\n",
      "[CV 2/5] END max_features=4, min_samples_leaf=1, min_samples_split=2, n_estimators=300;, score=0.998 total time=   4.9s\n",
      "[CV 3/5] END max_features=4, min_samples_leaf=1, min_samples_split=2, n_estimators=300;, score=0.999 total time=   5.3s\n",
      "[CV 4/5] END max_features=4, min_samples_leaf=1, min_samples_split=2, n_estimators=300;, score=0.999 total time=   5.4s\n",
      "[CV 5/5] END max_features=4, min_samples_leaf=1, min_samples_split=2, n_estimators=300;, score=0.998 total time=   5.1s\n",
      "[CV 1/5] END max_features=4, min_samples_leaf=1, min_samples_split=2, n_estimators=500;, score=0.999 total time=   9.0s\n",
      "[CV 2/5] END max_features=4, min_samples_leaf=1, min_samples_split=2, n_estimators=500;, score=0.998 total time=   8.0s\n",
      "[CV 3/5] END max_features=4, min_samples_leaf=1, min_samples_split=2, n_estimators=500;, score=0.999 total time=   8.6s\n",
      "[CV 4/5] END max_features=4, min_samples_leaf=1, min_samples_split=2, n_estimators=500;, score=0.999 total time=   9.3s\n",
      "[CV 5/5] END max_features=4, min_samples_leaf=1, min_samples_split=2, n_estimators=500;, score=0.998 total time=  10.0s\n",
      "[CV 1/5] END max_features=4, min_samples_leaf=1, min_samples_split=5, n_estimators=10;, score=0.999 total time=   0.2s\n",
      "[CV 2/5] END max_features=4, min_samples_leaf=1, min_samples_split=5, n_estimators=10;, score=0.998 total time=   0.1s\n",
      "[CV 3/5] END max_features=4, min_samples_leaf=1, min_samples_split=5, n_estimators=10;, score=0.999 total time=   0.2s\n",
      "[CV 4/5] END max_features=4, min_samples_leaf=1, min_samples_split=5, n_estimators=10;, score=0.999 total time=   0.1s\n",
      "[CV 5/5] END max_features=4, min_samples_leaf=1, min_samples_split=5, n_estimators=10;, score=0.998 total time=   0.1s\n",
      "[CV 1/5] END max_features=4, min_samples_leaf=1, min_samples_split=5, n_estimators=100;, score=0.999 total time=   2.1s\n",
      "[CV 2/5] END max_features=4, min_samples_leaf=1, min_samples_split=5, n_estimators=100;, score=0.998 total time=   1.8s\n",
      "[CV 3/5] END max_features=4, min_samples_leaf=1, min_samples_split=5, n_estimators=100;, score=0.999 total time=   1.9s\n",
      "[CV 4/5] END max_features=4, min_samples_leaf=1, min_samples_split=5, n_estimators=100;, score=0.999 total time=   1.8s\n",
      "[CV 5/5] END max_features=4, min_samples_leaf=1, min_samples_split=5, n_estimators=100;, score=0.998 total time=   2.0s\n",
      "[CV 1/5] END max_features=4, min_samples_leaf=1, min_samples_split=5, n_estimators=300;, score=0.999 total time=   6.3s\n",
      "[CV 2/5] END max_features=4, min_samples_leaf=1, min_samples_split=5, n_estimators=300;, score=0.998 total time=   5.6s\n",
      "[CV 3/5] END max_features=4, min_samples_leaf=1, min_samples_split=5, n_estimators=300;, score=0.999 total time=   5.9s\n",
      "[CV 4/5] END max_features=4, min_samples_leaf=1, min_samples_split=5, n_estimators=300;, score=0.999 total time=   6.0s\n",
      "[CV 5/5] END max_features=4, min_samples_leaf=1, min_samples_split=5, n_estimators=300;, score=0.998 total time=   6.3s\n",
      "[CV 1/5] END max_features=4, min_samples_leaf=1, min_samples_split=5, n_estimators=500;, score=0.999 total time=  10.2s\n",
      "[CV 2/5] END max_features=4, min_samples_leaf=1, min_samples_split=5, n_estimators=500;, score=0.998 total time=   8.9s\n",
      "[CV 3/5] END max_features=4, min_samples_leaf=1, min_samples_split=5, n_estimators=500;, score=0.999 total time=   9.3s\n",
      "[CV 4/5] END max_features=4, min_samples_leaf=1, min_samples_split=5, n_estimators=500;, score=0.999 total time=   8.7s\n",
      "[CV 5/5] END max_features=4, min_samples_leaf=1, min_samples_split=5, n_estimators=500;, score=0.998 total time=   8.8s\n",
      "[CV 1/5] END max_features=4, min_samples_leaf=1, min_samples_split=12, n_estimators=10;, score=0.999 total time=   0.1s\n",
      "[CV 2/5] END max_features=4, min_samples_leaf=1, min_samples_split=12, n_estimators=10;, score=0.998 total time=   0.1s\n",
      "[CV 3/5] END max_features=4, min_samples_leaf=1, min_samples_split=12, n_estimators=10;, score=0.999 total time=   0.1s\n",
      "[CV 4/5] END max_features=4, min_samples_leaf=1, min_samples_split=12, n_estimators=10;, score=0.999 total time=   0.1s\n",
      "[CV 5/5] END max_features=4, min_samples_leaf=1, min_samples_split=12, n_estimators=10;, score=0.998 total time=   0.1s\n",
      "[CV 1/5] END max_features=4, min_samples_leaf=1, min_samples_split=12, n_estimators=100;, score=0.999 total time=   1.8s\n",
      "[CV 2/5] END max_features=4, min_samples_leaf=1, min_samples_split=12, n_estimators=100;, score=0.998 total time=   1.6s\n",
      "[CV 3/5] END max_features=4, min_samples_leaf=1, min_samples_split=12, n_estimators=100;, score=0.999 total time=   1.7s\n",
      "[CV 4/5] END max_features=4, min_samples_leaf=1, min_samples_split=12, n_estimators=100;, score=0.998 total time=   1.7s\n",
      "[CV 5/5] END max_features=4, min_samples_leaf=1, min_samples_split=12, n_estimators=100;, score=0.998 total time=   1.8s\n",
      "[CV 1/5] END max_features=4, min_samples_leaf=1, min_samples_split=12, n_estimators=300;, score=0.999 total time=   5.3s\n",
      "[CV 2/5] END max_features=4, min_samples_leaf=1, min_samples_split=12, n_estimators=300;, score=0.998 total time=   5.0s\n",
      "[CV 3/5] END max_features=4, min_samples_leaf=1, min_samples_split=12, n_estimators=300;, score=0.999 total time=   5.1s\n",
      "[CV 4/5] END max_features=4, min_samples_leaf=1, min_samples_split=12, n_estimators=300;, score=0.998 total time=   5.7s\n",
      "[CV 5/5] END max_features=4, min_samples_leaf=1, min_samples_split=12, n_estimators=300;, score=0.998 total time=   5.9s\n",
      "[CV 1/5] END max_features=4, min_samples_leaf=1, min_samples_split=12, n_estimators=500;, score=0.999 total time=   9.2s\n",
      "[CV 2/5] END max_features=4, min_samples_leaf=1, min_samples_split=12, n_estimators=500;, score=0.998 total time=   9.6s\n",
      "[CV 3/5] END max_features=4, min_samples_leaf=1, min_samples_split=12, n_estimators=500;, score=0.999 total time=   9.5s\n",
      "[CV 4/5] END max_features=4, min_samples_leaf=1, min_samples_split=12, n_estimators=500;, score=0.998 total time=   9.7s\n",
      "[CV 5/5] END max_features=4, min_samples_leaf=1, min_samples_split=12, n_estimators=500;, score=0.998 total time=   8.9s\n",
      "[CV 1/5] END max_features=4, min_samples_leaf=3, min_samples_split=2, n_estimators=10;, score=0.999 total time=   0.1s\n",
      "[CV 2/5] END max_features=4, min_samples_leaf=3, min_samples_split=2, n_estimators=10;, score=0.998 total time=   0.1s\n",
      "[CV 3/5] END max_features=4, min_samples_leaf=3, min_samples_split=2, n_estimators=10;, score=0.998 total time=   0.1s\n",
      "[CV 4/5] END max_features=4, min_samples_leaf=3, min_samples_split=2, n_estimators=10;, score=0.998 total time=   0.1s\n",
      "[CV 5/5] END max_features=4, min_samples_leaf=3, min_samples_split=2, n_estimators=10;, score=0.998 total time=   0.1s\n",
      "[CV 1/5] END max_features=4, min_samples_leaf=3, min_samples_split=2, n_estimators=100;, score=0.999 total time=   1.7s\n",
      "[CV 2/5] END max_features=4, min_samples_leaf=3, min_samples_split=2, n_estimators=100;, score=0.998 total time=   1.6s\n",
      "[CV 3/5] END max_features=4, min_samples_leaf=3, min_samples_split=2, n_estimators=100;, score=0.998 total time=   1.6s\n",
      "[CV 4/5] END max_features=4, min_samples_leaf=3, min_samples_split=2, n_estimators=100;, score=0.998 total time=   1.7s\n",
      "[CV 5/5] END max_features=4, min_samples_leaf=3, min_samples_split=2, n_estimators=100;, score=0.998 total time=   1.7s\n",
      "[CV 1/5] END max_features=4, min_samples_leaf=3, min_samples_split=2, n_estimators=300;, score=0.999 total time=   5.3s\n",
      "[CV 2/5] END max_features=4, min_samples_leaf=3, min_samples_split=2, n_estimators=300;, score=0.998 total time=   5.0s\n",
      "[CV 3/5] END max_features=4, min_samples_leaf=3, min_samples_split=2, n_estimators=300;, score=0.998 total time=   5.1s\n",
      "[CV 4/5] END max_features=4, min_samples_leaf=3, min_samples_split=2, n_estimators=300;, score=0.998 total time=   5.0s\n",
      "[CV 5/5] END max_features=4, min_samples_leaf=3, min_samples_split=2, n_estimators=300;, score=0.998 total time=   5.1s\n",
      "[CV 1/5] END max_features=4, min_samples_leaf=3, min_samples_split=2, n_estimators=500;, score=0.999 total time=   8.9s\n",
      "[CV 2/5] END max_features=4, min_samples_leaf=3, min_samples_split=2, n_estimators=500;, score=0.998 total time=   8.2s\n",
      "[CV 3/5] END max_features=4, min_samples_leaf=3, min_samples_split=2, n_estimators=500;, score=0.998 total time=   8.6s\n",
      "[CV 4/5] END max_features=4, min_samples_leaf=3, min_samples_split=2, n_estimators=500;, score=0.998 total time=   8.6s\n",
      "[CV 5/5] END max_features=4, min_samples_leaf=3, min_samples_split=2, n_estimators=500;, score=0.998 total time=   8.6s\n",
      "[CV 1/5] END max_features=4, min_samples_leaf=3, min_samples_split=5, n_estimators=10;, score=0.999 total time=   0.1s\n",
      "[CV 2/5] END max_features=4, min_samples_leaf=3, min_samples_split=5, n_estimators=10;, score=0.998 total time=   0.1s\n",
      "[CV 3/5] END max_features=4, min_samples_leaf=3, min_samples_split=5, n_estimators=10;, score=0.998 total time=   0.1s\n",
      "[CV 4/5] END max_features=4, min_samples_leaf=3, min_samples_split=5, n_estimators=10;, score=0.998 total time=   0.1s\n",
      "[CV 5/5] END max_features=4, min_samples_leaf=3, min_samples_split=5, n_estimators=10;, score=0.998 total time=   0.1s\n",
      "[CV 1/5] END max_features=4, min_samples_leaf=3, min_samples_split=5, n_estimators=100;, score=0.999 total time=   1.8s\n",
      "[CV 2/5] END max_features=4, min_samples_leaf=3, min_samples_split=5, n_estimators=100;, score=0.998 total time=   1.5s\n",
      "[CV 3/5] END max_features=4, min_samples_leaf=3, min_samples_split=5, n_estimators=100;, score=0.998 total time=   1.6s\n",
      "[CV 4/5] END max_features=4, min_samples_leaf=3, min_samples_split=5, n_estimators=100;, score=0.998 total time=   1.6s\n",
      "[CV 5/5] END max_features=4, min_samples_leaf=3, min_samples_split=5, n_estimators=100;, score=0.998 total time=   1.6s\n",
      "[CV 1/5] END max_features=4, min_samples_leaf=3, min_samples_split=5, n_estimators=300;, score=0.999 total time=   5.0s\n",
      "[CV 2/5] END max_features=4, min_samples_leaf=3, min_samples_split=5, n_estimators=300;, score=0.998 total time=   4.8s\n",
      "[CV 3/5] END max_features=4, min_samples_leaf=3, min_samples_split=5, n_estimators=300;, score=0.998 total time=   5.3s\n",
      "[CV 4/5] END max_features=4, min_samples_leaf=3, min_samples_split=5, n_estimators=300;, score=0.998 total time=   5.2s\n",
      "[CV 5/5] END max_features=4, min_samples_leaf=3, min_samples_split=5, n_estimators=300;, score=0.998 total time=   5.0s\n",
      "[CV 1/5] END max_features=4, min_samples_leaf=3, min_samples_split=5, n_estimators=500;, score=0.999 total time=   8.5s\n",
      "[CV 2/5] END max_features=4, min_samples_leaf=3, min_samples_split=5, n_estimators=500;, score=0.998 total time=   8.1s\n",
      "[CV 3/5] END max_features=4, min_samples_leaf=3, min_samples_split=5, n_estimators=500;, score=0.998 total time=   8.5s\n",
      "[CV 4/5] END max_features=4, min_samples_leaf=3, min_samples_split=5, n_estimators=500;, score=0.998 total time=   8.7s\n",
      "[CV 5/5] END max_features=4, min_samples_leaf=3, min_samples_split=5, n_estimators=500;, score=0.998 total time=   8.6s\n",
      "[CV 1/5] END max_features=4, min_samples_leaf=3, min_samples_split=12, n_estimators=10;, score=0.999 total time=   0.1s\n",
      "[CV 2/5] END max_features=4, min_samples_leaf=3, min_samples_split=12, n_estimators=10;, score=0.998 total time=   0.1s\n",
      "[CV 3/5] END max_features=4, min_samples_leaf=3, min_samples_split=12, n_estimators=10;, score=0.998 total time=   0.1s\n",
      "[CV 4/5] END max_features=4, min_samples_leaf=3, min_samples_split=12, n_estimators=10;, score=0.998 total time=   0.1s\n",
      "[CV 5/5] END max_features=4, min_samples_leaf=3, min_samples_split=12, n_estimators=10;, score=0.998 total time=   0.1s\n",
      "[CV 1/5] END max_features=4, min_samples_leaf=3, min_samples_split=12, n_estimators=100;, score=0.999 total time=   1.7s\n",
      "[CV 2/5] END max_features=4, min_samples_leaf=3, min_samples_split=12, n_estimators=100;, score=0.998 total time=   1.6s\n",
      "[CV 3/5] END max_features=4, min_samples_leaf=3, min_samples_split=12, n_estimators=100;, score=0.998 total time=   1.7s\n",
      "[CV 4/5] END max_features=4, min_samples_leaf=3, min_samples_split=12, n_estimators=100;, score=0.998 total time=   1.8s\n",
      "[CV 5/5] END max_features=4, min_samples_leaf=3, min_samples_split=12, n_estimators=100;, score=0.998 total time=   1.6s\n",
      "[CV 1/5] END max_features=4, min_samples_leaf=3, min_samples_split=12, n_estimators=300;, score=0.999 total time=   5.1s\n",
      "[CV 2/5] END max_features=4, min_samples_leaf=3, min_samples_split=12, n_estimators=300;, score=0.998 total time=   5.5s\n",
      "[CV 3/5] END max_features=4, min_samples_leaf=3, min_samples_split=12, n_estimators=300;, score=0.998 total time=   6.0s\n",
      "[CV 4/5] END max_features=4, min_samples_leaf=3, min_samples_split=12, n_estimators=300;, score=0.998 total time=   5.9s\n",
      "[CV 5/5] END max_features=4, min_samples_leaf=3, min_samples_split=12, n_estimators=300;, score=0.998 total time=   5.9s\n",
      "[CV 1/5] END max_features=4, min_samples_leaf=3, min_samples_split=12, n_estimators=500;, score=0.999 total time=   9.9s\n",
      "[CV 2/5] END max_features=4, min_samples_leaf=3, min_samples_split=12, n_estimators=500;, score=0.998 total time=   8.6s\n",
      "[CV 3/5] END max_features=4, min_samples_leaf=3, min_samples_split=12, n_estimators=500;, score=0.998 total time=  10.1s\n",
      "[CV 4/5] END max_features=4, min_samples_leaf=3, min_samples_split=12, n_estimators=500;, score=0.998 total time=   9.6s\n",
      "[CV 5/5] END max_features=4, min_samples_leaf=3, min_samples_split=12, n_estimators=500;, score=0.998 total time=   9.1s\n",
      "[CV 1/5] END max_features=4, min_samples_leaf=5, min_samples_split=2, n_estimators=10;, score=0.999 total time=   0.1s\n",
      "[CV 2/5] END max_features=4, min_samples_leaf=5, min_samples_split=2, n_estimators=10;, score=0.998 total time=   0.1s\n",
      "[CV 3/5] END max_features=4, min_samples_leaf=5, min_samples_split=2, n_estimators=10;, score=0.998 total time=   0.1s\n",
      "[CV 4/5] END max_features=4, min_samples_leaf=5, min_samples_split=2, n_estimators=10;, score=0.998 total time=   0.1s\n",
      "[CV 5/5] END max_features=4, min_samples_leaf=5, min_samples_split=2, n_estimators=10;, score=0.998 total time=   0.1s\n",
      "[CV 1/5] END max_features=4, min_samples_leaf=5, min_samples_split=2, n_estimators=100;, score=0.999 total time=   1.8s\n",
      "[CV 2/5] END max_features=4, min_samples_leaf=5, min_samples_split=2, n_estimators=100;, score=0.998 total time=   1.6s\n",
      "[CV 3/5] END max_features=4, min_samples_leaf=5, min_samples_split=2, n_estimators=100;, score=0.998 total time=   1.6s\n",
      "[CV 4/5] END max_features=4, min_samples_leaf=5, min_samples_split=2, n_estimators=100;, score=0.998 total time=   1.6s\n",
      "[CV 5/5] END max_features=4, min_samples_leaf=5, min_samples_split=2, n_estimators=100;, score=0.998 total time=   1.6s\n",
      "[CV 1/5] END max_features=4, min_samples_leaf=5, min_samples_split=2, n_estimators=300;, score=0.999 total time=   5.0s\n",
      "[CV 2/5] END max_features=4, min_samples_leaf=5, min_samples_split=2, n_estimators=300;, score=0.998 total time=   4.8s\n",
      "[CV 3/5] END max_features=4, min_samples_leaf=5, min_samples_split=2, n_estimators=300;, score=0.998 total time=   5.0s\n",
      "[CV 4/5] END max_features=4, min_samples_leaf=5, min_samples_split=2, n_estimators=300;, score=0.998 total time=   5.0s\n",
      "[CV 5/5] END max_features=4, min_samples_leaf=5, min_samples_split=2, n_estimators=300;, score=0.998 total time=   5.1s\n",
      "[CV 1/5] END max_features=4, min_samples_leaf=5, min_samples_split=2, n_estimators=500;, score=0.999 total time=   8.8s\n",
      "[CV 2/5] END max_features=4, min_samples_leaf=5, min_samples_split=2, n_estimators=500;, score=0.998 total time=   9.2s\n",
      "[CV 3/5] END max_features=4, min_samples_leaf=5, min_samples_split=2, n_estimators=500;, score=0.998 total time=   9.7s\n",
      "[CV 4/5] END max_features=4, min_samples_leaf=5, min_samples_split=2, n_estimators=500;, score=0.998 total time=   9.4s\n",
      "[CV 5/5] END max_features=4, min_samples_leaf=5, min_samples_split=2, n_estimators=500;, score=0.998 total time=   8.9s\n",
      "[CV 1/5] END max_features=4, min_samples_leaf=5, min_samples_split=5, n_estimators=10;, score=0.999 total time=   0.1s\n",
      "[CV 2/5] END max_features=4, min_samples_leaf=5, min_samples_split=5, n_estimators=10;, score=0.998 total time=   0.1s\n",
      "[CV 3/5] END max_features=4, min_samples_leaf=5, min_samples_split=5, n_estimators=10;, score=0.998 total time=   0.1s\n",
      "[CV 4/5] END max_features=4, min_samples_leaf=5, min_samples_split=5, n_estimators=10;, score=0.998 total time=   0.1s\n",
      "[CV 5/5] END max_features=4, min_samples_leaf=5, min_samples_split=5, n_estimators=10;, score=0.998 total time=   0.1s\n",
      "[CV 1/5] END max_features=4, min_samples_leaf=5, min_samples_split=5, n_estimators=100;, score=0.999 total time=   1.6s\n",
      "[CV 2/5] END max_features=4, min_samples_leaf=5, min_samples_split=5, n_estimators=100;, score=0.998 total time=   1.6s\n",
      "[CV 3/5] END max_features=4, min_samples_leaf=5, min_samples_split=5, n_estimators=100;, score=0.998 total time=   1.6s\n",
      "[CV 4/5] END max_features=4, min_samples_leaf=5, min_samples_split=5, n_estimators=100;, score=0.998 total time=   1.7s\n",
      "[CV 5/5] END max_features=4, min_samples_leaf=5, min_samples_split=5, n_estimators=100;, score=0.998 total time=   1.7s\n",
      "[CV 1/5] END max_features=4, min_samples_leaf=5, min_samples_split=5, n_estimators=300;, score=0.999 total time=   5.1s\n",
      "[CV 2/5] END max_features=4, min_samples_leaf=5, min_samples_split=5, n_estimators=300;, score=0.998 total time=   5.0s\n",
      "[CV 3/5] END max_features=4, min_samples_leaf=5, min_samples_split=5, n_estimators=300;, score=0.998 total time=   5.0s\n",
      "[CV 4/5] END max_features=4, min_samples_leaf=5, min_samples_split=5, n_estimators=300;, score=0.998 total time=   5.1s\n",
      "[CV 5/5] END max_features=4, min_samples_leaf=5, min_samples_split=5, n_estimators=300;, score=0.998 total time=   5.5s\n",
      "[CV 1/5] END max_features=4, min_samples_leaf=5, min_samples_split=5, n_estimators=500;, score=0.999 total time=   8.8s\n",
      "[CV 2/5] END max_features=4, min_samples_leaf=5, min_samples_split=5, n_estimators=500;, score=0.998 total time=   8.1s\n",
      "[CV 3/5] END max_features=4, min_samples_leaf=5, min_samples_split=5, n_estimators=500;, score=0.998 total time=   8.6s\n",
      "[CV 4/5] END max_features=4, min_samples_leaf=5, min_samples_split=5, n_estimators=500;, score=0.998 total time=   8.3s\n",
      "[CV 5/5] END max_features=4, min_samples_leaf=5, min_samples_split=5, n_estimators=500;, score=0.998 total time=   8.6s\n",
      "[CV 1/5] END max_features=4, min_samples_leaf=5, min_samples_split=12, n_estimators=10;, score=0.999 total time=   0.1s\n",
      "[CV 2/5] END max_features=4, min_samples_leaf=5, min_samples_split=12, n_estimators=10;, score=0.998 total time=   0.1s\n",
      "[CV 3/5] END max_features=4, min_samples_leaf=5, min_samples_split=12, n_estimators=10;, score=0.998 total time=   0.1s\n",
      "[CV 4/5] END max_features=4, min_samples_leaf=5, min_samples_split=12, n_estimators=10;, score=0.998 total time=   0.1s\n",
      "[CV 5/5] END max_features=4, min_samples_leaf=5, min_samples_split=12, n_estimators=10;, score=0.998 total time=   0.1s\n",
      "[CV 1/5] END max_features=4, min_samples_leaf=5, min_samples_split=12, n_estimators=100;, score=0.999 total time=   1.6s\n",
      "[CV 2/5] END max_features=4, min_samples_leaf=5, min_samples_split=12, n_estimators=100;, score=0.998 total time=   1.5s\n",
      "[CV 3/5] END max_features=4, min_samples_leaf=5, min_samples_split=12, n_estimators=100;, score=0.998 total time=   1.6s\n",
      "[CV 4/5] END max_features=4, min_samples_leaf=5, min_samples_split=12, n_estimators=100;, score=0.998 total time=   1.6s\n",
      "[CV 5/5] END max_features=4, min_samples_leaf=5, min_samples_split=12, n_estimators=100;, score=0.998 total time=   1.6s\n",
      "[CV 1/5] END max_features=4, min_samples_leaf=5, min_samples_split=12, n_estimators=300;, score=0.999 total time=   5.1s\n",
      "[CV 2/5] END max_features=4, min_samples_leaf=5, min_samples_split=12, n_estimators=300;, score=0.998 total time=   4.7s\n",
      "[CV 3/5] END max_features=4, min_samples_leaf=5, min_samples_split=12, n_estimators=300;, score=0.998 total time=   5.0s\n",
      "[CV 4/5] END max_features=4, min_samples_leaf=5, min_samples_split=12, n_estimators=300;, score=0.998 total time=   5.1s\n",
      "[CV 5/5] END max_features=4, min_samples_leaf=5, min_samples_split=12, n_estimators=300;, score=0.998 total time=   4.9s\n",
      "[CV 1/5] END max_features=4, min_samples_leaf=5, min_samples_split=12, n_estimators=500;, score=0.999 total time=   8.5s\n",
      "[CV 2/5] END max_features=4, min_samples_leaf=5, min_samples_split=12, n_estimators=500;, score=0.998 total time=   8.2s\n",
      "[CV 3/5] END max_features=4, min_samples_leaf=5, min_samples_split=12, n_estimators=500;, score=0.998 total time=   8.5s\n",
      "[CV 4/5] END max_features=4, min_samples_leaf=5, min_samples_split=12, n_estimators=500;, score=0.998 total time=   8.3s\n",
      "[CV 5/5] END max_features=4, min_samples_leaf=5, min_samples_split=12, n_estimators=500;, score=0.998 total time=   8.4s\n",
      "[CV 1/5] END max_features=6, min_samples_leaf=1, min_samples_split=2, n_estimators=10;, score=0.999 total time=   0.1s\n",
      "[CV 2/5] END max_features=6, min_samples_leaf=1, min_samples_split=2, n_estimators=10;, score=0.998 total time=   0.1s\n",
      "[CV 3/5] END max_features=6, min_samples_leaf=1, min_samples_split=2, n_estimators=10;, score=0.999 total time=   0.1s\n",
      "[CV 4/5] END max_features=6, min_samples_leaf=1, min_samples_split=2, n_estimators=10;, score=0.998 total time=   0.1s\n",
      "[CV 5/5] END max_features=6, min_samples_leaf=1, min_samples_split=2, n_estimators=10;, score=0.998 total time=   0.1s\n",
      "[CV 1/5] END max_features=6, min_samples_leaf=1, min_samples_split=2, n_estimators=100;, score=0.999 total time=   1.9s\n",
      "[CV 2/5] END max_features=6, min_samples_leaf=1, min_samples_split=2, n_estimators=100;, score=0.998 total time=   1.8s\n",
      "[CV 3/5] END max_features=6, min_samples_leaf=1, min_samples_split=2, n_estimators=100;, score=0.999 total time=   1.9s\n",
      "[CV 4/5] END max_features=6, min_samples_leaf=1, min_samples_split=2, n_estimators=100;, score=0.999 total time=   1.9s\n",
      "[CV 5/5] END max_features=6, min_samples_leaf=1, min_samples_split=2, n_estimators=100;, score=0.998 total time=   1.9s\n",
      "[CV 1/5] END max_features=6, min_samples_leaf=1, min_samples_split=2, n_estimators=300;, score=0.999 total time=   6.3s\n",
      "[CV 2/5] END max_features=6, min_samples_leaf=1, min_samples_split=2, n_estimators=300;, score=0.998 total time=   6.2s\n",
      "[CV 3/5] END max_features=6, min_samples_leaf=1, min_samples_split=2, n_estimators=300;, score=0.999 total time=   6.6s\n",
      "[CV 4/5] END max_features=6, min_samples_leaf=1, min_samples_split=2, n_estimators=300;, score=0.999 total time=   6.7s\n",
      "[CV 5/5] END max_features=6, min_samples_leaf=1, min_samples_split=2, n_estimators=300;, score=0.998 total time=   6.7s\n",
      "[CV 1/5] END max_features=6, min_samples_leaf=1, min_samples_split=2, n_estimators=500;, score=0.999 total time=  10.3s\n",
      "[CV 2/5] END max_features=6, min_samples_leaf=1, min_samples_split=2, n_estimators=500;, score=0.998 total time=   9.8s\n",
      "[CV 3/5] END max_features=6, min_samples_leaf=1, min_samples_split=2, n_estimators=500;, score=0.999 total time=  10.1s\n",
      "[CV 4/5] END max_features=6, min_samples_leaf=1, min_samples_split=2, n_estimators=500;, score=0.999 total time=  10.1s\n",
      "[CV 5/5] END max_features=6, min_samples_leaf=1, min_samples_split=2, n_estimators=500;, score=0.998 total time=  10.1s\n",
      "[CV 1/5] END max_features=6, min_samples_leaf=1, min_samples_split=5, n_estimators=10;, score=0.999 total time=   0.1s\n",
      "[CV 2/5] END max_features=6, min_samples_leaf=1, min_samples_split=5, n_estimators=10;, score=0.998 total time=   0.1s\n",
      "[CV 3/5] END max_features=6, min_samples_leaf=1, min_samples_split=5, n_estimators=10;, score=0.999 total time=   0.1s\n",
      "[CV 4/5] END max_features=6, min_samples_leaf=1, min_samples_split=5, n_estimators=10;, score=0.998 total time=   0.1s\n",
      "[CV 5/5] END max_features=6, min_samples_leaf=1, min_samples_split=5, n_estimators=10;, score=0.997 total time=   0.1s\n",
      "[CV 1/5] END max_features=6, min_samples_leaf=1, min_samples_split=5, n_estimators=100;, score=0.999 total time=   2.0s\n",
      "[CV 2/5] END max_features=6, min_samples_leaf=1, min_samples_split=5, n_estimators=100;, score=0.998 total time=   1.9s\n",
      "[CV 3/5] END max_features=6, min_samples_leaf=1, min_samples_split=5, n_estimators=100;, score=0.999 total time=   2.0s\n",
      "[CV 4/5] END max_features=6, min_samples_leaf=1, min_samples_split=5, n_estimators=100;, score=0.999 total time=   1.9s\n",
      "[CV 5/5] END max_features=6, min_samples_leaf=1, min_samples_split=5, n_estimators=100;, score=0.998 total time=   2.0s\n",
      "[CV 1/5] END max_features=6, min_samples_leaf=1, min_samples_split=5, n_estimators=300;, score=0.999 total time=   5.9s\n",
      "[CV 2/5] END max_features=6, min_samples_leaf=1, min_samples_split=5, n_estimators=300;, score=0.998 total time=   5.7s\n",
      "[CV 3/5] END max_features=6, min_samples_leaf=1, min_samples_split=5, n_estimators=300;, score=0.999 total time=   6.0s\n",
      "[CV 4/5] END max_features=6, min_samples_leaf=1, min_samples_split=5, n_estimators=300;, score=0.999 total time=   6.0s\n",
      "[CV 5/5] END max_features=6, min_samples_leaf=1, min_samples_split=5, n_estimators=300;, score=0.998 total time=   6.5s\n",
      "[CV 1/5] END max_features=6, min_samples_leaf=1, min_samples_split=5, n_estimators=500;, score=0.999 total time=  11.5s\n",
      "[CV 2/5] END max_features=6, min_samples_leaf=1, min_samples_split=5, n_estimators=500;, score=0.998 total time=  11.1s\n",
      "[CV 3/5] END max_features=6, min_samples_leaf=1, min_samples_split=5, n_estimators=500;, score=0.999 total time=  10.2s\n",
      "[CV 4/5] END max_features=6, min_samples_leaf=1, min_samples_split=5, n_estimators=500;, score=0.999 total time=  10.3s\n",
      "[CV 5/5] END max_features=6, min_samples_leaf=1, min_samples_split=5, n_estimators=500;, score=0.998 total time=  10.4s\n",
      "[CV 1/5] END max_features=6, min_samples_leaf=1, min_samples_split=12, n_estimators=10;, score=0.999 total time=   0.2s\n",
      "[CV 2/5] END max_features=6, min_samples_leaf=1, min_samples_split=12, n_estimators=10;, score=0.998 total time=   0.1s\n",
      "[CV 3/5] END max_features=6, min_samples_leaf=1, min_samples_split=12, n_estimators=10;, score=0.999 total time=   0.1s\n",
      "[CV 4/5] END max_features=6, min_samples_leaf=1, min_samples_split=12, n_estimators=10;, score=0.998 total time=   0.1s\n",
      "[CV 5/5] END max_features=6, min_samples_leaf=1, min_samples_split=12, n_estimators=10;, score=0.998 total time=   0.2s\n",
      "[CV 1/5] END max_features=6, min_samples_leaf=1, min_samples_split=12, n_estimators=100;, score=0.999 total time=   2.0s\n",
      "[CV 2/5] END max_features=6, min_samples_leaf=1, min_samples_split=12, n_estimators=100;, score=0.998 total time=   1.9s\n",
      "[CV 3/5] END max_features=6, min_samples_leaf=1, min_samples_split=12, n_estimators=100;, score=0.999 total time=   2.0s\n",
      "[CV 4/5] END max_features=6, min_samples_leaf=1, min_samples_split=12, n_estimators=100;, score=0.998 total time=   2.2s\n",
      "[CV 5/5] END max_features=6, min_samples_leaf=1, min_samples_split=12, n_estimators=100;, score=0.998 total time=   2.3s\n",
      "[CV 1/5] END max_features=6, min_samples_leaf=1, min_samples_split=12, n_estimators=300;, score=0.999 total time=   6.8s\n",
      "[CV 2/5] END max_features=6, min_samples_leaf=1, min_samples_split=12, n_estimators=300;, score=0.998 total time=   6.3s\n",
      "[CV 3/5] END max_features=6, min_samples_leaf=1, min_samples_split=12, n_estimators=300;, score=0.999 total time=   6.9s\n",
      "[CV 4/5] END max_features=6, min_samples_leaf=1, min_samples_split=12, n_estimators=300;, score=0.999 total time=   7.1s\n",
      "[CV 5/5] END max_features=6, min_samples_leaf=1, min_samples_split=12, n_estimators=300;, score=0.998 total time=   6.6s\n",
      "[CV 1/5] END max_features=6, min_samples_leaf=1, min_samples_split=12, n_estimators=500;, score=0.999 total time=  11.0s\n",
      "[CV 2/5] END max_features=6, min_samples_leaf=1, min_samples_split=12, n_estimators=500;, score=0.998 total time=  12.7s\n",
      "[CV 3/5] END max_features=6, min_samples_leaf=1, min_samples_split=12, n_estimators=500;, score=0.999 total time=  13.9s\n",
      "[CV 4/5] END max_features=6, min_samples_leaf=1, min_samples_split=12, n_estimators=500;, score=0.999 total time=  13.7s\n",
      "[CV 5/5] END max_features=6, min_samples_leaf=1, min_samples_split=12, n_estimators=500;, score=0.998 total time=  11.0s\n",
      "[CV 1/5] END max_features=6, min_samples_leaf=3, min_samples_split=2, n_estimators=10;, score=0.999 total time=   0.2s\n",
      "[CV 2/5] END max_features=6, min_samples_leaf=3, min_samples_split=2, n_estimators=10;, score=0.998 total time=   0.2s\n",
      "[CV 3/5] END max_features=6, min_samples_leaf=3, min_samples_split=2, n_estimators=10;, score=0.998 total time=   0.2s\n",
      "[CV 4/5] END max_features=6, min_samples_leaf=3, min_samples_split=2, n_estimators=10;, score=0.998 total time=   0.2s\n",
      "[CV 5/5] END max_features=6, min_samples_leaf=3, min_samples_split=2, n_estimators=10;, score=0.998 total time=   0.2s\n",
      "[CV 1/5] END max_features=6, min_samples_leaf=3, min_samples_split=2, n_estimators=100;, score=0.999 total time=   2.1s\n",
      "[CV 2/5] END max_features=6, min_samples_leaf=3, min_samples_split=2, n_estimators=100;, score=0.998 total time=   2.2s\n",
      "[CV 3/5] END max_features=6, min_samples_leaf=3, min_samples_split=2, n_estimators=100;, score=0.998 total time=   2.4s\n",
      "[CV 4/5] END max_features=6, min_samples_leaf=3, min_samples_split=2, n_estimators=100;, score=0.998 total time=   2.0s\n",
      "[CV 5/5] END max_features=6, min_samples_leaf=3, min_samples_split=2, n_estimators=100;, score=0.998 total time=   2.2s\n",
      "[CV 1/5] END max_features=6, min_samples_leaf=3, min_samples_split=2, n_estimators=300;, score=0.999 total time=   6.4s\n",
      "[CV 2/5] END max_features=6, min_samples_leaf=3, min_samples_split=2, n_estimators=300;, score=0.998 total time=   6.7s\n",
      "[CV 3/5] END max_features=6, min_samples_leaf=3, min_samples_split=2, n_estimators=300;, score=0.998 total time=   6.8s\n",
      "[CV 4/5] END max_features=6, min_samples_leaf=3, min_samples_split=2, n_estimators=300;, score=0.998 total time=   6.8s\n",
      "[CV 5/5] END max_features=6, min_samples_leaf=3, min_samples_split=2, n_estimators=300;, score=0.998 total time=   6.9s\n",
      "[CV 1/5] END max_features=6, min_samples_leaf=3, min_samples_split=2, n_estimators=500;, score=0.999 total time=  11.3s\n",
      "[CV 2/5] END max_features=6, min_samples_leaf=3, min_samples_split=2, n_estimators=500;, score=0.998 total time=  10.6s\n",
      "[CV 3/5] END max_features=6, min_samples_leaf=3, min_samples_split=2, n_estimators=500;, score=0.998 total time=  11.4s\n",
      "[CV 4/5] END max_features=6, min_samples_leaf=3, min_samples_split=2, n_estimators=500;, score=0.998 total time=  11.2s\n",
      "[CV 5/5] END max_features=6, min_samples_leaf=3, min_samples_split=2, n_estimators=500;, score=0.998 total time=  10.1s\n",
      "[CV 1/5] END max_features=6, min_samples_leaf=3, min_samples_split=5, n_estimators=10;, score=0.999 total time=   0.1s\n",
      "[CV 2/5] END max_features=6, min_samples_leaf=3, min_samples_split=5, n_estimators=10;, score=0.998 total time=   0.1s\n",
      "[CV 3/5] END max_features=6, min_samples_leaf=3, min_samples_split=5, n_estimators=10;, score=0.998 total time=   0.2s\n",
      "[CV 4/5] END max_features=6, min_samples_leaf=3, min_samples_split=5, n_estimators=10;, score=0.998 total time=   0.2s\n",
      "[CV 5/5] END max_features=6, min_samples_leaf=3, min_samples_split=5, n_estimators=10;, score=0.998 total time=   0.2s\n",
      "[CV 1/5] END max_features=6, min_samples_leaf=3, min_samples_split=5, n_estimators=100;, score=0.999 total time=   2.1s\n",
      "[CV 2/5] END max_features=6, min_samples_leaf=3, min_samples_split=5, n_estimators=100;, score=0.998 total time=   2.1s\n",
      "[CV 3/5] END max_features=6, min_samples_leaf=3, min_samples_split=5, n_estimators=100;, score=0.998 total time=   2.2s\n",
      "[CV 4/5] END max_features=6, min_samples_leaf=3, min_samples_split=5, n_estimators=100;, score=0.998 total time=   2.2s\n",
      "[CV 5/5] END max_features=6, min_samples_leaf=3, min_samples_split=5, n_estimators=100;, score=0.998 total time=   2.3s\n",
      "[CV 1/5] END max_features=6, min_samples_leaf=3, min_samples_split=5, n_estimators=300;, score=0.999 total time=   6.3s\n",
      "[CV 2/5] END max_features=6, min_samples_leaf=3, min_samples_split=5, n_estimators=300;, score=0.998 total time=   5.8s\n",
      "[CV 3/5] END max_features=6, min_samples_leaf=3, min_samples_split=5, n_estimators=300;, score=0.998 total time=   6.5s\n",
      "[CV 4/5] END max_features=6, min_samples_leaf=3, min_samples_split=5, n_estimators=300;, score=0.998 total time=   6.5s\n",
      "[CV 5/5] END max_features=6, min_samples_leaf=3, min_samples_split=5, n_estimators=300;, score=0.998 total time=   6.0s\n",
      "[CV 1/5] END max_features=6, min_samples_leaf=3, min_samples_split=5, n_estimators=500;, score=0.999 total time=   9.9s\n",
      "[CV 2/5] END max_features=6, min_samples_leaf=3, min_samples_split=5, n_estimators=500;, score=0.998 total time=   9.9s\n",
      "[CV 3/5] END max_features=6, min_samples_leaf=3, min_samples_split=5, n_estimators=500;, score=0.998 total time=  10.1s\n",
      "[CV 4/5] END max_features=6, min_samples_leaf=3, min_samples_split=5, n_estimators=500;, score=0.998 total time=  10.2s\n",
      "[CV 5/5] END max_features=6, min_samples_leaf=3, min_samples_split=5, n_estimators=500;, score=0.998 total time=  10.2s\n",
      "[CV 1/5] END max_features=6, min_samples_leaf=3, min_samples_split=12, n_estimators=10;, score=0.999 total time=   0.1s\n",
      "[CV 2/5] END max_features=6, min_samples_leaf=3, min_samples_split=12, n_estimators=10;, score=0.998 total time=   0.1s\n",
      "[CV 3/5] END max_features=6, min_samples_leaf=3, min_samples_split=12, n_estimators=10;, score=0.998 total time=   0.1s\n",
      "[CV 4/5] END max_features=6, min_samples_leaf=3, min_samples_split=12, n_estimators=10;, score=0.998 total time=   0.1s\n",
      "[CV 5/5] END max_features=6, min_samples_leaf=3, min_samples_split=12, n_estimators=10;, score=0.998 total time=   0.1s\n",
      "[CV 1/5] END max_features=6, min_samples_leaf=3, min_samples_split=12, n_estimators=100;, score=0.999 total time=   2.0s\n",
      "[CV 2/5] END max_features=6, min_samples_leaf=3, min_samples_split=12, n_estimators=100;, score=0.998 total time=   1.9s\n",
      "[CV 3/5] END max_features=6, min_samples_leaf=3, min_samples_split=12, n_estimators=100;, score=0.998 total time=   2.0s\n",
      "[CV 4/5] END max_features=6, min_samples_leaf=3, min_samples_split=12, n_estimators=100;, score=0.998 total time=   2.0s\n",
      "[CV 5/5] END max_features=6, min_samples_leaf=3, min_samples_split=12, n_estimators=100;, score=0.998 total time=   1.9s\n",
      "[CV 1/5] END max_features=6, min_samples_leaf=3, min_samples_split=12, n_estimators=300;, score=0.999 total time=   6.0s\n",
      "[CV 2/5] END max_features=6, min_samples_leaf=3, min_samples_split=12, n_estimators=300;, score=0.998 total time=   6.0s\n",
      "[CV 3/5] END max_features=6, min_samples_leaf=3, min_samples_split=12, n_estimators=300;, score=0.998 total time=   6.3s\n",
      "[CV 4/5] END max_features=6, min_samples_leaf=3, min_samples_split=12, n_estimators=300;, score=0.998 total time=   6.2s\n",
      "[CV 5/5] END max_features=6, min_samples_leaf=3, min_samples_split=12, n_estimators=300;, score=0.998 total time=   6.0s\n",
      "[CV 1/5] END max_features=6, min_samples_leaf=3, min_samples_split=12, n_estimators=500;, score=0.999 total time=  10.0s\n",
      "[CV 2/5] END max_features=6, min_samples_leaf=3, min_samples_split=12, n_estimators=500;, score=0.998 total time=  10.6s\n",
      "[CV 3/5] END max_features=6, min_samples_leaf=3, min_samples_split=12, n_estimators=500;, score=0.998 total time=  10.2s\n",
      "[CV 4/5] END max_features=6, min_samples_leaf=3, min_samples_split=12, n_estimators=500;, score=0.998 total time=   9.9s\n",
      "[CV 5/5] END max_features=6, min_samples_leaf=3, min_samples_split=12, n_estimators=500;, score=0.998 total time=  10.4s\n",
      "[CV 1/5] END max_features=6, min_samples_leaf=5, min_samples_split=2, n_estimators=10;, score=0.999 total time=   0.1s\n",
      "[CV 2/5] END max_features=6, min_samples_leaf=5, min_samples_split=2, n_estimators=10;, score=0.998 total time=   0.1s\n",
      "[CV 3/5] END max_features=6, min_samples_leaf=5, min_samples_split=2, n_estimators=10;, score=0.998 total time=   0.1s\n",
      "[CV 4/5] END max_features=6, min_samples_leaf=5, min_samples_split=2, n_estimators=10;, score=0.998 total time=   0.2s\n",
      "[CV 5/5] END max_features=6, min_samples_leaf=5, min_samples_split=2, n_estimators=10;, score=0.998 total time=   0.1s\n",
      "[CV 1/5] END max_features=6, min_samples_leaf=5, min_samples_split=2, n_estimators=100;, score=0.999 total time=   2.0s\n",
      "[CV 2/5] END max_features=6, min_samples_leaf=5, min_samples_split=2, n_estimators=100;, score=0.998 total time=   1.9s\n",
      "[CV 3/5] END max_features=6, min_samples_leaf=5, min_samples_split=2, n_estimators=100;, score=0.998 total time=   2.0s\n",
      "[CV 4/5] END max_features=6, min_samples_leaf=5, min_samples_split=2, n_estimators=100;, score=0.998 total time=   2.0s\n",
      "[CV 5/5] END max_features=6, min_samples_leaf=5, min_samples_split=2, n_estimators=100;, score=0.998 total time=   2.0s\n",
      "[CV 1/5] END max_features=6, min_samples_leaf=5, min_samples_split=2, n_estimators=300;, score=0.999 total time=   6.1s\n",
      "[CV 2/5] END max_features=6, min_samples_leaf=5, min_samples_split=2, n_estimators=300;, score=0.998 total time=   6.6s\n",
      "[CV 3/5] END max_features=6, min_samples_leaf=5, min_samples_split=2, n_estimators=300;, score=0.998 total time=   6.7s\n",
      "[CV 4/5] END max_features=6, min_samples_leaf=5, min_samples_split=2, n_estimators=300;, score=0.998 total time=   6.4s\n",
      "[CV 5/5] END max_features=6, min_samples_leaf=5, min_samples_split=2, n_estimators=300;, score=0.998 total time=   6.5s\n",
      "[CV 1/5] END max_features=6, min_samples_leaf=5, min_samples_split=2, n_estimators=500;, score=0.999 total time=  10.8s\n",
      "[CV 2/5] END max_features=6, min_samples_leaf=5, min_samples_split=2, n_estimators=500;, score=0.998 total time=  10.1s\n",
      "[CV 3/5] END max_features=6, min_samples_leaf=5, min_samples_split=2, n_estimators=500;, score=0.998 total time=  10.2s\n",
      "[CV 4/5] END max_features=6, min_samples_leaf=5, min_samples_split=2, n_estimators=500;, score=0.998 total time=  10.1s\n",
      "[CV 5/5] END max_features=6, min_samples_leaf=5, min_samples_split=2, n_estimators=500;, score=0.998 total time=  10.0s\n",
      "[CV 1/5] END max_features=6, min_samples_leaf=5, min_samples_split=5, n_estimators=10;, score=0.999 total time=   0.1s\n",
      "[CV 2/5] END max_features=6, min_samples_leaf=5, min_samples_split=5, n_estimators=10;, score=0.998 total time=   0.1s\n",
      "[CV 3/5] END max_features=6, min_samples_leaf=5, min_samples_split=5, n_estimators=10;, score=0.998 total time=   0.1s\n",
      "[CV 4/5] END max_features=6, min_samples_leaf=5, min_samples_split=5, n_estimators=10;, score=0.998 total time=   0.1s\n",
      "[CV 5/5] END max_features=6, min_samples_leaf=5, min_samples_split=5, n_estimators=10;, score=0.998 total time=   0.1s\n",
      "[CV 1/5] END max_features=6, min_samples_leaf=5, min_samples_split=5, n_estimators=100;, score=0.999 total time=   1.9s\n",
      "[CV 2/5] END max_features=6, min_samples_leaf=5, min_samples_split=5, n_estimators=100;, score=0.998 total time=   1.9s\n",
      "[CV 3/5] END max_features=6, min_samples_leaf=5, min_samples_split=5, n_estimators=100;, score=0.998 total time=   1.9s\n",
      "[CV 4/5] END max_features=6, min_samples_leaf=5, min_samples_split=5, n_estimators=100;, score=0.998 total time=   1.9s\n",
      "[CV 5/5] END max_features=6, min_samples_leaf=5, min_samples_split=5, n_estimators=100;, score=0.998 total time=   2.0s\n",
      "[CV 1/5] END max_features=6, min_samples_leaf=5, min_samples_split=5, n_estimators=300;, score=0.999 total time=   5.9s\n",
      "[CV 2/5] END max_features=6, min_samples_leaf=5, min_samples_split=5, n_estimators=300;, score=0.998 total time=   5.7s\n",
      "[CV 3/5] END max_features=6, min_samples_leaf=5, min_samples_split=5, n_estimators=300;, score=0.998 total time=   5.9s\n",
      "[CV 4/5] END max_features=6, min_samples_leaf=5, min_samples_split=5, n_estimators=300;, score=0.998 total time=   6.1s\n",
      "[CV 5/5] END max_features=6, min_samples_leaf=5, min_samples_split=5, n_estimators=300;, score=0.998 total time=   6.4s\n",
      "[CV 1/5] END max_features=6, min_samples_leaf=5, min_samples_split=5, n_estimators=500;, score=0.999 total time=   9.9s\n",
      "[CV 2/5] END max_features=6, min_samples_leaf=5, min_samples_split=5, n_estimators=500;, score=0.998 total time=  10.3s\n",
      "[CV 3/5] END max_features=6, min_samples_leaf=5, min_samples_split=5, n_estimators=500;, score=0.998 total time=  10.1s\n",
      "[CV 4/5] END max_features=6, min_samples_leaf=5, min_samples_split=5, n_estimators=500;, score=0.998 total time=  10.1s\n",
      "[CV 5/5] END max_features=6, min_samples_leaf=5, min_samples_split=5, n_estimators=500;, score=0.998 total time=  10.4s\n",
      "[CV 1/5] END max_features=6, min_samples_leaf=5, min_samples_split=12, n_estimators=10;, score=0.999 total time=   0.2s\n",
      "[CV 2/5] END max_features=6, min_samples_leaf=5, min_samples_split=12, n_estimators=10;, score=0.998 total time=   0.1s\n",
      "[CV 3/5] END max_features=6, min_samples_leaf=5, min_samples_split=12, n_estimators=10;, score=0.998 total time=   0.2s\n",
      "[CV 4/5] END max_features=6, min_samples_leaf=5, min_samples_split=12, n_estimators=10;, score=0.998 total time=   0.1s\n",
      "[CV 5/5] END max_features=6, min_samples_leaf=5, min_samples_split=12, n_estimators=10;, score=0.998 total time=   0.1s\n",
      "[CV 1/5] END max_features=6, min_samples_leaf=5, min_samples_split=12, n_estimators=100;, score=0.999 total time=   2.1s\n",
      "[CV 2/5] END max_features=6, min_samples_leaf=5, min_samples_split=12, n_estimators=100;, score=0.998 total time=   1.9s\n",
      "[CV 3/5] END max_features=6, min_samples_leaf=5, min_samples_split=12, n_estimators=100;, score=0.998 total time=   1.9s\n",
      "[CV 4/5] END max_features=6, min_samples_leaf=5, min_samples_split=12, n_estimators=100;, score=0.998 total time=   2.0s\n",
      "[CV 5/5] END max_features=6, min_samples_leaf=5, min_samples_split=12, n_estimators=100;, score=0.998 total time=   2.0s\n",
      "[CV 1/5] END max_features=6, min_samples_leaf=5, min_samples_split=12, n_estimators=300;, score=0.999 total time=   6.0s\n",
      "[CV 2/5] END max_features=6, min_samples_leaf=5, min_samples_split=12, n_estimators=300;, score=0.998 total time=   6.1s\n",
      "[CV 3/5] END max_features=6, min_samples_leaf=5, min_samples_split=12, n_estimators=300;, score=0.998 total time=   6.0s\n",
      "[CV 4/5] END max_features=6, min_samples_leaf=5, min_samples_split=12, n_estimators=300;, score=0.998 total time=   6.0s\n",
      "[CV 5/5] END max_features=6, min_samples_leaf=5, min_samples_split=12, n_estimators=300;, score=0.998 total time=   6.2s\n",
      "[CV 1/5] END max_features=6, min_samples_leaf=5, min_samples_split=12, n_estimators=500;, score=0.999 total time=  10.1s\n",
      "[CV 2/5] END max_features=6, min_samples_leaf=5, min_samples_split=12, n_estimators=500;, score=0.998 total time=   9.7s\n",
      "[CV 3/5] END max_features=6, min_samples_leaf=5, min_samples_split=12, n_estimators=500;, score=0.998 total time=  10.2s\n",
      "[CV 4/5] END max_features=6, min_samples_leaf=5, min_samples_split=12, n_estimators=500;, score=0.998 total time=  10.8s\n",
      "[CV 5/5] END max_features=6, min_samples_leaf=5, min_samples_split=12, n_estimators=500;, score=0.998 total time=  21.3s\n",
      "[CV 1/5] END max_features=8, min_samples_leaf=1, min_samples_split=2, n_estimators=10;, score=0.999 total time=   0.4s\n",
      "[CV 2/5] END max_features=8, min_samples_leaf=1, min_samples_split=2, n_estimators=10;, score=0.997 total time=   0.4s\n",
      "[CV 3/5] END max_features=8, min_samples_leaf=1, min_samples_split=2, n_estimators=10;, score=0.999 total time=   0.4s\n",
      "[CV 4/5] END max_features=8, min_samples_leaf=1, min_samples_split=2, n_estimators=10;, score=0.998 total time=   0.4s\n",
      "[CV 5/5] END max_features=8, min_samples_leaf=1, min_samples_split=2, n_estimators=10;, score=0.998 total time=   0.5s\n",
      "[CV 1/5] END max_features=8, min_samples_leaf=1, min_samples_split=2, n_estimators=100;, score=0.999 total time=   5.5s\n",
      "[CV 2/5] END max_features=8, min_samples_leaf=1, min_samples_split=2, n_estimators=100;, score=0.998 total time=   4.8s\n",
      "[CV 3/5] END max_features=8, min_samples_leaf=1, min_samples_split=2, n_estimators=100;, score=0.999 total time=   4.8s\n",
      "[CV 4/5] END max_features=8, min_samples_leaf=1, min_samples_split=2, n_estimators=100;, score=0.998 total time=   4.9s\n",
      "[CV 5/5] END max_features=8, min_samples_leaf=1, min_samples_split=2, n_estimators=100;, score=0.998 total time=   5.1s\n",
      "[CV 1/5] END max_features=8, min_samples_leaf=1, min_samples_split=2, n_estimators=300;, score=0.999 total time=  14.3s\n",
      "[CV 2/5] END max_features=8, min_samples_leaf=1, min_samples_split=2, n_estimators=300;, score=0.998 total time=  14.5s\n",
      "[CV 3/5] END max_features=8, min_samples_leaf=1, min_samples_split=2, n_estimators=300;, score=0.999 total time=  13.9s\n",
      "[CV 4/5] END max_features=8, min_samples_leaf=1, min_samples_split=2, n_estimators=300;, score=0.998 total time=  14.3s\n",
      "[CV 5/5] END max_features=8, min_samples_leaf=1, min_samples_split=2, n_estimators=300;, score=0.998 total time=  15.4s\n",
      "[CV 1/5] END max_features=8, min_samples_leaf=1, min_samples_split=2, n_estimators=500;, score=0.999 total time=  23.2s\n",
      "[CV 2/5] END max_features=8, min_samples_leaf=1, min_samples_split=2, n_estimators=500;, score=0.998 total time=  22.8s\n",
      "[CV 3/5] END max_features=8, min_samples_leaf=1, min_samples_split=2, n_estimators=500;, score=0.999 total time=  24.4s\n",
      "[CV 4/5] END max_features=8, min_samples_leaf=1, min_samples_split=2, n_estimators=500;, score=0.998 total time=  17.1s\n",
      "[CV 5/5] END max_features=8, min_samples_leaf=1, min_samples_split=2, n_estimators=500;, score=0.998 total time=  11.8s\n",
      "[CV 1/5] END max_features=8, min_samples_leaf=1, min_samples_split=5, n_estimators=10;, score=0.999 total time=   0.2s\n",
      "[CV 2/5] END max_features=8, min_samples_leaf=1, min_samples_split=5, n_estimators=10;, score=0.998 total time=   0.2s\n",
      "[CV 3/5] END max_features=8, min_samples_leaf=1, min_samples_split=5, n_estimators=10;, score=0.999 total time=   0.1s\n",
      "[CV 4/5] END max_features=8, min_samples_leaf=1, min_samples_split=5, n_estimators=10;, score=0.999 total time=   0.2s\n",
      "[CV 5/5] END max_features=8, min_samples_leaf=1, min_samples_split=5, n_estimators=10;, score=0.997 total time=   0.2s\n",
      "[CV 1/5] END max_features=8, min_samples_leaf=1, min_samples_split=5, n_estimators=100;, score=0.999 total time=   2.5s\n",
      "[CV 2/5] END max_features=8, min_samples_leaf=1, min_samples_split=5, n_estimators=100;, score=0.998 total time=   2.2s\n",
      "[CV 3/5] END max_features=8, min_samples_leaf=1, min_samples_split=5, n_estimators=100;, score=0.999 total time=   2.3s\n",
      "[CV 4/5] END max_features=8, min_samples_leaf=1, min_samples_split=5, n_estimators=100;, score=0.998 total time=   2.3s\n",
      "[CV 5/5] END max_features=8, min_samples_leaf=1, min_samples_split=5, n_estimators=100;, score=0.998 total time=   2.4s\n",
      "[CV 1/5] END max_features=8, min_samples_leaf=1, min_samples_split=5, n_estimators=300;, score=0.999 total time=  10.2s\n",
      "[CV 2/5] END max_features=8, min_samples_leaf=1, min_samples_split=5, n_estimators=300;, score=0.998 total time=  14.3s\n",
      "[CV 3/5] END max_features=8, min_samples_leaf=1, min_samples_split=5, n_estimators=300;, score=0.999 total time=   6.9s\n",
      "[CV 4/5] END max_features=8, min_samples_leaf=1, min_samples_split=5, n_estimators=300;, score=0.998 total time=   6.7s\n",
      "[CV 5/5] END max_features=8, min_samples_leaf=1, min_samples_split=5, n_estimators=300;, score=0.998 total time=   6.9s\n",
      "[CV 1/5] END max_features=8, min_samples_leaf=1, min_samples_split=5, n_estimators=500;, score=0.999 total time=  11.4s\n",
      "[CV 2/5] END max_features=8, min_samples_leaf=1, min_samples_split=5, n_estimators=500;, score=0.998 total time=  10.6s\n",
      "[CV 3/5] END max_features=8, min_samples_leaf=1, min_samples_split=5, n_estimators=500;, score=0.999 total time=  11.4s\n",
      "[CV 4/5] END max_features=8, min_samples_leaf=1, min_samples_split=5, n_estimators=500;, score=0.998 total time=  11.3s\n",
      "[CV 5/5] END max_features=8, min_samples_leaf=1, min_samples_split=5, n_estimators=500;, score=0.998 total time=  10.9s\n",
      "[CV 1/5] END max_features=8, min_samples_leaf=1, min_samples_split=12, n_estimators=10;, score=0.999 total time=   0.2s\n",
      "[CV 2/5] END max_features=8, min_samples_leaf=1, min_samples_split=12, n_estimators=10;, score=0.998 total time=   0.2s\n",
      "[CV 3/5] END max_features=8, min_samples_leaf=1, min_samples_split=12, n_estimators=10;, score=0.999 total time=   0.2s\n",
      "[CV 4/5] END max_features=8, min_samples_leaf=1, min_samples_split=12, n_estimators=10;, score=0.998 total time=   0.2s\n",
      "[CV 5/5] END max_features=8, min_samples_leaf=1, min_samples_split=12, n_estimators=10;, score=0.998 total time=   0.2s\n",
      "[CV 1/5] END max_features=8, min_samples_leaf=1, min_samples_split=12, n_estimators=100;, score=0.999 total time=   2.1s\n",
      "[CV 2/5] END max_features=8, min_samples_leaf=1, min_samples_split=12, n_estimators=100;, score=0.998 total time=   2.1s\n",
      "[CV 3/5] END max_features=8, min_samples_leaf=1, min_samples_split=12, n_estimators=100;, score=0.999 total time=   2.2s\n",
      "[CV 4/5] END max_features=8, min_samples_leaf=1, min_samples_split=12, n_estimators=100;, score=0.998 total time=   2.1s\n",
      "[CV 5/5] END max_features=8, min_samples_leaf=1, min_samples_split=12, n_estimators=100;, score=0.998 total time=   2.4s\n",
      "[CV 1/5] END max_features=8, min_samples_leaf=1, min_samples_split=12, n_estimators=300;, score=0.999 total time=   6.5s\n",
      "[CV 2/5] END max_features=8, min_samples_leaf=1, min_samples_split=12, n_estimators=300;, score=0.998 total time=   6.6s\n",
      "[CV 3/5] END max_features=8, min_samples_leaf=1, min_samples_split=12, n_estimators=300;, score=0.999 total time=   6.6s\n",
      "[CV 4/5] END max_features=8, min_samples_leaf=1, min_samples_split=12, n_estimators=300;, score=0.998 total time=   6.4s\n",
      "[CV 5/5] END max_features=8, min_samples_leaf=1, min_samples_split=12, n_estimators=300;, score=0.998 total time=   6.5s\n",
      "[CV 1/5] END max_features=8, min_samples_leaf=1, min_samples_split=12, n_estimators=500;, score=0.999 total time=  10.8s\n",
      "[CV 2/5] END max_features=8, min_samples_leaf=1, min_samples_split=12, n_estimators=500;, score=0.998 total time=  10.6s\n",
      "[CV 3/5] END max_features=8, min_samples_leaf=1, min_samples_split=12, n_estimators=500;, score=0.999 total time=  10.6s\n",
      "[CV 4/5] END max_features=8, min_samples_leaf=1, min_samples_split=12, n_estimators=500;, score=0.998 total time=  10.7s\n",
      "[CV 5/5] END max_features=8, min_samples_leaf=1, min_samples_split=12, n_estimators=500;, score=0.998 total time=  10.9s\n",
      "[CV 1/5] END max_features=8, min_samples_leaf=3, min_samples_split=2, n_estimators=10;, score=0.999 total time=   0.2s\n",
      "[CV 2/5] END max_features=8, min_samples_leaf=3, min_samples_split=2, n_estimators=10;, score=0.998 total time=   0.2s\n",
      "[CV 3/5] END max_features=8, min_samples_leaf=3, min_samples_split=2, n_estimators=10;, score=0.998 total time=   0.1s\n",
      "[CV 4/5] END max_features=8, min_samples_leaf=3, min_samples_split=2, n_estimators=10;, score=0.998 total time=   0.2s\n",
      "[CV 5/5] END max_features=8, min_samples_leaf=3, min_samples_split=2, n_estimators=10;, score=0.997 total time=   0.2s\n",
      "[CV 1/5] END max_features=8, min_samples_leaf=3, min_samples_split=2, n_estimators=100;, score=0.999 total time=   2.1s\n",
      "[CV 2/5] END max_features=8, min_samples_leaf=3, min_samples_split=2, n_estimators=100;, score=0.998 total time=   2.1s\n",
      "[CV 3/5] END max_features=8, min_samples_leaf=3, min_samples_split=2, n_estimators=100;, score=0.998 total time=   2.1s\n",
      "[CV 4/5] END max_features=8, min_samples_leaf=3, min_samples_split=2, n_estimators=100;, score=0.998 total time=   2.0s\n",
      "[CV 5/5] END max_features=8, min_samples_leaf=3, min_samples_split=2, n_estimators=100;, score=0.997 total time=   2.1s\n",
      "[CV 1/5] END max_features=8, min_samples_leaf=3, min_samples_split=2, n_estimators=300;, score=0.999 total time=   6.4s\n",
      "[CV 2/5] END max_features=8, min_samples_leaf=3, min_samples_split=2, n_estimators=300;, score=0.998 total time=   6.4s\n",
      "[CV 3/5] END max_features=8, min_samples_leaf=3, min_samples_split=2, n_estimators=300;, score=0.998 total time=   6.4s\n",
      "[CV 4/5] END max_features=8, min_samples_leaf=3, min_samples_split=2, n_estimators=300;, score=0.998 total time=   6.8s\n",
      "[CV 5/5] END max_features=8, min_samples_leaf=3, min_samples_split=2, n_estimators=300;, score=0.997 total time=   6.6s\n",
      "[CV 1/5] END max_features=8, min_samples_leaf=3, min_samples_split=2, n_estimators=500;, score=0.999 total time=  10.9s\n",
      "[CV 2/5] END max_features=8, min_samples_leaf=3, min_samples_split=2, n_estimators=500;, score=0.998 total time=  10.8s\n",
      "[CV 3/5] END max_features=8, min_samples_leaf=3, min_samples_split=2, n_estimators=500;, score=0.998 total time=  10.9s\n",
      "[CV 4/5] END max_features=8, min_samples_leaf=3, min_samples_split=2, n_estimators=500;, score=0.998 total time=  10.9s\n",
      "[CV 5/5] END max_features=8, min_samples_leaf=3, min_samples_split=2, n_estimators=500;, score=0.997 total time=  10.8s\n",
      "[CV 1/5] END max_features=8, min_samples_leaf=3, min_samples_split=5, n_estimators=10;, score=0.999 total time=   0.2s\n",
      "[CV 2/5] END max_features=8, min_samples_leaf=3, min_samples_split=5, n_estimators=10;, score=0.998 total time=   0.2s\n",
      "[CV 3/5] END max_features=8, min_samples_leaf=3, min_samples_split=5, n_estimators=10;, score=0.998 total time=   0.1s\n",
      "[CV 4/5] END max_features=8, min_samples_leaf=3, min_samples_split=5, n_estimators=10;, score=0.998 total time=   0.2s\n",
      "[CV 5/5] END max_features=8, min_samples_leaf=3, min_samples_split=5, n_estimators=10;, score=0.998 total time=   0.2s\n",
      "[CV 1/5] END max_features=8, min_samples_leaf=3, min_samples_split=5, n_estimators=100;, score=0.999 total time=   2.1s\n",
      "[CV 2/5] END max_features=8, min_samples_leaf=3, min_samples_split=5, n_estimators=100;, score=0.998 total time=   2.1s\n",
      "[CV 3/5] END max_features=8, min_samples_leaf=3, min_samples_split=5, n_estimators=100;, score=0.998 total time=   2.2s\n",
      "[CV 4/5] END max_features=8, min_samples_leaf=3, min_samples_split=5, n_estimators=100;, score=0.998 total time=   2.1s\n",
      "[CV 5/5] END max_features=8, min_samples_leaf=3, min_samples_split=5, n_estimators=100;, score=0.997 total time=   2.1s\n",
      "[CV 1/5] END max_features=8, min_samples_leaf=3, min_samples_split=5, n_estimators=300;, score=0.999 total time=   6.5s\n",
      "[CV 2/5] END max_features=8, min_samples_leaf=3, min_samples_split=5, n_estimators=300;, score=0.998 total time=   6.4s\n",
      "[CV 3/5] END max_features=8, min_samples_leaf=3, min_samples_split=5, n_estimators=300;, score=0.998 total time=   6.5s\n",
      "[CV 4/5] END max_features=8, min_samples_leaf=3, min_samples_split=5, n_estimators=300;, score=0.998 total time=   6.4s\n",
      "[CV 5/5] END max_features=8, min_samples_leaf=3, min_samples_split=5, n_estimators=300;, score=0.997 total time=   6.6s\n",
      "[CV 1/5] END max_features=8, min_samples_leaf=3, min_samples_split=5, n_estimators=500;, score=0.999 total time=  11.0s\n",
      "[CV 2/5] END max_features=8, min_samples_leaf=3, min_samples_split=5, n_estimators=500;, score=0.998 total time=  11.0s\n",
      "[CV 3/5] END max_features=8, min_samples_leaf=3, min_samples_split=5, n_estimators=500;, score=0.998 total time=  11.2s\n",
      "[CV 4/5] END max_features=8, min_samples_leaf=3, min_samples_split=5, n_estimators=500;, score=0.998 total time=  11.1s\n",
      "[CV 5/5] END max_features=8, min_samples_leaf=3, min_samples_split=5, n_estimators=500;, score=0.997 total time=  11.0s\n",
      "[CV 1/5] END max_features=8, min_samples_leaf=3, min_samples_split=12, n_estimators=10;, score=0.999 total time=   0.2s\n",
      "[CV 2/5] END max_features=8, min_samples_leaf=3, min_samples_split=12, n_estimators=10;, score=0.998 total time=   0.2s\n",
      "[CV 3/5] END max_features=8, min_samples_leaf=3, min_samples_split=12, n_estimators=10;, score=0.998 total time=   0.2s\n",
      "[CV 4/5] END max_features=8, min_samples_leaf=3, min_samples_split=12, n_estimators=10;, score=0.998 total time=   0.2s\n",
      "[CV 5/5] END max_features=8, min_samples_leaf=3, min_samples_split=12, n_estimators=10;, score=0.998 total time=   0.2s\n",
      "[CV 1/5] END max_features=8, min_samples_leaf=3, min_samples_split=12, n_estimators=100;, score=0.999 total time=   2.1s\n",
      "[CV 2/5] END max_features=8, min_samples_leaf=3, min_samples_split=12, n_estimators=100;, score=0.998 total time=   2.1s\n",
      "[CV 3/5] END max_features=8, min_samples_leaf=3, min_samples_split=12, n_estimators=100;, score=0.998 total time=   2.2s\n",
      "[CV 4/5] END max_features=8, min_samples_leaf=3, min_samples_split=12, n_estimators=100;, score=0.998 total time=   2.2s\n",
      "[CV 5/5] END max_features=8, min_samples_leaf=3, min_samples_split=12, n_estimators=100;, score=0.997 total time=   2.2s\n",
      "[CV 1/5] END max_features=8, min_samples_leaf=3, min_samples_split=12, n_estimators=300;, score=0.999 total time=   6.7s\n",
      "[CV 2/5] END max_features=8, min_samples_leaf=3, min_samples_split=12, n_estimators=300;, score=0.998 total time=   6.7s\n",
      "[CV 3/5] END max_features=8, min_samples_leaf=3, min_samples_split=12, n_estimators=300;, score=0.998 total time=   6.6s\n",
      "[CV 4/5] END max_features=8, min_samples_leaf=3, min_samples_split=12, n_estimators=300;, score=0.998 total time=   6.6s\n",
      "[CV 5/5] END max_features=8, min_samples_leaf=3, min_samples_split=12, n_estimators=300;, score=0.997 total time=   6.6s\n",
      "[CV 1/5] END max_features=8, min_samples_leaf=3, min_samples_split=12, n_estimators=500;, score=0.999 total time=  10.9s\n",
      "[CV 2/5] END max_features=8, min_samples_leaf=3, min_samples_split=12, n_estimators=500;, score=0.998 total time=  10.9s\n",
      "[CV 3/5] END max_features=8, min_samples_leaf=3, min_samples_split=12, n_estimators=500;, score=0.998 total time=  11.8s\n",
      "[CV 4/5] END max_features=8, min_samples_leaf=3, min_samples_split=12, n_estimators=500;, score=0.998 total time=  11.0s\n",
      "[CV 5/5] END max_features=8, min_samples_leaf=3, min_samples_split=12, n_estimators=500;, score=0.997 total time=  10.8s\n",
      "[CV 1/5] END max_features=8, min_samples_leaf=5, min_samples_split=2, n_estimators=10;, score=0.999 total time=   0.2s\n",
      "[CV 2/5] END max_features=8, min_samples_leaf=5, min_samples_split=2, n_estimators=10;, score=0.998 total time=   0.2s\n",
      "[CV 3/5] END max_features=8, min_samples_leaf=5, min_samples_split=2, n_estimators=10;, score=0.998 total time=   0.2s\n",
      "[CV 4/5] END max_features=8, min_samples_leaf=5, min_samples_split=2, n_estimators=10;, score=0.998 total time=   0.2s\n",
      "[CV 5/5] END max_features=8, min_samples_leaf=5, min_samples_split=2, n_estimators=10;, score=0.997 total time=   0.2s\n",
      "[CV 1/5] END max_features=8, min_samples_leaf=5, min_samples_split=2, n_estimators=100;, score=0.999 total time=   2.2s\n",
      "[CV 2/5] END max_features=8, min_samples_leaf=5, min_samples_split=2, n_estimators=100;, score=0.998 total time=   2.1s\n",
      "[CV 3/5] END max_features=8, min_samples_leaf=5, min_samples_split=2, n_estimators=100;, score=0.998 total time=   2.4s\n",
      "[CV 4/5] END max_features=8, min_samples_leaf=5, min_samples_split=2, n_estimators=100;, score=0.998 total time=   2.3s\n",
      "[CV 5/5] END max_features=8, min_samples_leaf=5, min_samples_split=2, n_estimators=100;, score=0.998 total time=   2.2s\n",
      "[CV 1/5] END max_features=8, min_samples_leaf=5, min_samples_split=2, n_estimators=300;, score=0.999 total time=   8.2s\n",
      "[CV 2/5] END max_features=8, min_samples_leaf=5, min_samples_split=2, n_estimators=300;, score=0.998 total time=   8.0s\n",
      "[CV 3/5] END max_features=8, min_samples_leaf=5, min_samples_split=2, n_estimators=300;, score=0.998 total time=   8.2s\n",
      "[CV 4/5] END max_features=8, min_samples_leaf=5, min_samples_split=2, n_estimators=300;, score=0.998 total time=   7.9s\n",
      "[CV 5/5] END max_features=8, min_samples_leaf=5, min_samples_split=2, n_estimators=300;, score=0.998 total time=   8.0s\n",
      "[CV 1/5] END max_features=8, min_samples_leaf=5, min_samples_split=2, n_estimators=500;, score=0.999 total time=  13.3s\n",
      "[CV 2/5] END max_features=8, min_samples_leaf=5, min_samples_split=2, n_estimators=500;, score=0.998 total time=  13.5s\n",
      "[CV 3/5] END max_features=8, min_samples_leaf=5, min_samples_split=2, n_estimators=500;, score=0.998 total time=  14.0s\n",
      "[CV 4/5] END max_features=8, min_samples_leaf=5, min_samples_split=2, n_estimators=500;, score=0.998 total time=  13.8s\n",
      "[CV 5/5] END max_features=8, min_samples_leaf=5, min_samples_split=2, n_estimators=500;, score=0.998 total time=  13.6s\n",
      "[CV 1/5] END max_features=8, min_samples_leaf=5, min_samples_split=5, n_estimators=10;, score=0.999 total time=   0.2s\n",
      "[CV 2/5] END max_features=8, min_samples_leaf=5, min_samples_split=5, n_estimators=10;, score=0.998 total time=   0.2s\n",
      "[CV 3/5] END max_features=8, min_samples_leaf=5, min_samples_split=5, n_estimators=10;, score=0.998 total time=   0.2s\n",
      "[CV 4/5] END max_features=8, min_samples_leaf=5, min_samples_split=5, n_estimators=10;, score=0.998 total time=   0.2s\n",
      "[CV 5/5] END max_features=8, min_samples_leaf=5, min_samples_split=5, n_estimators=10;, score=0.998 total time=   0.2s\n",
      "[CV 1/5] END max_features=8, min_samples_leaf=5, min_samples_split=5, n_estimators=100;, score=0.999 total time=   2.9s\n",
      "[CV 2/5] END max_features=8, min_samples_leaf=5, min_samples_split=5, n_estimators=100;, score=0.998 total time=   2.7s\n",
      "[CV 3/5] END max_features=8, min_samples_leaf=5, min_samples_split=5, n_estimators=100;, score=0.998 total time=   2.7s\n",
      "[CV 4/5] END max_features=8, min_samples_leaf=5, min_samples_split=5, n_estimators=100;, score=0.998 total time=   2.7s\n",
      "[CV 5/5] END max_features=8, min_samples_leaf=5, min_samples_split=5, n_estimators=100;, score=0.998 total time=   3.3s\n",
      "[CV 1/5] END max_features=8, min_samples_leaf=5, min_samples_split=5, n_estimators=300;, score=0.999 total time=   8.2s\n",
      "[CV 2/5] END max_features=8, min_samples_leaf=5, min_samples_split=5, n_estimators=300;, score=0.998 total time=   6.8s\n",
      "[CV 3/5] END max_features=8, min_samples_leaf=5, min_samples_split=5, n_estimators=300;, score=0.998 total time=   6.4s\n",
      "[CV 4/5] END max_features=8, min_samples_leaf=5, min_samples_split=5, n_estimators=300;, score=0.998 total time=   6.4s\n",
      "[CV 5/5] END max_features=8, min_samples_leaf=5, min_samples_split=5, n_estimators=300;, score=0.998 total time=   8.0s\n",
      "[CV 1/5] END max_features=8, min_samples_leaf=5, min_samples_split=5, n_estimators=500;, score=0.999 total time=  19.2s\n",
      "[CV 2/5] END max_features=8, min_samples_leaf=5, min_samples_split=5, n_estimators=500;, score=0.998 total time=  10.8s\n",
      "[CV 3/5] END max_features=8, min_samples_leaf=5, min_samples_split=5, n_estimators=500;, score=0.998 total time=  10.7s\n",
      "[CV 4/5] END max_features=8, min_samples_leaf=5, min_samples_split=5, n_estimators=500;, score=0.998 total time=  11.4s\n",
      "[CV 5/5] END max_features=8, min_samples_leaf=5, min_samples_split=5, n_estimators=500;, score=0.998 total time=  11.0s\n",
      "[CV 1/5] END max_features=8, min_samples_leaf=5, min_samples_split=12, n_estimators=10;, score=0.999 total time=   0.2s\n",
      "[CV 2/5] END max_features=8, min_samples_leaf=5, min_samples_split=12, n_estimators=10;, score=0.998 total time=   0.2s\n",
      "[CV 3/5] END max_features=8, min_samples_leaf=5, min_samples_split=12, n_estimators=10;, score=0.998 total time=   0.1s\n",
      "[CV 4/5] END max_features=8, min_samples_leaf=5, min_samples_split=12, n_estimators=10;, score=0.998 total time=   0.1s\n",
      "[CV 5/5] END max_features=8, min_samples_leaf=5, min_samples_split=12, n_estimators=10;, score=0.998 total time=   0.2s\n",
      "[CV 1/5] END max_features=8, min_samples_leaf=5, min_samples_split=12, n_estimators=100;, score=0.999 total time=   2.1s\n",
      "[CV 2/5] END max_features=8, min_samples_leaf=5, min_samples_split=12, n_estimators=100;, score=0.998 total time=   2.1s\n",
      "[CV 3/5] END max_features=8, min_samples_leaf=5, min_samples_split=12, n_estimators=100;, score=0.998 total time=   2.2s\n",
      "[CV 4/5] END max_features=8, min_samples_leaf=5, min_samples_split=12, n_estimators=100;, score=0.998 total time=   2.2s\n",
      "[CV 5/5] END max_features=8, min_samples_leaf=5, min_samples_split=12, n_estimators=100;, score=0.998 total time=   2.1s\n",
      "[CV 1/5] END max_features=8, min_samples_leaf=5, min_samples_split=12, n_estimators=300;, score=0.999 total time=   6.5s\n",
      "[CV 2/5] END max_features=8, min_samples_leaf=5, min_samples_split=12, n_estimators=300;, score=0.998 total time=   6.5s\n",
      "[CV 3/5] END max_features=8, min_samples_leaf=5, min_samples_split=12, n_estimators=300;, score=0.998 total time=   6.4s\n",
      "[CV 4/5] END max_features=8, min_samples_leaf=5, min_samples_split=12, n_estimators=300;, score=0.998 total time=   6.5s\n",
      "[CV 5/5] END max_features=8, min_samples_leaf=5, min_samples_split=12, n_estimators=300;, score=0.998 total time=   6.5s\n",
      "[CV 1/5] END max_features=8, min_samples_leaf=5, min_samples_split=12, n_estimators=500;, score=0.999 total time=  11.4s\n",
      "[CV 2/5] END max_features=8, min_samples_leaf=5, min_samples_split=12, n_estimators=500;, score=0.998 total time=  11.3s\n",
      "[CV 3/5] END max_features=8, min_samples_leaf=5, min_samples_split=12, n_estimators=500;, score=0.998 total time=  11.3s\n",
      "[CV 4/5] END max_features=8, min_samples_leaf=5, min_samples_split=12, n_estimators=500;, score=0.998 total time=  11.0s\n",
      "[CV 5/5] END max_features=8, min_samples_leaf=5, min_samples_split=12, n_estimators=500;, score=0.998 total time=  11.9s\n"
     ]
    },
    {
     "data": {
      "text/html": [
       "<style>#sk-container-id-9 {color: black;background-color: white;}#sk-container-id-9 pre{padding: 0;}#sk-container-id-9 div.sk-toggleable {background-color: white;}#sk-container-id-9 label.sk-toggleable__label {cursor: pointer;display: block;width: 100%;margin-bottom: 0;padding: 0.3em;box-sizing: border-box;text-align: center;}#sk-container-id-9 label.sk-toggleable__label-arrow:before {content: \"▸\";float: left;margin-right: 0.25em;color: #696969;}#sk-container-id-9 label.sk-toggleable__label-arrow:hover:before {color: black;}#sk-container-id-9 div.sk-estimator:hover label.sk-toggleable__label-arrow:before {color: black;}#sk-container-id-9 div.sk-toggleable__content {max-height: 0;max-width: 0;overflow: hidden;text-align: left;background-color: #f0f8ff;}#sk-container-id-9 div.sk-toggleable__content pre {margin: 0.2em;color: black;border-radius: 0.25em;background-color: #f0f8ff;}#sk-container-id-9 input.sk-toggleable__control:checked~div.sk-toggleable__content {max-height: 200px;max-width: 100%;overflow: auto;}#sk-container-id-9 input.sk-toggleable__control:checked~label.sk-toggleable__label-arrow:before {content: \"▾\";}#sk-container-id-9 div.sk-estimator input.sk-toggleable__control:checked~label.sk-toggleable__label {background-color: #d4ebff;}#sk-container-id-9 div.sk-label input.sk-toggleable__control:checked~label.sk-toggleable__label {background-color: #d4ebff;}#sk-container-id-9 input.sk-hidden--visually {border: 0;clip: rect(1px 1px 1px 1px);clip: rect(1px, 1px, 1px, 1px);height: 1px;margin: -1px;overflow: hidden;padding: 0;position: absolute;width: 1px;}#sk-container-id-9 div.sk-estimator {font-family: monospace;background-color: #f0f8ff;border: 1px dotted black;border-radius: 0.25em;box-sizing: border-box;margin-bottom: 0.5em;}#sk-container-id-9 div.sk-estimator:hover {background-color: #d4ebff;}#sk-container-id-9 div.sk-parallel-item::after {content: \"\";width: 100%;border-bottom: 1px solid gray;flex-grow: 1;}#sk-container-id-9 div.sk-label:hover label.sk-toggleable__label {background-color: #d4ebff;}#sk-container-id-9 div.sk-serial::before {content: \"\";position: absolute;border-left: 1px solid gray;box-sizing: border-box;top: 0;bottom: 0;left: 50%;z-index: 0;}#sk-container-id-9 div.sk-serial {display: flex;flex-direction: column;align-items: center;background-color: white;padding-right: 0.2em;padding-left: 0.2em;position: relative;}#sk-container-id-9 div.sk-item {position: relative;z-index: 1;}#sk-container-id-9 div.sk-parallel {display: flex;align-items: stretch;justify-content: center;background-color: white;position: relative;}#sk-container-id-9 div.sk-item::before, #sk-container-id-9 div.sk-parallel-item::before {content: \"\";position: absolute;border-left: 1px solid gray;box-sizing: border-box;top: 0;bottom: 0;left: 50%;z-index: -1;}#sk-container-id-9 div.sk-parallel-item {display: flex;flex-direction: column;z-index: 1;position: relative;background-color: white;}#sk-container-id-9 div.sk-parallel-item:first-child::after {align-self: flex-end;width: 50%;}#sk-container-id-9 div.sk-parallel-item:last-child::after {align-self: flex-start;width: 50%;}#sk-container-id-9 div.sk-parallel-item:only-child::after {width: 0;}#sk-container-id-9 div.sk-dashed-wrapped {border: 1px dashed gray;margin: 0 0.4em 0.5em 0.4em;box-sizing: border-box;padding-bottom: 0.4em;background-color: white;}#sk-container-id-9 div.sk-label label {font-family: monospace;font-weight: bold;display: inline-block;line-height: 1.2em;}#sk-container-id-9 div.sk-label-container {text-align: center;}#sk-container-id-9 div.sk-container {/* jupyter's `normalize.less` sets `[hidden] { display: none; }` but bootstrap.min.css set `[hidden] { display: none !important; }` so we also need the `!important` here to be able to override the default hidden behavior on the sphinx rendered scikit-learn.org. See: https://github.com/scikit-learn/scikit-learn/issues/21755 */display: inline-block !important;position: relative;}#sk-container-id-9 div.sk-text-repr-fallback {display: none;}</style><div id=\"sk-container-id-9\" class=\"sk-top-container\"><div class=\"sk-text-repr-fallback\"><pre>GridSearchCV(estimator=RandomForestClassifier(),\n",
       "             param_grid={&#x27;max_features&#x27;: [4, 6, 8],\n",
       "                         &#x27;min_samples_leaf&#x27;: [1, 3, 5],\n",
       "                         &#x27;min_samples_split&#x27;: [2, 5, 12],\n",
       "                         &#x27;n_estimators&#x27;: [10, 100, 300, 500]},\n",
       "             verbose=3)</pre><b>In a Jupyter environment, please rerun this cell to show the HTML representation or trust the notebook. <br />On GitHub, the HTML representation is unable to render, please try loading this page with nbviewer.org.</b></div><div class=\"sk-container\" hidden><div class=\"sk-item sk-dashed-wrapped\"><div class=\"sk-label-container\"><div class=\"sk-label sk-toggleable\"><input class=\"sk-toggleable__control sk-hidden--visually\" id=\"sk-estimator-id-11\" type=\"checkbox\" ><label for=\"sk-estimator-id-11\" class=\"sk-toggleable__label sk-toggleable__label-arrow\">GridSearchCV</label><div class=\"sk-toggleable__content\"><pre>GridSearchCV(estimator=RandomForestClassifier(),\n",
       "             param_grid={&#x27;max_features&#x27;: [4, 6, 8],\n",
       "                         &#x27;min_samples_leaf&#x27;: [1, 3, 5],\n",
       "                         &#x27;min_samples_split&#x27;: [2, 5, 12],\n",
       "                         &#x27;n_estimators&#x27;: [10, 100, 300, 500]},\n",
       "             verbose=3)</pre></div></div></div><div class=\"sk-parallel\"><div class=\"sk-parallel-item\"><div class=\"sk-item\"><div class=\"sk-label-container\"><div class=\"sk-label sk-toggleable\"><input class=\"sk-toggleable__control sk-hidden--visually\" id=\"sk-estimator-id-12\" type=\"checkbox\" ><label for=\"sk-estimator-id-12\" class=\"sk-toggleable__label sk-toggleable__label-arrow\">estimator: RandomForestClassifier</label><div class=\"sk-toggleable__content\"><pre>RandomForestClassifier()</pre></div></div></div><div class=\"sk-serial\"><div class=\"sk-item\"><div class=\"sk-estimator sk-toggleable\"><input class=\"sk-toggleable__control sk-hidden--visually\" id=\"sk-estimator-id-13\" type=\"checkbox\" ><label for=\"sk-estimator-id-13\" class=\"sk-toggleable__label sk-toggleable__label-arrow\">RandomForestClassifier</label><div class=\"sk-toggleable__content\"><pre>RandomForestClassifier()</pre></div></div></div></div></div></div></div></div></div></div>"
      ],
      "text/plain": [
       "GridSearchCV(estimator=RandomForestClassifier(),\n",
       "             param_grid={'max_features': [4, 6, 8],\n",
       "                         'min_samples_leaf': [1, 3, 5],\n",
       "                         'min_samples_split': [2, 5, 12],\n",
       "                         'n_estimators': [10, 100, 300, 500]},\n",
       "             verbose=3)"
      ]
     },
     "execution_count": 55,
     "metadata": {},
     "output_type": "execute_result"
    }
   ],
   "source": [
    "grid_search.fit(X_train, y_train)"
   ]
  },
  {
   "cell_type": "code",
   "execution_count": 56,
   "metadata": {},
   "outputs": [],
   "source": [
    "grid_search.best_params_\n",
    "best = grid_search.best_estimator_"
   ]
  },
  {
   "cell_type": "code",
   "execution_count": 57,
   "metadata": {},
   "outputs": [],
   "source": [
    "rf_fine = best\n",
    "rf_fine.fit(X_train, y_train)\n",
    "predictions = rf_fine.predict(X_test)"
   ]
  },
  {
   "cell_type": "code",
   "execution_count": 58,
   "metadata": {},
   "outputs": [
    {
     "data": {
      "text/plain": [
       "{'max_features': 6,\n",
       " 'min_samples_leaf': 1,\n",
       " 'min_samples_split': 2,\n",
       " 'n_estimators': 10}"
      ]
     },
     "execution_count": 58,
     "metadata": {},
     "output_type": "execute_result"
    }
   ],
   "source": [
    "grid_search.best_params_"
   ]
  },
  {
   "cell_type": "code",
   "execution_count": 59,
   "metadata": {},
   "outputs": [
    {
     "name": "stdout",
     "output_type": "stream",
     "text": [
      "              precision    recall  f1-score   support\n",
      "\n",
      "       allow       1.00      1.00      1.00     11378\n",
      "        deny       1.00      1.00      1.00      4452\n",
      "        drop       1.00      1.00      1.00      3811\n",
      "  reset-both       0.92      0.58      0.71        19\n",
      "\n",
      "    accuracy                           1.00     19660\n",
      "   macro avg       0.98      0.89      0.93     19660\n",
      "weighted avg       1.00      1.00      1.00     19660\n",
      "\n",
      "\n",
      "\n",
      "[[11377     1     0     0]\n",
      " [    0  4439    12     1]\n",
      " [    0     0  3811     0]\n",
      " [    0     8     0    11]]\n"
     ]
    }
   ],
   "source": [
    "# สั่งพิมพ์รายงาน ค่าการวัดผล และประสิทธิภาพการทำนายของตัวแบบ และค่าใน confusion matrix\n",
    "\n",
    "print(classification_report(y_test, predictions))\n",
    "print('\\n')\n",
    "print(confusion_matrix(y_test, predictions))"
   ]
  },
  {
   "cell_type": "markdown",
   "metadata": {},
   "source": [
    "4.XGBOOST "
   ]
  },
  {
   "cell_type": "code",
   "execution_count": 60,
   "metadata": {},
   "outputs": [],
   "source": [
    "X_XG = df_FW[[\"Destination Port\",\"NAT Source Port\",\"NAT Destination Port\", \"Bytes\",\"pkts_sent\",\"Elapsed Time (sec)\"]]\n",
    "\n",
    "df_FW['Action'] = df_FW.Action.replace(['allow', 'drop', 'deny', 'reset-both'],['1','2','3','4'])\n",
    "Y_XG = df_FW[['Action']]"
   ]
  },
  {
   "cell_type": "code",
   "execution_count": 61,
   "metadata": {},
   "outputs": [],
   "source": [
    "import xgboost as xgb\n",
    "import numpy as np\n",
    "from sklearn.preprocessing import OrdinalEncoder\n",
    "from sklearn.model_selection import cross_val_score\n",
    "from sklearn.model_selection import RepeatedStratifiedKFold\n",
    "\n",
    "\n",
    "# Encode y to numeric\n",
    "y_encoded = OrdinalEncoder().fit_transform(Y_XG)\n",
    "# Extract text features\n",
    "cats = X.select_dtypes(exclude=np.number).columns.tolist()\n",
    "\n",
    "# Convert to Pandas category\n",
    "for col in cats:\n",
    "   X[col] = X[col].astype('category')\n",
    "   \n",
    "# Split the data\n",
    "X_train_XG, X_test_XG, y_train_XG, y_test_XG = train_test_split(X_XG, y_encoded, random_state=37, stratify=y_encoded)\n"
   ]
  },
  {
   "cell_type": "code",
   "execution_count": 62,
   "metadata": {},
   "outputs": [],
   "source": [
    "from sklearn.metrics import classification_report, confusion_matrix,accuracy_score,f1_score\n",
    "xgb_classifier = xgb.XGBClassifier()\n",
    "xgb_classifier.fit(X_train_XG, y_train_XG)\n",
    "\n",
    "\n",
    "# Make predictions on the test set\n",
    "y_pred_XG = xgb_classifier.predict(X_test_XG)\n",
    "\n",
    "# Generate the classification report\n",
    "report = classification_report(y_test_XG, y_pred_XG)\n"
   ]
  },
  {
   "cell_type": "code",
   "execution_count": 64,
   "metadata": {},
   "outputs": [
    {
     "name": "stdout",
     "output_type": "stream",
     "text": [
      "              precision    recall  f1-score   support\n",
      "\n",
      "         0.0       1.00      1.00      1.00      9410\n",
      "         1.0       1.00      1.00      1.00      3213\n",
      "         2.0       1.00      1.00      1.00      3747\n",
      "         3.0       1.00      0.85      0.92        13\n",
      "\n",
      "    accuracy                           1.00     16383\n",
      "   macro avg       1.00      0.96      0.98     16383\n",
      "weighted avg       1.00      1.00      1.00     16383\n",
      "\n",
      "\n",
      "\n",
      "[[9409    0    1    0]\n",
      " [   0 3213    0    0]\n",
      " [   0    9 3738    0]\n",
      " [   0    0    2   11]]\n"
     ]
    }
   ],
   "source": [
    "print(classification_report(y_test_XG, y_pred_XG))\n",
    "print('\\n')\n",
    "print(confusion_matrix(y_test_XG, y_pred_XG))"
   ]
  },
  {
   "cell_type": "code",
   "execution_count": null,
   "metadata": {},
   "outputs": [],
   "source": []
  }
 ],
 "metadata": {
  "kernelspec": {
   "display_name": "base",
   "language": "python",
   "name": "python3"
  },
  "language_info": {
   "codemirror_mode": {
    "name": "ipython",
    "version": 3
   },
   "file_extension": ".py",
   "mimetype": "text/x-python",
   "name": "python",
   "nbconvert_exporter": "python",
   "pygments_lexer": "ipython3",
   "version": "3.9.13"
  },
  "orig_nbformat": 4
 },
 "nbformat": 4,
 "nbformat_minor": 2
}
