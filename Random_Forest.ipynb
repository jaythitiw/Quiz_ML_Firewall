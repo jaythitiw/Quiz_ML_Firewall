{
 "cells": [
  {
   "cell_type": "code",
   "execution_count": 1,
   "metadata": {},
   "outputs": [],
   "source": [
    "\n",
    "import pandas as pd\n",
    "import numpy as np\n",
    "\n",
    "# Data Viz library\n",
    "import matplotlib.pyplot as plt\n",
    "import seaborn as sns\n",
    "\n",
    "%matplotlib inline"
   ]
  },
  {
   "cell_type": "code",
   "execution_count": 2,
   "metadata": {},
   "outputs": [],
   "source": [
    "df_FW = pd.read_csv(r'C:\\Users\\JayNB\\OneDrive\\เดสก์ท็อป\\NIDA\\ML_QUIZ\\log2.csv')"
   ]
  },
  {
   "cell_type": "code",
   "execution_count": 3,
   "metadata": {},
   "outputs": [],
   "source": [
    "from sklearn.model_selection import train_test_split"
   ]
  },
  {
   "cell_type": "code",
   "execution_count": 4,
   "metadata": {},
   "outputs": [],
   "source": [
    "X = df_FW[['NAT Source Port','NAT Destination Port', 'Bytes','Packets','Elapsed Time (sec)']]\n",
    "Y = df_FW['Action']"
   ]
  },
  {
   "cell_type": "code",
   "execution_count": 5,
   "metadata": {},
   "outputs": [],
   "source": [
    "X_train, X_test, y_train, y_test = train_test_split(X, Y, test_size=0.30, random_state=55)"
   ]
  },
  {
   "cell_type": "code",
   "execution_count": 6,
   "metadata": {},
   "outputs": [],
   "source": [
    "from sklearn.ensemble import RandomForestClassifier"
   ]
  },
  {
   "cell_type": "code",
   "execution_count": 7,
   "metadata": {},
   "outputs": [],
   "source": [
    "# ตั้งชื่อตัวแบบว่า \"rf\" ให้สุ่ม 500 trees  ให้กด Shift+Tabในวงเล็บ เพื่อดู Parameter ใน Algorithm\n",
    "\n",
    "rf = RandomForestClassifier(n_estimators = 500)"
   ]
  },
  {
   "cell_type": "code",
   "execution_count": 8,
   "metadata": {},
   "outputs": [],
   "source": [
    "rf = RandomForestClassifier()"
   ]
  },
  {
   "cell_type": "code",
   "execution_count": 9,
   "metadata": {},
   "outputs": [
    {
     "data": {
      "text/html": [
       "<style>#sk-container-id-1 {color: black;background-color: white;}#sk-container-id-1 pre{padding: 0;}#sk-container-id-1 div.sk-toggleable {background-color: white;}#sk-container-id-1 label.sk-toggleable__label {cursor: pointer;display: block;width: 100%;margin-bottom: 0;padding: 0.3em;box-sizing: border-box;text-align: center;}#sk-container-id-1 label.sk-toggleable__label-arrow:before {content: \"▸\";float: left;margin-right: 0.25em;color: #696969;}#sk-container-id-1 label.sk-toggleable__label-arrow:hover:before {color: black;}#sk-container-id-1 div.sk-estimator:hover label.sk-toggleable__label-arrow:before {color: black;}#sk-container-id-1 div.sk-toggleable__content {max-height: 0;max-width: 0;overflow: hidden;text-align: left;background-color: #f0f8ff;}#sk-container-id-1 div.sk-toggleable__content pre {margin: 0.2em;color: black;border-radius: 0.25em;background-color: #f0f8ff;}#sk-container-id-1 input.sk-toggleable__control:checked~div.sk-toggleable__content {max-height: 200px;max-width: 100%;overflow: auto;}#sk-container-id-1 input.sk-toggleable__control:checked~label.sk-toggleable__label-arrow:before {content: \"▾\";}#sk-container-id-1 div.sk-estimator input.sk-toggleable__control:checked~label.sk-toggleable__label {background-color: #d4ebff;}#sk-container-id-1 div.sk-label input.sk-toggleable__control:checked~label.sk-toggleable__label {background-color: #d4ebff;}#sk-container-id-1 input.sk-hidden--visually {border: 0;clip: rect(1px 1px 1px 1px);clip: rect(1px, 1px, 1px, 1px);height: 1px;margin: -1px;overflow: hidden;padding: 0;position: absolute;width: 1px;}#sk-container-id-1 div.sk-estimator {font-family: monospace;background-color: #f0f8ff;border: 1px dotted black;border-radius: 0.25em;box-sizing: border-box;margin-bottom: 0.5em;}#sk-container-id-1 div.sk-estimator:hover {background-color: #d4ebff;}#sk-container-id-1 div.sk-parallel-item::after {content: \"\";width: 100%;border-bottom: 1px solid gray;flex-grow: 1;}#sk-container-id-1 div.sk-label:hover label.sk-toggleable__label {background-color: #d4ebff;}#sk-container-id-1 div.sk-serial::before {content: \"\";position: absolute;border-left: 1px solid gray;box-sizing: border-box;top: 0;bottom: 0;left: 50%;z-index: 0;}#sk-container-id-1 div.sk-serial {display: flex;flex-direction: column;align-items: center;background-color: white;padding-right: 0.2em;padding-left: 0.2em;position: relative;}#sk-container-id-1 div.sk-item {position: relative;z-index: 1;}#sk-container-id-1 div.sk-parallel {display: flex;align-items: stretch;justify-content: center;background-color: white;position: relative;}#sk-container-id-1 div.sk-item::before, #sk-container-id-1 div.sk-parallel-item::before {content: \"\";position: absolute;border-left: 1px solid gray;box-sizing: border-box;top: 0;bottom: 0;left: 50%;z-index: -1;}#sk-container-id-1 div.sk-parallel-item {display: flex;flex-direction: column;z-index: 1;position: relative;background-color: white;}#sk-container-id-1 div.sk-parallel-item:first-child::after {align-self: flex-end;width: 50%;}#sk-container-id-1 div.sk-parallel-item:last-child::after {align-self: flex-start;width: 50%;}#sk-container-id-1 div.sk-parallel-item:only-child::after {width: 0;}#sk-container-id-1 div.sk-dashed-wrapped {border: 1px dashed gray;margin: 0 0.4em 0.5em 0.4em;box-sizing: border-box;padding-bottom: 0.4em;background-color: white;}#sk-container-id-1 div.sk-label label {font-family: monospace;font-weight: bold;display: inline-block;line-height: 1.2em;}#sk-container-id-1 div.sk-label-container {text-align: center;}#sk-container-id-1 div.sk-container {/* jupyter's `normalize.less` sets `[hidden] { display: none; }` but bootstrap.min.css set `[hidden] { display: none !important; }` so we also need the `!important` here to be able to override the default hidden behavior on the sphinx rendered scikit-learn.org. See: https://github.com/scikit-learn/scikit-learn/issues/21755 */display: inline-block !important;position: relative;}#sk-container-id-1 div.sk-text-repr-fallback {display: none;}</style><div id=\"sk-container-id-1\" class=\"sk-top-container\"><div class=\"sk-text-repr-fallback\"><pre>RandomForestClassifier()</pre><b>In a Jupyter environment, please rerun this cell to show the HTML representation or trust the notebook. <br />On GitHub, the HTML representation is unable to render, please try loading this page with nbviewer.org.</b></div><div class=\"sk-container\" hidden><div class=\"sk-item\"><div class=\"sk-estimator sk-toggleable\"><input class=\"sk-toggleable__control sk-hidden--visually\" id=\"sk-estimator-id-1\" type=\"checkbox\" checked><label for=\"sk-estimator-id-1\" class=\"sk-toggleable__label sk-toggleable__label-arrow\">RandomForestClassifier</label><div class=\"sk-toggleable__content\"><pre>RandomForestClassifier()</pre></div></div></div></div></div>"
      ],
      "text/plain": [
       "RandomForestClassifier()"
      ]
     },
     "execution_count": 9,
     "metadata": {},
     "output_type": "execute_result"
    }
   ],
   "source": [
    "rf.fit(X_train, y_train)"
   ]
  },
  {
   "cell_type": "code",
   "execution_count": 10,
   "metadata": {},
   "outputs": [],
   "source": [
    "# ทำนายค่าในชุด test set ที่แบ่งไว้ 30%\n",
    "\n",
    "pre_rf = rf.predict(X_test)"
   ]
  },
  {
   "cell_type": "code",
   "execution_count": 11,
   "metadata": {},
   "outputs": [],
   "source": [
    "# นำเข้า classification report และ confusion matrix\n",
    "\n",
    "from sklearn.metrics import classification_report, confusion_matrix"
   ]
  },
  {
   "cell_type": "code",
   "execution_count": 12,
   "metadata": {},
   "outputs": [
    {
     "name": "stdout",
     "output_type": "stream",
     "text": [
      "              precision    recall  f1-score   support\n",
      "\n",
      "       allow       1.00      1.00      1.00     11378\n",
      "        deny       0.77      1.00      0.87      4452\n",
      "        drop       0.99      0.66      0.79      3811\n",
      "  reset-both       1.00      0.32      0.48        19\n",
      "\n",
      "    accuracy                           0.93     19660\n",
      "   macro avg       0.94      0.74      0.79     19660\n",
      "weighted avg       0.95      0.93      0.93     19660\n",
      "\n",
      "\n",
      "\n",
      "[[11377     1     0     0]\n",
      " [    1  4432    19     0]\n",
      " [    0  1287  2524     0]\n",
      " [    0    13     0     6]]\n"
     ]
    }
   ],
   "source": [
    "# สั่งพิมพ์รายงาน ค่าการวัดผล และประสิทธิภาพการทำนายของตัวแบบ และค่าใน confusion matrix\n",
    "\n",
    "print(classification_report(y_test, pre_rf))\n",
    "print('\\n')\n",
    "print(confusion_matrix(y_test, pre_rf))"
   ]
  },
  {
   "cell_type": "code",
   "execution_count": 16,
   "metadata": {},
   "outputs": [],
   "source": [
    "\n",
    "from imblearn.over_sampling import SMOTE\n",
    "X_resampled, y_resampled = SMOTE().fit_resample(X_train, y_train)"
   ]
  },
  {
   "cell_type": "code",
   "execution_count": 17,
   "metadata": {},
   "outputs": [
    {
     "name": "stdout",
     "output_type": "stream",
     "text": [
      "After OverSampling, counts 'allow': 26262\n",
      "After OverSampling, counts 'deny': 26262 \n",
      "After OverSampling, counts 'drop': 26262 \n",
      "After OverSampling, counts 'reset-both': 26262 \n",
      "\n"
     ]
    }
   ],
   "source": [
    "# แสดงจำนวนหลังสุ่ม OverSampling\n",
    "\n",
    "print(\"After OverSampling, counts 'allow': {}\".format(sum(y_resampled == \"allow\")))\n",
    "print(\"After OverSampling, counts 'deny': {} \".format(sum(y_resampled == \"deny\")))\n",
    "print(\"After OverSampling, counts 'drop': {} \".format(sum(y_resampled == \"drop\")))\n",
    "print(\"After OverSampling, counts 'reset-both': {} \\n\".format(sum(y_resampled == \"reset-both\")))"
   ]
  },
  {
   "cell_type": "code",
   "execution_count": 18,
   "metadata": {},
   "outputs": [],
   "source": [
    "from sklearn.model_selection import train_test_split"
   ]
  },
  {
   "cell_type": "code",
   "execution_count": null,
   "metadata": {},
   "outputs": [],
   "source": []
  },
  {
   "cell_type": "code",
   "execution_count": 13,
   "metadata": {},
   "outputs": [],
   "source": [
    "from sklearn.ensemble import RandomForestClassifier"
   ]
  },
  {
   "cell_type": "code",
   "execution_count": 14,
   "metadata": {},
   "outputs": [],
   "source": [
    "# ตั้งชื่อตัวแบบที่ใช้ชุดข้อมูลสุ่มสมดุลว่า \"rf_res\" ให้สุ่ม 500 trees\n",
    "\n",
    "rf_res = RandomForestClassifier(n_estimators = 500)"
   ]
  },
  {
   "cell_type": "code",
   "execution_count": 20,
   "metadata": {},
   "outputs": [
    {
     "data": {
      "text/html": [
       "<style>#sk-container-id-2 {color: black;background-color: white;}#sk-container-id-2 pre{padding: 0;}#sk-container-id-2 div.sk-toggleable {background-color: white;}#sk-container-id-2 label.sk-toggleable__label {cursor: pointer;display: block;width: 100%;margin-bottom: 0;padding: 0.3em;box-sizing: border-box;text-align: center;}#sk-container-id-2 label.sk-toggleable__label-arrow:before {content: \"▸\";float: left;margin-right: 0.25em;color: #696969;}#sk-container-id-2 label.sk-toggleable__label-arrow:hover:before {color: black;}#sk-container-id-2 div.sk-estimator:hover label.sk-toggleable__label-arrow:before {color: black;}#sk-container-id-2 div.sk-toggleable__content {max-height: 0;max-width: 0;overflow: hidden;text-align: left;background-color: #f0f8ff;}#sk-container-id-2 div.sk-toggleable__content pre {margin: 0.2em;color: black;border-radius: 0.25em;background-color: #f0f8ff;}#sk-container-id-2 input.sk-toggleable__control:checked~div.sk-toggleable__content {max-height: 200px;max-width: 100%;overflow: auto;}#sk-container-id-2 input.sk-toggleable__control:checked~label.sk-toggleable__label-arrow:before {content: \"▾\";}#sk-container-id-2 div.sk-estimator input.sk-toggleable__control:checked~label.sk-toggleable__label {background-color: #d4ebff;}#sk-container-id-2 div.sk-label input.sk-toggleable__control:checked~label.sk-toggleable__label {background-color: #d4ebff;}#sk-container-id-2 input.sk-hidden--visually {border: 0;clip: rect(1px 1px 1px 1px);clip: rect(1px, 1px, 1px, 1px);height: 1px;margin: -1px;overflow: hidden;padding: 0;position: absolute;width: 1px;}#sk-container-id-2 div.sk-estimator {font-family: monospace;background-color: #f0f8ff;border: 1px dotted black;border-radius: 0.25em;box-sizing: border-box;margin-bottom: 0.5em;}#sk-container-id-2 div.sk-estimator:hover {background-color: #d4ebff;}#sk-container-id-2 div.sk-parallel-item::after {content: \"\";width: 100%;border-bottom: 1px solid gray;flex-grow: 1;}#sk-container-id-2 div.sk-label:hover label.sk-toggleable__label {background-color: #d4ebff;}#sk-container-id-2 div.sk-serial::before {content: \"\";position: absolute;border-left: 1px solid gray;box-sizing: border-box;top: 0;bottom: 0;left: 50%;z-index: 0;}#sk-container-id-2 div.sk-serial {display: flex;flex-direction: column;align-items: center;background-color: white;padding-right: 0.2em;padding-left: 0.2em;position: relative;}#sk-container-id-2 div.sk-item {position: relative;z-index: 1;}#sk-container-id-2 div.sk-parallel {display: flex;align-items: stretch;justify-content: center;background-color: white;position: relative;}#sk-container-id-2 div.sk-item::before, #sk-container-id-2 div.sk-parallel-item::before {content: \"\";position: absolute;border-left: 1px solid gray;box-sizing: border-box;top: 0;bottom: 0;left: 50%;z-index: -1;}#sk-container-id-2 div.sk-parallel-item {display: flex;flex-direction: column;z-index: 1;position: relative;background-color: white;}#sk-container-id-2 div.sk-parallel-item:first-child::after {align-self: flex-end;width: 50%;}#sk-container-id-2 div.sk-parallel-item:last-child::after {align-self: flex-start;width: 50%;}#sk-container-id-2 div.sk-parallel-item:only-child::after {width: 0;}#sk-container-id-2 div.sk-dashed-wrapped {border: 1px dashed gray;margin: 0 0.4em 0.5em 0.4em;box-sizing: border-box;padding-bottom: 0.4em;background-color: white;}#sk-container-id-2 div.sk-label label {font-family: monospace;font-weight: bold;display: inline-block;line-height: 1.2em;}#sk-container-id-2 div.sk-label-container {text-align: center;}#sk-container-id-2 div.sk-container {/* jupyter's `normalize.less` sets `[hidden] { display: none; }` but bootstrap.min.css set `[hidden] { display: none !important; }` so we also need the `!important` here to be able to override the default hidden behavior on the sphinx rendered scikit-learn.org. See: https://github.com/scikit-learn/scikit-learn/issues/21755 */display: inline-block !important;position: relative;}#sk-container-id-2 div.sk-text-repr-fallback {display: none;}</style><div id=\"sk-container-id-2\" class=\"sk-top-container\"><div class=\"sk-text-repr-fallback\"><pre>RandomForestClassifier(n_estimators=500)</pre><b>In a Jupyter environment, please rerun this cell to show the HTML representation or trust the notebook. <br />On GitHub, the HTML representation is unable to render, please try loading this page with nbviewer.org.</b></div><div class=\"sk-container\" hidden><div class=\"sk-item\"><div class=\"sk-estimator sk-toggleable\"><input class=\"sk-toggleable__control sk-hidden--visually\" id=\"sk-estimator-id-2\" type=\"checkbox\" checked><label for=\"sk-estimator-id-2\" class=\"sk-toggleable__label sk-toggleable__label-arrow\">RandomForestClassifier</label><div class=\"sk-toggleable__content\"><pre>RandomForestClassifier(n_estimators=500)</pre></div></div></div></div></div>"
      ],
      "text/plain": [
       "RandomForestClassifier(n_estimators=500)"
      ]
     },
     "execution_count": 20,
     "metadata": {},
     "output_type": "execute_result"
    }
   ],
   "source": [
    "rf_res.fit(X_resampled, y_resampled)"
   ]
  },
  {
   "cell_type": "code",
   "execution_count": 21,
   "metadata": {},
   "outputs": [
    {
     "name": "stdout",
     "output_type": "stream",
     "text": [
      "Variable: Bytes       Importance: 0.5\n",
      "Variable: Elapsed Time (sec) Importance: 0.22\n",
      "Variable: NAT Source Port Importance: 0.13\n",
      "Variable: NAT Destination Port Importance: 0.11\n",
      "Variable: Packets     Importance: 0.04\n"
     ]
    },
    {
     "data": {
      "text/plain": [
       "[None, None, None, None, None]"
      ]
     },
     "execution_count": 21,
     "metadata": {},
     "output_type": "execute_result"
    }
   ],
   "source": [
    "# List of features for later use\n",
    "feature_list = list(X_train.columns)\n",
    "\n",
    "# Get numerical feature importances\n",
    "importances = list(rf_res.feature_importances_)\n",
    "\n",
    "# List of tuples with variable and importance\n",
    "feature_importances = [(feature, round(importance, 2)) for feature, \n",
    "                       importance in zip(feature_list, importances)]\n",
    "\n",
    "# Sort the feature importances by most important first\n",
    "feature_importances = sorted(feature_importances, key = lambda x: x[1], reverse = True)\n",
    "\n",
    "# Print out the feature and importances \n",
    "[print('Variable: {:11} Importance: {}'.format(*pair)) for pair in feature_importances]"
   ]
  },
  {
   "cell_type": "code",
   "execution_count": 23,
   "metadata": {},
   "outputs": [],
   "source": [
    "pre_rf_res = rf_res.predict(X_test)"
   ]
  },
  {
   "cell_type": "code",
   "execution_count": 24,
   "metadata": {},
   "outputs": [
    {
     "name": "stdout",
     "output_type": "stream",
     "text": [
      "              precision    recall  f1-score   support\n",
      "\n",
      "       allow       1.00      1.00      1.00     11378\n",
      "        deny       1.00      0.56      0.72      4452\n",
      "        drop       0.73      1.00      0.84      3811\n",
      "  reset-both       0.03      0.79      0.05        19\n",
      "\n",
      "    accuracy                           0.90     19660\n",
      "   macro avg       0.69      0.84      0.65     19660\n",
      "weighted avg       0.95      0.90      0.90     19660\n",
      "\n",
      "\n",
      "\n",
      "[[11377     1     0     0]\n",
      " [    1  2486  1442   523]\n",
      " [    0     0  3811     0]\n",
      " [    0     4     0    15]]\n"
     ]
    }
   ],
   "source": [
    "print(classification_report(y_test, pre_rf_res))\n",
    "print('\\n')\n",
    "print(confusion_matrix(y_test, pre_rf_res))"
   ]
  },
  {
   "cell_type": "code",
   "execution_count": 25,
   "metadata": {},
   "outputs": [],
   "source": [
    "from sklearn.model_selection import GridSearchCV\n",
    "\n",
    "# Create the parameter grid based on the results of random search \n",
    "param_grid = {\n",
    "    'max_features': [4,6,8],\n",
    "    'min_samples_leaf': [1,3,5],\n",
    "    'min_samples_split': [2,5,12],\n",
    "    'n_estimators': [10,100,300,500]\n",
    "}\n",
    "\n",
    "# Create a based model\n",
    "rf = RandomForestClassifier()\n",
    "\n",
    "# Instantiate the grid search model\n",
    "grid_search = GridSearchCV(estimator = rf, param_grid = param_grid, verbose = 3)"
   ]
  },
  {
   "cell_type": "code",
   "execution_count": 26,
   "metadata": {},
   "outputs": [
    {
     "name": "stdout",
     "output_type": "stream",
     "text": [
      "Fitting 5 folds for each of 108 candidates, totalling 540 fits\n",
      "[CV 1/5] END max_features=4, min_samples_leaf=1, min_samples_split=2, n_estimators=10;, score=0.931 total time=   0.1s\n",
      "[CV 2/5] END max_features=4, min_samples_leaf=1, min_samples_split=2, n_estimators=10;, score=0.930 total time=   0.0s\n",
      "[CV 3/5] END max_features=4, min_samples_leaf=1, min_samples_split=2, n_estimators=10;, score=0.935 total time=   0.0s\n",
      "[CV 4/5] END max_features=4, min_samples_leaf=1, min_samples_split=2, n_estimators=10;, score=0.938 total time=   0.1s\n",
      "[CV 5/5] END max_features=4, min_samples_leaf=1, min_samples_split=2, n_estimators=10;, score=0.932 total time=   0.0s\n",
      "[CV 1/5] END max_features=4, min_samples_leaf=1, min_samples_split=2, n_estimators=100;, score=0.931 total time=   1.2s\n",
      "[CV 2/5] END max_features=4, min_samples_leaf=1, min_samples_split=2, n_estimators=100;, score=0.930 total time=   1.1s\n",
      "[CV 3/5] END max_features=4, min_samples_leaf=1, min_samples_split=2, n_estimators=100;, score=0.935 total time=   1.2s\n",
      "[CV 4/5] END max_features=4, min_samples_leaf=1, min_samples_split=2, n_estimators=100;, score=0.938 total time=   1.1s\n",
      "[CV 5/5] END max_features=4, min_samples_leaf=1, min_samples_split=2, n_estimators=100;, score=0.932 total time=   1.2s\n",
      "[CV 1/5] END max_features=4, min_samples_leaf=1, min_samples_split=2, n_estimators=300;, score=0.931 total time=   3.7s\n",
      "[CV 2/5] END max_features=4, min_samples_leaf=1, min_samples_split=2, n_estimators=300;, score=0.930 total time=   3.6s\n",
      "[CV 3/5] END max_features=4, min_samples_leaf=1, min_samples_split=2, n_estimators=300;, score=0.935 total time=   3.7s\n",
      "[CV 4/5] END max_features=4, min_samples_leaf=1, min_samples_split=2, n_estimators=300;, score=0.938 total time=   3.7s\n",
      "[CV 5/5] END max_features=4, min_samples_leaf=1, min_samples_split=2, n_estimators=300;, score=0.932 total time=   3.7s\n",
      "[CV 1/5] END max_features=4, min_samples_leaf=1, min_samples_split=2, n_estimators=500;, score=0.931 total time=   6.1s\n",
      "[CV 2/5] END max_features=4, min_samples_leaf=1, min_samples_split=2, n_estimators=500;, score=0.930 total time=   5.6s\n",
      "[CV 3/5] END max_features=4, min_samples_leaf=1, min_samples_split=2, n_estimators=500;, score=0.935 total time=   5.9s\n",
      "[CV 4/5] END max_features=4, min_samples_leaf=1, min_samples_split=2, n_estimators=500;, score=0.938 total time=   5.8s\n",
      "[CV 5/5] END max_features=4, min_samples_leaf=1, min_samples_split=2, n_estimators=500;, score=0.932 total time=   5.9s\n",
      "[CV 1/5] END max_features=4, min_samples_leaf=1, min_samples_split=5, n_estimators=10;, score=0.931 total time=   0.1s\n",
      "[CV 2/5] END max_features=4, min_samples_leaf=1, min_samples_split=5, n_estimators=10;, score=0.931 total time=   0.0s\n",
      "[CV 3/5] END max_features=4, min_samples_leaf=1, min_samples_split=5, n_estimators=10;, score=0.935 total time=   0.0s\n",
      "[CV 4/5] END max_features=4, min_samples_leaf=1, min_samples_split=5, n_estimators=10;, score=0.938 total time=   0.0s\n",
      "[CV 5/5] END max_features=4, min_samples_leaf=1, min_samples_split=5, n_estimators=10;, score=0.932 total time=   0.0s\n",
      "[CV 1/5] END max_features=4, min_samples_leaf=1, min_samples_split=5, n_estimators=100;, score=0.931 total time=   1.2s\n",
      "[CV 2/5] END max_features=4, min_samples_leaf=1, min_samples_split=5, n_estimators=100;, score=0.931 total time=   1.0s\n",
      "[CV 3/5] END max_features=4, min_samples_leaf=1, min_samples_split=5, n_estimators=100;, score=0.935 total time=   1.2s\n",
      "[CV 4/5] END max_features=4, min_samples_leaf=1, min_samples_split=5, n_estimators=100;, score=0.938 total time=   1.1s\n",
      "[CV 5/5] END max_features=4, min_samples_leaf=1, min_samples_split=5, n_estimators=100;, score=0.932 total time=   1.1s\n",
      "[CV 1/5] END max_features=4, min_samples_leaf=1, min_samples_split=5, n_estimators=300;, score=0.931 total time=   3.5s\n",
      "[CV 2/5] END max_features=4, min_samples_leaf=1, min_samples_split=5, n_estimators=300;, score=0.931 total time=   3.3s\n",
      "[CV 3/5] END max_features=4, min_samples_leaf=1, min_samples_split=5, n_estimators=300;, score=0.935 total time=   3.5s\n",
      "[CV 4/5] END max_features=4, min_samples_leaf=1, min_samples_split=5, n_estimators=300;, score=0.938 total time=   3.5s\n",
      "[CV 5/5] END max_features=4, min_samples_leaf=1, min_samples_split=5, n_estimators=300;, score=0.932 total time=   3.5s\n",
      "[CV 1/5] END max_features=4, min_samples_leaf=1, min_samples_split=5, n_estimators=500;, score=0.931 total time=   5.9s\n",
      "[CV 2/5] END max_features=4, min_samples_leaf=1, min_samples_split=5, n_estimators=500;, score=0.931 total time=   5.6s\n",
      "[CV 3/5] END max_features=4, min_samples_leaf=1, min_samples_split=5, n_estimators=500;, score=0.935 total time=   5.9s\n",
      "[CV 4/5] END max_features=4, min_samples_leaf=1, min_samples_split=5, n_estimators=500;, score=0.938 total time=   5.9s\n",
      "[CV 5/5] END max_features=4, min_samples_leaf=1, min_samples_split=5, n_estimators=500;, score=0.932 total time=   5.9s\n",
      "[CV 1/5] END max_features=4, min_samples_leaf=1, min_samples_split=12, n_estimators=10;, score=0.931 total time=   0.0s\n",
      "[CV 2/5] END max_features=4, min_samples_leaf=1, min_samples_split=12, n_estimators=10;, score=0.931 total time=   0.0s\n",
      "[CV 3/5] END max_features=4, min_samples_leaf=1, min_samples_split=12, n_estimators=10;, score=0.935 total time=   0.0s\n",
      "[CV 4/5] END max_features=4, min_samples_leaf=1, min_samples_split=12, n_estimators=10;, score=0.938 total time=   0.1s\n",
      "[CV 5/5] END max_features=4, min_samples_leaf=1, min_samples_split=12, n_estimators=10;, score=0.932 total time=   0.0s\n",
      "[CV 1/5] END max_features=4, min_samples_leaf=1, min_samples_split=12, n_estimators=100;, score=0.931 total time=   1.1s\n",
      "[CV 2/5] END max_features=4, min_samples_leaf=1, min_samples_split=12, n_estimators=100;, score=0.931 total time=   1.1s\n",
      "[CV 3/5] END max_features=4, min_samples_leaf=1, min_samples_split=12, n_estimators=100;, score=0.935 total time=   1.1s\n",
      "[CV 4/5] END max_features=4, min_samples_leaf=1, min_samples_split=12, n_estimators=100;, score=0.938 total time=   1.1s\n",
      "[CV 5/5] END max_features=4, min_samples_leaf=1, min_samples_split=12, n_estimators=100;, score=0.932 total time=   1.1s\n",
      "[CV 1/5] END max_features=4, min_samples_leaf=1, min_samples_split=12, n_estimators=300;, score=0.931 total time=   3.5s\n",
      "[CV 2/5] END max_features=4, min_samples_leaf=1, min_samples_split=12, n_estimators=300;, score=0.931 total time=   3.3s\n",
      "[CV 3/5] END max_features=4, min_samples_leaf=1, min_samples_split=12, n_estimators=300;, score=0.935 total time=   3.4s\n",
      "[CV 4/5] END max_features=4, min_samples_leaf=1, min_samples_split=12, n_estimators=300;, score=0.938 total time=   3.4s\n",
      "[CV 5/5] END max_features=4, min_samples_leaf=1, min_samples_split=12, n_estimators=300;, score=0.932 total time=   3.5s\n",
      "[CV 1/5] END max_features=4, min_samples_leaf=1, min_samples_split=12, n_estimators=500;, score=0.931 total time=   5.8s\n",
      "[CV 2/5] END max_features=4, min_samples_leaf=1, min_samples_split=12, n_estimators=500;, score=0.931 total time=   5.5s\n",
      "[CV 3/5] END max_features=4, min_samples_leaf=1, min_samples_split=12, n_estimators=500;, score=0.935 total time=   5.7s\n",
      "[CV 4/5] END max_features=4, min_samples_leaf=1, min_samples_split=12, n_estimators=500;, score=0.938 total time=   5.8s\n",
      "[CV 5/5] END max_features=4, min_samples_leaf=1, min_samples_split=12, n_estimators=500;, score=0.932 total time=   5.8s\n",
      "[CV 1/5] END max_features=4, min_samples_leaf=3, min_samples_split=2, n_estimators=10;, score=0.931 total time=   0.1s\n",
      "[CV 2/5] END max_features=4, min_samples_leaf=3, min_samples_split=2, n_estimators=10;, score=0.930 total time=   0.0s\n",
      "[CV 3/5] END max_features=4, min_samples_leaf=3, min_samples_split=2, n_estimators=10;, score=0.935 total time=   0.0s\n",
      "[CV 4/5] END max_features=4, min_samples_leaf=3, min_samples_split=2, n_estimators=10;, score=0.937 total time=   0.0s\n",
      "[CV 5/5] END max_features=4, min_samples_leaf=3, min_samples_split=2, n_estimators=10;, score=0.932 total time=   0.0s\n",
      "[CV 1/5] END max_features=4, min_samples_leaf=3, min_samples_split=2, n_estimators=100;, score=0.931 total time=   1.1s\n",
      "[CV 2/5] END max_features=4, min_samples_leaf=3, min_samples_split=2, n_estimators=100;, score=0.931 total time=   1.0s\n",
      "[CV 3/5] END max_features=4, min_samples_leaf=3, min_samples_split=2, n_estimators=100;, score=0.935 total time=   1.1s\n",
      "[CV 4/5] END max_features=4, min_samples_leaf=3, min_samples_split=2, n_estimators=100;, score=0.937 total time=   1.1s\n",
      "[CV 5/5] END max_features=4, min_samples_leaf=3, min_samples_split=2, n_estimators=100;, score=0.932 total time=   1.1s\n",
      "[CV 1/5] END max_features=4, min_samples_leaf=3, min_samples_split=2, n_estimators=300;, score=0.931 total time=   3.5s\n",
      "[CV 2/5] END max_features=4, min_samples_leaf=3, min_samples_split=2, n_estimators=300;, score=0.930 total time=   3.3s\n",
      "[CV 3/5] END max_features=4, min_samples_leaf=3, min_samples_split=2, n_estimators=300;, score=0.935 total time=   3.4s\n",
      "[CV 4/5] END max_features=4, min_samples_leaf=3, min_samples_split=2, n_estimators=300;, score=0.937 total time=   3.4s\n",
      "[CV 5/5] END max_features=4, min_samples_leaf=3, min_samples_split=2, n_estimators=300;, score=0.932 total time=   3.5s\n",
      "[CV 1/5] END max_features=4, min_samples_leaf=3, min_samples_split=2, n_estimators=500;, score=0.931 total time=   5.8s\n",
      "[CV 2/5] END max_features=4, min_samples_leaf=3, min_samples_split=2, n_estimators=500;, score=0.930 total time=   5.5s\n",
      "[CV 3/5] END max_features=4, min_samples_leaf=3, min_samples_split=2, n_estimators=500;, score=0.935 total time=   5.8s\n",
      "[CV 4/5] END max_features=4, min_samples_leaf=3, min_samples_split=2, n_estimators=500;, score=0.937 total time=   5.7s\n",
      "[CV 5/5] END max_features=4, min_samples_leaf=3, min_samples_split=2, n_estimators=500;, score=0.932 total time=   5.7s\n",
      "[CV 1/5] END max_features=4, min_samples_leaf=3, min_samples_split=5, n_estimators=10;, score=0.931 total time=   0.0s\n",
      "[CV 2/5] END max_features=4, min_samples_leaf=3, min_samples_split=5, n_estimators=10;, score=0.931 total time=   0.0s\n",
      "[CV 3/5] END max_features=4, min_samples_leaf=3, min_samples_split=5, n_estimators=10;, score=0.935 total time=   0.0s\n",
      "[CV 4/5] END max_features=4, min_samples_leaf=3, min_samples_split=5, n_estimators=10;, score=0.937 total time=   0.0s\n",
      "[CV 5/5] END max_features=4, min_samples_leaf=3, min_samples_split=5, n_estimators=10;, score=0.932 total time=   0.0s\n",
      "[CV 1/5] END max_features=4, min_samples_leaf=3, min_samples_split=5, n_estimators=100;, score=0.931 total time=   1.1s\n",
      "[CV 2/5] END max_features=4, min_samples_leaf=3, min_samples_split=5, n_estimators=100;, score=0.931 total time=   1.0s\n",
      "[CV 3/5] END max_features=4, min_samples_leaf=3, min_samples_split=5, n_estimators=100;, score=0.935 total time=   1.1s\n",
      "[CV 4/5] END max_features=4, min_samples_leaf=3, min_samples_split=5, n_estimators=100;, score=0.937 total time=   1.1s\n",
      "[CV 5/5] END max_features=4, min_samples_leaf=3, min_samples_split=5, n_estimators=100;, score=0.932 total time=   1.1s\n",
      "[CV 1/5] END max_features=4, min_samples_leaf=3, min_samples_split=5, n_estimators=300;, score=0.931 total time=   3.5s\n",
      "[CV 2/5] END max_features=4, min_samples_leaf=3, min_samples_split=5, n_estimators=300;, score=0.930 total time=   3.4s\n",
      "[CV 3/5] END max_features=4, min_samples_leaf=3, min_samples_split=5, n_estimators=300;, score=0.935 total time=   3.4s\n",
      "[CV 4/5] END max_features=4, min_samples_leaf=3, min_samples_split=5, n_estimators=300;, score=0.937 total time=   3.4s\n",
      "[CV 5/5] END max_features=4, min_samples_leaf=3, min_samples_split=5, n_estimators=300;, score=0.932 total time=   3.5s\n",
      "[CV 1/5] END max_features=4, min_samples_leaf=3, min_samples_split=5, n_estimators=500;, score=0.931 total time=   5.8s\n",
      "[CV 2/5] END max_features=4, min_samples_leaf=3, min_samples_split=5, n_estimators=500;, score=0.930 total time=   5.5s\n",
      "[CV 3/5] END max_features=4, min_samples_leaf=3, min_samples_split=5, n_estimators=500;, score=0.935 total time=   5.9s\n",
      "[CV 4/5] END max_features=4, min_samples_leaf=3, min_samples_split=5, n_estimators=500;, score=0.937 total time=   5.8s\n",
      "[CV 5/5] END max_features=4, min_samples_leaf=3, min_samples_split=5, n_estimators=500;, score=0.932 total time=   5.8s\n",
      "[CV 1/5] END max_features=4, min_samples_leaf=3, min_samples_split=12, n_estimators=10;, score=0.931 total time=   0.1s\n",
      "[CV 2/5] END max_features=4, min_samples_leaf=3, min_samples_split=12, n_estimators=10;, score=0.930 total time=   0.1s\n",
      "[CV 3/5] END max_features=4, min_samples_leaf=3, min_samples_split=12, n_estimators=10;, score=0.935 total time=   0.0s\n",
      "[CV 4/5] END max_features=4, min_samples_leaf=3, min_samples_split=12, n_estimators=10;, score=0.937 total time=   0.1s\n",
      "[CV 5/5] END max_features=4, min_samples_leaf=3, min_samples_split=12, n_estimators=10;, score=0.932 total time=   0.1s\n",
      "[CV 1/5] END max_features=4, min_samples_leaf=3, min_samples_split=12, n_estimators=100;, score=0.931 total time=   1.1s\n",
      "[CV 2/5] END max_features=4, min_samples_leaf=3, min_samples_split=12, n_estimators=100;, score=0.930 total time=   1.0s\n",
      "[CV 3/5] END max_features=4, min_samples_leaf=3, min_samples_split=12, n_estimators=100;, score=0.935 total time=   1.1s\n",
      "[CV 4/5] END max_features=4, min_samples_leaf=3, min_samples_split=12, n_estimators=100;, score=0.937 total time=   1.1s\n",
      "[CV 5/5] END max_features=4, min_samples_leaf=3, min_samples_split=12, n_estimators=100;, score=0.932 total time=   1.1s\n",
      "[CV 1/5] END max_features=4, min_samples_leaf=3, min_samples_split=12, n_estimators=300;, score=0.931 total time=   3.5s\n",
      "[CV 2/5] END max_features=4, min_samples_leaf=3, min_samples_split=12, n_estimators=300;, score=0.930 total time=   3.3s\n",
      "[CV 3/5] END max_features=4, min_samples_leaf=3, min_samples_split=12, n_estimators=300;, score=0.935 total time=   3.4s\n",
      "[CV 4/5] END max_features=4, min_samples_leaf=3, min_samples_split=12, n_estimators=300;, score=0.937 total time=   3.3s\n",
      "[CV 5/5] END max_features=4, min_samples_leaf=3, min_samples_split=12, n_estimators=300;, score=0.932 total time=   3.6s\n",
      "[CV 1/5] END max_features=4, min_samples_leaf=3, min_samples_split=12, n_estimators=500;, score=0.931 total time=   6.1s\n",
      "[CV 2/5] END max_features=4, min_samples_leaf=3, min_samples_split=12, n_estimators=500;, score=0.930 total time=   5.8s\n",
      "[CV 3/5] END max_features=4, min_samples_leaf=3, min_samples_split=12, n_estimators=500;, score=0.935 total time=   5.9s\n",
      "[CV 4/5] END max_features=4, min_samples_leaf=3, min_samples_split=12, n_estimators=500;, score=0.937 total time=   5.9s\n",
      "[CV 5/5] END max_features=4, min_samples_leaf=3, min_samples_split=12, n_estimators=500;, score=0.932 total time=   5.8s\n",
      "[CV 1/5] END max_features=4, min_samples_leaf=5, min_samples_split=2, n_estimators=10;, score=0.931 total time=   0.0s\n",
      "[CV 2/5] END max_features=4, min_samples_leaf=5, min_samples_split=2, n_estimators=10;, score=0.930 total time=   0.0s\n",
      "[CV 3/5] END max_features=4, min_samples_leaf=5, min_samples_split=2, n_estimators=10;, score=0.935 total time=   0.0s\n",
      "[CV 4/5] END max_features=4, min_samples_leaf=5, min_samples_split=2, n_estimators=10;, score=0.937 total time=   0.1s\n",
      "[CV 5/5] END max_features=4, min_samples_leaf=5, min_samples_split=2, n_estimators=10;, score=0.932 total time=   0.0s\n",
      "[CV 1/5] END max_features=4, min_samples_leaf=5, min_samples_split=2, n_estimators=100;, score=0.931 total time=   1.1s\n",
      "[CV 2/5] END max_features=4, min_samples_leaf=5, min_samples_split=2, n_estimators=100;, score=0.930 total time=   1.0s\n",
      "[CV 3/5] END max_features=4, min_samples_leaf=5, min_samples_split=2, n_estimators=100;, score=0.935 total time=   1.1s\n",
      "[CV 4/5] END max_features=4, min_samples_leaf=5, min_samples_split=2, n_estimators=100;, score=0.937 total time=   1.1s\n",
      "[CV 5/5] END max_features=4, min_samples_leaf=5, min_samples_split=2, n_estimators=100;, score=0.932 total time=   1.1s\n",
      "[CV 1/5] END max_features=4, min_samples_leaf=5, min_samples_split=2, n_estimators=300;, score=0.931 total time=   3.5s\n",
      "[CV 2/5] END max_features=4, min_samples_leaf=5, min_samples_split=2, n_estimators=300;, score=0.930 total time=   3.3s\n",
      "[CV 3/5] END max_features=4, min_samples_leaf=5, min_samples_split=2, n_estimators=300;, score=0.935 total time=   3.4s\n",
      "[CV 4/5] END max_features=4, min_samples_leaf=5, min_samples_split=2, n_estimators=300;, score=0.937 total time=   3.4s\n",
      "[CV 5/5] END max_features=4, min_samples_leaf=5, min_samples_split=2, n_estimators=300;, score=0.932 total time=   3.4s\n",
      "[CV 1/5] END max_features=4, min_samples_leaf=5, min_samples_split=2, n_estimators=500;, score=0.931 total time=   5.8s\n",
      "[CV 2/5] END max_features=4, min_samples_leaf=5, min_samples_split=2, n_estimators=500;, score=0.930 total time=   5.5s\n",
      "[CV 3/5] END max_features=4, min_samples_leaf=5, min_samples_split=2, n_estimators=500;, score=0.935 total time=   5.8s\n",
      "[CV 4/5] END max_features=4, min_samples_leaf=5, min_samples_split=2, n_estimators=500;, score=0.937 total time=   5.7s\n",
      "[CV 5/5] END max_features=4, min_samples_leaf=5, min_samples_split=2, n_estimators=500;, score=0.932 total time=   5.7s\n",
      "[CV 1/5] END max_features=4, min_samples_leaf=5, min_samples_split=5, n_estimators=10;, score=0.931 total time=   0.0s\n",
      "[CV 2/5] END max_features=4, min_samples_leaf=5, min_samples_split=5, n_estimators=10;, score=0.930 total time=   0.0s\n",
      "[CV 3/5] END max_features=4, min_samples_leaf=5, min_samples_split=5, n_estimators=10;, score=0.934 total time=   0.0s\n",
      "[CV 4/5] END max_features=4, min_samples_leaf=5, min_samples_split=5, n_estimators=10;, score=0.937 total time=   0.0s\n",
      "[CV 5/5] END max_features=4, min_samples_leaf=5, min_samples_split=5, n_estimators=10;, score=0.932 total time=   0.0s\n",
      "[CV 1/5] END max_features=4, min_samples_leaf=5, min_samples_split=5, n_estimators=100;, score=0.931 total time=   1.1s\n",
      "[CV 2/5] END max_features=4, min_samples_leaf=5, min_samples_split=5, n_estimators=100;, score=0.930 total time=   1.1s\n",
      "[CV 3/5] END max_features=4, min_samples_leaf=5, min_samples_split=5, n_estimators=100;, score=0.935 total time=   1.1s\n",
      "[CV 4/5] END max_features=4, min_samples_leaf=5, min_samples_split=5, n_estimators=100;, score=0.937 total time=   1.1s\n",
      "[CV 5/5] END max_features=4, min_samples_leaf=5, min_samples_split=5, n_estimators=100;, score=0.932 total time=   1.1s\n",
      "[CV 1/5] END max_features=4, min_samples_leaf=5, min_samples_split=5, n_estimators=300;, score=0.931 total time=   3.4s\n",
      "[CV 2/5] END max_features=4, min_samples_leaf=5, min_samples_split=5, n_estimators=300;, score=0.930 total time=   3.3s\n",
      "[CV 3/5] END max_features=4, min_samples_leaf=5, min_samples_split=5, n_estimators=300;, score=0.935 total time=   3.3s\n",
      "[CV 4/5] END max_features=4, min_samples_leaf=5, min_samples_split=5, n_estimators=300;, score=0.937 total time=   3.3s\n",
      "[CV 5/5] END max_features=4, min_samples_leaf=5, min_samples_split=5, n_estimators=300;, score=0.932 total time=   3.4s\n",
      "[CV 1/5] END max_features=4, min_samples_leaf=5, min_samples_split=5, n_estimators=500;, score=0.931 total time=   5.8s\n",
      "[CV 2/5] END max_features=4, min_samples_leaf=5, min_samples_split=5, n_estimators=500;, score=0.930 total time=   5.4s\n",
      "[CV 3/5] END max_features=4, min_samples_leaf=5, min_samples_split=5, n_estimators=500;, score=0.935 total time=   5.8s\n",
      "[CV 4/5] END max_features=4, min_samples_leaf=5, min_samples_split=5, n_estimators=500;, score=0.937 total time=   5.9s\n",
      "[CV 5/5] END max_features=4, min_samples_leaf=5, min_samples_split=5, n_estimators=500;, score=0.932 total time=  11.8s\n",
      "[CV 1/5] END max_features=4, min_samples_leaf=5, min_samples_split=12, n_estimators=10;, score=0.931 total time=   0.2s\n",
      "[CV 2/5] END max_features=4, min_samples_leaf=5, min_samples_split=12, n_estimators=10;, score=0.930 total time=   0.2s\n",
      "[CV 3/5] END max_features=4, min_samples_leaf=5, min_samples_split=12, n_estimators=10;, score=0.935 total time=   0.2s\n",
      "[CV 4/5] END max_features=4, min_samples_leaf=5, min_samples_split=12, n_estimators=10;, score=0.937 total time=   0.2s\n",
      "[CV 5/5] END max_features=4, min_samples_leaf=5, min_samples_split=12, n_estimators=10;, score=0.932 total time=   0.2s\n",
      "[CV 1/5] END max_features=4, min_samples_leaf=5, min_samples_split=12, n_estimators=100;, score=0.931 total time=   2.8s\n",
      "[CV 2/5] END max_features=4, min_samples_leaf=5, min_samples_split=12, n_estimators=100;, score=0.930 total time=   2.6s\n",
      "[CV 3/5] END max_features=4, min_samples_leaf=5, min_samples_split=12, n_estimators=100;, score=0.935 total time=   2.8s\n",
      "[CV 4/5] END max_features=4, min_samples_leaf=5, min_samples_split=12, n_estimators=100;, score=0.937 total time=   2.8s\n",
      "[CV 5/5] END max_features=4, min_samples_leaf=5, min_samples_split=12, n_estimators=100;, score=0.932 total time=   2.9s\n",
      "[CV 1/5] END max_features=4, min_samples_leaf=5, min_samples_split=12, n_estimators=300;, score=0.931 total time=   8.6s\n",
      "[CV 2/5] END max_features=4, min_samples_leaf=5, min_samples_split=12, n_estimators=300;, score=0.930 total time=   8.1s\n",
      "[CV 3/5] END max_features=4, min_samples_leaf=5, min_samples_split=12, n_estimators=300;, score=0.935 total time=   8.4s\n",
      "[CV 4/5] END max_features=4, min_samples_leaf=5, min_samples_split=12, n_estimators=300;, score=0.937 total time=   8.2s\n",
      "[CV 5/5] END max_features=4, min_samples_leaf=5, min_samples_split=12, n_estimators=300;, score=0.932 total time=   8.5s\n",
      "[CV 1/5] END max_features=4, min_samples_leaf=5, min_samples_split=12, n_estimators=500;, score=0.931 total time=  13.5s\n",
      "[CV 2/5] END max_features=4, min_samples_leaf=5, min_samples_split=12, n_estimators=500;, score=0.930 total time=  13.0s\n",
      "[CV 3/5] END max_features=4, min_samples_leaf=5, min_samples_split=12, n_estimators=500;, score=0.935 total time=  13.3s\n",
      "[CV 4/5] END max_features=4, min_samples_leaf=5, min_samples_split=12, n_estimators=500;, score=0.937 total time=  13.5s\n",
      "[CV 5/5] END max_features=4, min_samples_leaf=5, min_samples_split=12, n_estimators=500;, score=0.932 total time=  13.7s\n",
      "[CV 1/5] END max_features=6, min_samples_leaf=1, min_samples_split=2, n_estimators=10;, score=0.931 total time=   0.3s\n",
      "[CV 2/5] END max_features=6, min_samples_leaf=1, min_samples_split=2, n_estimators=10;, score=0.930 total time=   0.3s\n",
      "[CV 3/5] END max_features=6, min_samples_leaf=1, min_samples_split=2, n_estimators=10;, score=0.935 total time=   0.3s\n",
      "[CV 4/5] END max_features=6, min_samples_leaf=1, min_samples_split=2, n_estimators=10;, score=0.938 total time=   0.3s\n",
      "[CV 5/5] END max_features=6, min_samples_leaf=1, min_samples_split=2, n_estimators=10;, score=0.932 total time=   0.3s\n",
      "[CV 1/5] END max_features=6, min_samples_leaf=1, min_samples_split=2, n_estimators=100;, score=0.931 total time=   2.9s\n",
      "[CV 2/5] END max_features=6, min_samples_leaf=1, min_samples_split=2, n_estimators=100;, score=0.930 total time=   2.9s\n",
      "[CV 3/5] END max_features=6, min_samples_leaf=1, min_samples_split=2, n_estimators=100;, score=0.935 total time=   3.0s\n",
      "[CV 4/5] END max_features=6, min_samples_leaf=1, min_samples_split=2, n_estimators=100;, score=0.938 total time=   2.9s\n",
      "[CV 5/5] END max_features=6, min_samples_leaf=1, min_samples_split=2, n_estimators=100;, score=0.932 total time=   2.9s\n",
      "[CV 1/5] END max_features=6, min_samples_leaf=1, min_samples_split=2, n_estimators=300;, score=0.931 total time=   8.9s\n",
      "[CV 2/5] END max_features=6, min_samples_leaf=1, min_samples_split=2, n_estimators=300;, score=0.930 total time=   8.6s\n",
      "[CV 3/5] END max_features=6, min_samples_leaf=1, min_samples_split=2, n_estimators=300;, score=0.935 total time=   8.7s\n",
      "[CV 4/5] END max_features=6, min_samples_leaf=1, min_samples_split=2, n_estimators=300;, score=0.938 total time=   8.5s\n",
      "[CV 5/5] END max_features=6, min_samples_leaf=1, min_samples_split=2, n_estimators=300;, score=0.932 total time=   8.9s\n",
      "[CV 1/5] END max_features=6, min_samples_leaf=1, min_samples_split=2, n_estimators=500;, score=0.931 total time=  14.8s\n",
      "[CV 2/5] END max_features=6, min_samples_leaf=1, min_samples_split=2, n_estimators=500;, score=0.930 total time=  14.4s\n",
      "[CV 3/5] END max_features=6, min_samples_leaf=1, min_samples_split=2, n_estimators=500;, score=0.935 total time=  15.7s\n",
      "[CV 4/5] END max_features=6, min_samples_leaf=1, min_samples_split=2, n_estimators=500;, score=0.938 total time=  16.3s\n",
      "[CV 5/5] END max_features=6, min_samples_leaf=1, min_samples_split=2, n_estimators=500;, score=0.932 total time=  17.2s\n",
      "[CV 1/5] END max_features=6, min_samples_leaf=1, min_samples_split=5, n_estimators=10;, score=0.931 total time=   0.3s\n",
      "[CV 2/5] END max_features=6, min_samples_leaf=1, min_samples_split=5, n_estimators=10;, score=0.931 total time=   0.3s\n",
      "[CV 3/5] END max_features=6, min_samples_leaf=1, min_samples_split=5, n_estimators=10;, score=0.935 total time=   0.3s\n",
      "[CV 4/5] END max_features=6, min_samples_leaf=1, min_samples_split=5, n_estimators=10;, score=0.938 total time=   0.3s\n",
      "[CV 5/5] END max_features=6, min_samples_leaf=1, min_samples_split=5, n_estimators=10;, score=0.932 total time=   0.3s\n",
      "[CV 1/5] END max_features=6, min_samples_leaf=1, min_samples_split=5, n_estimators=100;, score=0.931 total time=   3.2s\n",
      "[CV 2/5] END max_features=6, min_samples_leaf=1, min_samples_split=5, n_estimators=100;, score=0.931 total time=   3.2s\n",
      "[CV 3/5] END max_features=6, min_samples_leaf=1, min_samples_split=5, n_estimators=100;, score=0.935 total time=   3.2s\n",
      "[CV 4/5] END max_features=6, min_samples_leaf=1, min_samples_split=5, n_estimators=100;, score=0.938 total time=   3.1s\n",
      "[CV 5/5] END max_features=6, min_samples_leaf=1, min_samples_split=5, n_estimators=100;, score=0.932 total time=   3.0s\n",
      "[CV 1/5] END max_features=6, min_samples_leaf=1, min_samples_split=5, n_estimators=300;, score=0.931 total time=   8.8s\n",
      "[CV 2/5] END max_features=6, min_samples_leaf=1, min_samples_split=5, n_estimators=300;, score=0.931 total time=   6.9s\n",
      "[CV 3/5] END max_features=6, min_samples_leaf=1, min_samples_split=5, n_estimators=300;, score=0.935 total time=   7.5s\n",
      "[CV 4/5] END max_features=6, min_samples_leaf=1, min_samples_split=5, n_estimators=300;, score=0.938 total time=   8.5s\n",
      "[CV 5/5] END max_features=6, min_samples_leaf=1, min_samples_split=5, n_estimators=300;, score=0.932 total time=   9.2s\n",
      "[CV 1/5] END max_features=6, min_samples_leaf=1, min_samples_split=5, n_estimators=500;, score=0.931 total time=  14.9s\n",
      "[CV 2/5] END max_features=6, min_samples_leaf=1, min_samples_split=5, n_estimators=500;, score=0.931 total time=  14.8s\n",
      "[CV 3/5] END max_features=6, min_samples_leaf=1, min_samples_split=5, n_estimators=500;, score=0.935 total time=  15.0s\n",
      "[CV 4/5] END max_features=6, min_samples_leaf=1, min_samples_split=5, n_estimators=500;, score=0.938 total time=  14.9s\n",
      "[CV 5/5] END max_features=6, min_samples_leaf=1, min_samples_split=5, n_estimators=500;, score=0.932 total time=  15.0s\n",
      "[CV 1/5] END max_features=6, min_samples_leaf=1, min_samples_split=12, n_estimators=10;, score=0.931 total time=   0.3s\n",
      "[CV 2/5] END max_features=6, min_samples_leaf=1, min_samples_split=12, n_estimators=10;, score=0.931 total time=   0.3s\n",
      "[CV 3/5] END max_features=6, min_samples_leaf=1, min_samples_split=12, n_estimators=10;, score=0.935 total time=   0.3s\n",
      "[CV 4/5] END max_features=6, min_samples_leaf=1, min_samples_split=12, n_estimators=10;, score=0.938 total time=   0.3s\n",
      "[CV 5/5] END max_features=6, min_samples_leaf=1, min_samples_split=12, n_estimators=10;, score=0.932 total time=   0.3s\n",
      "[CV 1/5] END max_features=6, min_samples_leaf=1, min_samples_split=12, n_estimators=100;, score=0.931 total time=   2.9s\n",
      "[CV 2/5] END max_features=6, min_samples_leaf=1, min_samples_split=12, n_estimators=100;, score=0.931 total time=   2.9s\n",
      "[CV 3/5] END max_features=6, min_samples_leaf=1, min_samples_split=12, n_estimators=100;, score=0.935 total time=   2.9s\n",
      "[CV 4/5] END max_features=6, min_samples_leaf=1, min_samples_split=12, n_estimators=100;, score=0.938 total time=   2.9s\n",
      "[CV 5/5] END max_features=6, min_samples_leaf=1, min_samples_split=12, n_estimators=100;, score=0.932 total time=   2.9s\n",
      "[CV 1/5] END max_features=6, min_samples_leaf=1, min_samples_split=12, n_estimators=300;, score=0.931 total time=   8.9s\n",
      "[CV 2/5] END max_features=6, min_samples_leaf=1, min_samples_split=12, n_estimators=300;, score=0.931 total time=   8.7s\n",
      "[CV 3/5] END max_features=6, min_samples_leaf=1, min_samples_split=12, n_estimators=300;, score=0.935 total time=   8.8s\n",
      "[CV 4/5] END max_features=6, min_samples_leaf=1, min_samples_split=12, n_estimators=300;, score=0.938 total time=   8.7s\n",
      "[CV 5/5] END max_features=6, min_samples_leaf=1, min_samples_split=12, n_estimators=300;, score=0.932 total time=   9.2s\n",
      "[CV 1/5] END max_features=6, min_samples_leaf=1, min_samples_split=12, n_estimators=500;, score=0.931 total time=  16.5s\n",
      "[CV 2/5] END max_features=6, min_samples_leaf=1, min_samples_split=12, n_estimators=500;, score=0.931 total time=  16.2s\n",
      "[CV 3/5] END max_features=6, min_samples_leaf=1, min_samples_split=12, n_estimators=500;, score=0.935 total time=  16.7s\n",
      "[CV 4/5] END max_features=6, min_samples_leaf=1, min_samples_split=12, n_estimators=500;, score=0.938 total time=  16.1s\n",
      "[CV 5/5] END max_features=6, min_samples_leaf=1, min_samples_split=12, n_estimators=500;, score=0.932 total time=  16.0s\n",
      "[CV 1/5] END max_features=6, min_samples_leaf=3, min_samples_split=2, n_estimators=10;, score=0.931 total time=   0.3s\n",
      "[CV 2/5] END max_features=6, min_samples_leaf=3, min_samples_split=2, n_estimators=10;, score=0.930 total time=   0.3s\n",
      "[CV 3/5] END max_features=6, min_samples_leaf=3, min_samples_split=2, n_estimators=10;, score=0.935 total time=   0.3s\n",
      "[CV 4/5] END max_features=6, min_samples_leaf=3, min_samples_split=2, n_estimators=10;, score=0.938 total time=   0.3s\n",
      "[CV 5/5] END max_features=6, min_samples_leaf=3, min_samples_split=2, n_estimators=10;, score=0.932 total time=   0.3s\n",
      "[CV 1/5] END max_features=6, min_samples_leaf=3, min_samples_split=2, n_estimators=100;, score=0.931 total time=   3.2s\n",
      "[CV 2/5] END max_features=6, min_samples_leaf=3, min_samples_split=2, n_estimators=100;, score=0.930 total time=   3.1s\n",
      "[CV 3/5] END max_features=6, min_samples_leaf=3, min_samples_split=2, n_estimators=100;, score=0.935 total time=   3.2s\n",
      "[CV 4/5] END max_features=6, min_samples_leaf=3, min_samples_split=2, n_estimators=100;, score=0.937 total time=   3.2s\n",
      "[CV 5/5] END max_features=6, min_samples_leaf=3, min_samples_split=2, n_estimators=100;, score=0.932 total time=   3.2s\n",
      "[CV 1/5] END max_features=6, min_samples_leaf=3, min_samples_split=2, n_estimators=300;, score=0.931 total time=  10.0s\n",
      "[CV 2/5] END max_features=6, min_samples_leaf=3, min_samples_split=2, n_estimators=300;, score=0.931 total time=   9.6s\n",
      "[CV 3/5] END max_features=6, min_samples_leaf=3, min_samples_split=2, n_estimators=300;, score=0.935 total time=   9.7s\n",
      "[CV 4/5] END max_features=6, min_samples_leaf=3, min_samples_split=2, n_estimators=300;, score=0.937 total time=   8.9s\n",
      "[CV 5/5] END max_features=6, min_samples_leaf=3, min_samples_split=2, n_estimators=300;, score=0.932 total time=   8.6s\n",
      "[CV 1/5] END max_features=6, min_samples_leaf=3, min_samples_split=2, n_estimators=500;, score=0.931 total time=  14.6s\n",
      "[CV 2/5] END max_features=6, min_samples_leaf=3, min_samples_split=2, n_estimators=500;, score=0.931 total time=69.5min\n",
      "[CV 3/5] END max_features=6, min_samples_leaf=3, min_samples_split=2, n_estimators=500;, score=0.935 total time=  15.6s\n",
      "[CV 4/5] END max_features=6, min_samples_leaf=3, min_samples_split=2, n_estimators=500;, score=0.937 total time=  15.5s\n",
      "[CV 5/5] END max_features=6, min_samples_leaf=3, min_samples_split=2, n_estimators=500;, score=0.932 total time=  15.0s\n",
      "[CV 1/5] END max_features=6, min_samples_leaf=3, min_samples_split=5, n_estimators=10;, score=0.931 total time=   0.3s\n",
      "[CV 2/5] END max_features=6, min_samples_leaf=3, min_samples_split=5, n_estimators=10;, score=0.931 total time=   0.3s\n",
      "[CV 3/5] END max_features=6, min_samples_leaf=3, min_samples_split=5, n_estimators=10;, score=0.935 total time=   0.3s\n",
      "[CV 4/5] END max_features=6, min_samples_leaf=3, min_samples_split=5, n_estimators=10;, score=0.937 total time=   0.3s\n",
      "[CV 5/5] END max_features=6, min_samples_leaf=3, min_samples_split=5, n_estimators=10;, score=0.932 total time=   0.2s\n",
      "[CV 1/5] END max_features=6, min_samples_leaf=3, min_samples_split=5, n_estimators=100;, score=0.931 total time=   2.9s\n",
      "[CV 2/5] END max_features=6, min_samples_leaf=3, min_samples_split=5, n_estimators=100;, score=0.930 total time=   2.9s\n",
      "[CV 3/5] END max_features=6, min_samples_leaf=3, min_samples_split=5, n_estimators=100;, score=0.935 total time=   2.3s\n",
      "[CV 4/5] END max_features=6, min_samples_leaf=3, min_samples_split=5, n_estimators=100;, score=0.937 total time=   2.5s\n",
      "[CV 5/5] END max_features=6, min_samples_leaf=3, min_samples_split=5, n_estimators=100;, score=0.932 total time=   3.9s\n",
      "[CV 1/5] END max_features=6, min_samples_leaf=3, min_samples_split=5, n_estimators=300;, score=0.931 total time=   7.5s\n",
      "[CV 2/5] END max_features=6, min_samples_leaf=3, min_samples_split=5, n_estimators=300;, score=0.931 total time=   4.1s\n",
      "[CV 3/5] END max_features=6, min_samples_leaf=3, min_samples_split=5, n_estimators=300;, score=0.935 total time=   4.0s\n",
      "[CV 4/5] END max_features=6, min_samples_leaf=3, min_samples_split=5, n_estimators=300;, score=0.937 total time=   4.0s\n",
      "[CV 5/5] END max_features=6, min_samples_leaf=3, min_samples_split=5, n_estimators=300;, score=0.932 total time=   5.5s\n",
      "[CV 1/5] END max_features=6, min_samples_leaf=3, min_samples_split=5, n_estimators=500;, score=0.931 total time=   8.8s\n",
      "[CV 2/5] END max_features=6, min_samples_leaf=3, min_samples_split=5, n_estimators=500;, score=0.930 total time=   7.9s\n",
      "[CV 3/5] END max_features=6, min_samples_leaf=3, min_samples_split=5, n_estimators=500;, score=0.935 total time=   7.7s\n",
      "[CV 4/5] END max_features=6, min_samples_leaf=3, min_samples_split=5, n_estimators=500;, score=0.937 total time=   9.8s\n",
      "[CV 5/5] END max_features=6, min_samples_leaf=3, min_samples_split=5, n_estimators=500;, score=0.932 total time=   9.0s\n",
      "[CV 1/5] END max_features=6, min_samples_leaf=3, min_samples_split=12, n_estimators=10;, score=0.931 total time=   0.1s\n",
      "[CV 2/5] END max_features=6, min_samples_leaf=3, min_samples_split=12, n_estimators=10;, score=0.930 total time=   0.1s\n",
      "[CV 3/5] END max_features=6, min_samples_leaf=3, min_samples_split=12, n_estimators=10;, score=0.935 total time=   0.1s\n",
      "[CV 4/5] END max_features=6, min_samples_leaf=3, min_samples_split=12, n_estimators=10;, score=0.937 total time=   0.1s\n",
      "[CV 5/5] END max_features=6, min_samples_leaf=3, min_samples_split=12, n_estimators=10;, score=0.932 total time=   0.1s\n",
      "[CV 1/5] END max_features=6, min_samples_leaf=3, min_samples_split=12, n_estimators=100;, score=0.931 total time=   1.8s\n",
      "[CV 2/5] END max_features=6, min_samples_leaf=3, min_samples_split=12, n_estimators=100;, score=0.930 total time=   2.8s\n",
      "[CV 3/5] END max_features=6, min_samples_leaf=3, min_samples_split=12, n_estimators=100;, score=0.935 total time=   1.9s\n",
      "[CV 4/5] END max_features=6, min_samples_leaf=3, min_samples_split=12, n_estimators=100;, score=0.937 total time=   1.4s\n",
      "[CV 5/5] END max_features=6, min_samples_leaf=3, min_samples_split=12, n_estimators=100;, score=0.932 total time=   1.4s\n",
      "[CV 1/5] END max_features=6, min_samples_leaf=3, min_samples_split=12, n_estimators=300;, score=0.931 total time=   4.9s\n",
      "[CV 2/5] END max_features=6, min_samples_leaf=3, min_samples_split=12, n_estimators=300;, score=0.930 total time=   4.0s\n",
      "[CV 3/5] END max_features=6, min_samples_leaf=3, min_samples_split=12, n_estimators=300;, score=0.935 total time=   4.2s\n",
      "[CV 4/5] END max_features=6, min_samples_leaf=3, min_samples_split=12, n_estimators=300;, score=0.937 total time=   3.9s\n",
      "[CV 5/5] END max_features=6, min_samples_leaf=3, min_samples_split=12, n_estimators=300;, score=0.932 total time=   3.8s\n",
      "[CV 1/5] END max_features=6, min_samples_leaf=3, min_samples_split=12, n_estimators=500;, score=0.931 total time=   6.2s\n",
      "[CV 2/5] END max_features=6, min_samples_leaf=3, min_samples_split=12, n_estimators=500;, score=0.930 total time=   6.3s\n",
      "[CV 3/5] END max_features=6, min_samples_leaf=3, min_samples_split=12, n_estimators=500;, score=0.935 total time=   6.2s\n",
      "[CV 4/5] END max_features=6, min_samples_leaf=3, min_samples_split=12, n_estimators=500;, score=0.937 total time=   6.2s\n",
      "[CV 5/5] END max_features=6, min_samples_leaf=3, min_samples_split=12, n_estimators=500;, score=0.932 total time=   6.3s\n",
      "[CV 1/5] END max_features=6, min_samples_leaf=5, min_samples_split=2, n_estimators=10;, score=0.931 total time=   0.0s\n",
      "[CV 2/5] END max_features=6, min_samples_leaf=5, min_samples_split=2, n_estimators=10;, score=0.930 total time=   0.1s\n",
      "[CV 3/5] END max_features=6, min_samples_leaf=5, min_samples_split=2, n_estimators=10;, score=0.935 total time=   0.0s\n",
      "[CV 4/5] END max_features=6, min_samples_leaf=5, min_samples_split=2, n_estimators=10;, score=0.937 total time=   0.1s\n",
      "[CV 5/5] END max_features=6, min_samples_leaf=5, min_samples_split=2, n_estimators=10;, score=0.932 total time=   0.1s\n",
      "[CV 1/5] END max_features=6, min_samples_leaf=5, min_samples_split=2, n_estimators=100;, score=0.931 total time=   1.2s\n",
      "[CV 2/5] END max_features=6, min_samples_leaf=5, min_samples_split=2, n_estimators=100;, score=0.930 total time=   1.2s\n",
      "[CV 3/5] END max_features=6, min_samples_leaf=5, min_samples_split=2, n_estimators=100;, score=0.935 total time=   1.2s\n",
      "[CV 4/5] END max_features=6, min_samples_leaf=5, min_samples_split=2, n_estimators=100;, score=0.937 total time=   1.2s\n",
      "[CV 5/5] END max_features=6, min_samples_leaf=5, min_samples_split=2, n_estimators=100;, score=0.932 total time=   1.2s\n",
      "[CV 1/5] END max_features=6, min_samples_leaf=5, min_samples_split=2, n_estimators=300;, score=0.931 total time=   3.7s\n",
      "[CV 2/5] END max_features=6, min_samples_leaf=5, min_samples_split=2, n_estimators=300;, score=0.930 total time=   3.6s\n",
      "[CV 3/5] END max_features=6, min_samples_leaf=5, min_samples_split=2, n_estimators=300;, score=0.935 total time=   3.7s\n",
      "[CV 4/5] END max_features=6, min_samples_leaf=5, min_samples_split=2, n_estimators=300;, score=0.937 total time=   3.7s\n",
      "[CV 5/5] END max_features=6, min_samples_leaf=5, min_samples_split=2, n_estimators=300;, score=0.932 total time=   3.8s\n",
      "[CV 1/5] END max_features=6, min_samples_leaf=5, min_samples_split=2, n_estimators=500;, score=0.931 total time=   6.2s\n",
      "[CV 2/5] END max_features=6, min_samples_leaf=5, min_samples_split=2, n_estimators=500;, score=0.930 total time=   6.1s\n",
      "[CV 3/5] END max_features=6, min_samples_leaf=5, min_samples_split=2, n_estimators=500;, score=0.935 total time=   6.2s\n",
      "[CV 4/5] END max_features=6, min_samples_leaf=5, min_samples_split=2, n_estimators=500;, score=0.937 total time=   6.1s\n",
      "[CV 5/5] END max_features=6, min_samples_leaf=5, min_samples_split=2, n_estimators=500;, score=0.932 total time=   6.2s\n",
      "[CV 1/5] END max_features=6, min_samples_leaf=5, min_samples_split=5, n_estimators=10;, score=0.931 total time=   0.1s\n",
      "[CV 2/5] END max_features=6, min_samples_leaf=5, min_samples_split=5, n_estimators=10;, score=0.930 total time=   0.1s\n",
      "[CV 3/5] END max_features=6, min_samples_leaf=5, min_samples_split=5, n_estimators=10;, score=0.935 total time=   0.0s\n",
      "[CV 4/5] END max_features=6, min_samples_leaf=5, min_samples_split=5, n_estimators=10;, score=0.937 total time=   0.0s\n",
      "[CV 5/5] END max_features=6, min_samples_leaf=5, min_samples_split=5, n_estimators=10;, score=0.932 total time=   0.0s\n",
      "[CV 1/5] END max_features=6, min_samples_leaf=5, min_samples_split=5, n_estimators=100;, score=0.931 total time=   1.2s\n",
      "[CV 2/5] END max_features=6, min_samples_leaf=5, min_samples_split=5, n_estimators=100;, score=0.930 total time=   1.2s\n",
      "[CV 3/5] END max_features=6, min_samples_leaf=5, min_samples_split=5, n_estimators=100;, score=0.935 total time=   1.2s\n",
      "[CV 4/5] END max_features=6, min_samples_leaf=5, min_samples_split=5, n_estimators=100;, score=0.937 total time=   1.2s\n",
      "[CV 5/5] END max_features=6, min_samples_leaf=5, min_samples_split=5, n_estimators=100;, score=0.932 total time=   1.2s\n",
      "[CV 1/5] END max_features=6, min_samples_leaf=5, min_samples_split=5, n_estimators=300;, score=0.931 total time=   3.7s\n",
      "[CV 2/5] END max_features=6, min_samples_leaf=5, min_samples_split=5, n_estimators=300;, score=0.930 total time=   3.7s\n",
      "[CV 3/5] END max_features=6, min_samples_leaf=5, min_samples_split=5, n_estimators=300;, score=0.935 total time=   3.7s\n",
      "[CV 4/5] END max_features=6, min_samples_leaf=5, min_samples_split=5, n_estimators=300;, score=0.937 total time=   3.7s\n",
      "[CV 5/5] END max_features=6, min_samples_leaf=5, min_samples_split=5, n_estimators=300;, score=0.932 total time=   3.7s\n",
      "[CV 1/5] END max_features=6, min_samples_leaf=5, min_samples_split=5, n_estimators=500;, score=0.931 total time=   6.2s\n",
      "[CV 2/5] END max_features=6, min_samples_leaf=5, min_samples_split=5, n_estimators=500;, score=0.930 total time=   6.1s\n",
      "[CV 3/5] END max_features=6, min_samples_leaf=5, min_samples_split=5, n_estimators=500;, score=0.935 total time=   6.3s\n",
      "[CV 4/5] END max_features=6, min_samples_leaf=5, min_samples_split=5, n_estimators=500;, score=0.937 total time=   6.2s\n",
      "[CV 5/5] END max_features=6, min_samples_leaf=5, min_samples_split=5, n_estimators=500;, score=0.932 total time=   6.2s\n",
      "[CV 1/5] END max_features=6, min_samples_leaf=5, min_samples_split=12, n_estimators=10;, score=0.931 total time=   0.0s\n",
      "[CV 2/5] END max_features=6, min_samples_leaf=5, min_samples_split=12, n_estimators=10;, score=0.930 total time=   0.1s\n",
      "[CV 3/5] END max_features=6, min_samples_leaf=5, min_samples_split=12, n_estimators=10;, score=0.935 total time=   0.0s\n",
      "[CV 4/5] END max_features=6, min_samples_leaf=5, min_samples_split=12, n_estimators=10;, score=0.937 total time=   0.1s\n",
      "[CV 5/5] END max_features=6, min_samples_leaf=5, min_samples_split=12, n_estimators=10;, score=0.932 total time=   0.1s\n",
      "[CV 1/5] END max_features=6, min_samples_leaf=5, min_samples_split=12, n_estimators=100;, score=0.931 total time=   1.2s\n",
      "[CV 2/5] END max_features=6, min_samples_leaf=5, min_samples_split=12, n_estimators=100;, score=0.930 total time=   1.2s\n",
      "[CV 3/5] END max_features=6, min_samples_leaf=5, min_samples_split=12, n_estimators=100;, score=0.935 total time=   1.2s\n",
      "[CV 4/5] END max_features=6, min_samples_leaf=5, min_samples_split=12, n_estimators=100;, score=0.937 total time=   1.2s\n",
      "[CV 5/5] END max_features=6, min_samples_leaf=5, min_samples_split=12, n_estimators=100;, score=0.932 total time=   1.2s\n",
      "[CV 1/5] END max_features=6, min_samples_leaf=5, min_samples_split=12, n_estimators=300;, score=0.931 total time=   3.7s\n",
      "[CV 2/5] END max_features=6, min_samples_leaf=5, min_samples_split=12, n_estimators=300;, score=0.930 total time=   3.9s\n",
      "[CV 3/5] END max_features=6, min_samples_leaf=5, min_samples_split=12, n_estimators=300;, score=0.935 total time=   3.9s\n",
      "[CV 4/5] END max_features=6, min_samples_leaf=5, min_samples_split=12, n_estimators=300;, score=0.937 total time=   3.9s\n",
      "[CV 5/5] END max_features=6, min_samples_leaf=5, min_samples_split=12, n_estimators=300;, score=0.932 total time=   4.0s\n",
      "[CV 1/5] END max_features=6, min_samples_leaf=5, min_samples_split=12, n_estimators=500;, score=0.931 total time=   6.3s\n",
      "[CV 2/5] END max_features=6, min_samples_leaf=5, min_samples_split=12, n_estimators=500;, score=0.930 total time=   6.4s\n",
      "[CV 3/5] END max_features=6, min_samples_leaf=5, min_samples_split=12, n_estimators=500;, score=0.935 total time=   6.0s\n",
      "[CV 4/5] END max_features=6, min_samples_leaf=5, min_samples_split=12, n_estimators=500;, score=0.937 total time=   5.9s\n",
      "[CV 5/5] END max_features=6, min_samples_leaf=5, min_samples_split=12, n_estimators=500;, score=0.932 total time=   6.0s\n",
      "[CV 1/5] END max_features=8, min_samples_leaf=1, min_samples_split=2, n_estimators=10;, score=0.931 total time=   0.1s\n",
      "[CV 2/5] END max_features=8, min_samples_leaf=1, min_samples_split=2, n_estimators=10;, score=0.930 total time=   0.0s\n",
      "[CV 3/5] END max_features=8, min_samples_leaf=1, min_samples_split=2, n_estimators=10;, score=0.935 total time=   0.0s\n",
      "[CV 4/5] END max_features=8, min_samples_leaf=1, min_samples_split=2, n_estimators=10;, score=0.938 total time=   0.0s\n",
      "[CV 5/5] END max_features=8, min_samples_leaf=1, min_samples_split=2, n_estimators=10;, score=0.932 total time=   0.0s\n",
      "[CV 1/5] END max_features=8, min_samples_leaf=1, min_samples_split=2, n_estimators=100;, score=0.931 total time=   1.1s\n",
      "[CV 2/5] END max_features=8, min_samples_leaf=1, min_samples_split=2, n_estimators=100;, score=0.930 total time=   1.1s\n",
      "[CV 3/5] END max_features=8, min_samples_leaf=1, min_samples_split=2, n_estimators=100;, score=0.935 total time=   1.1s\n",
      "[CV 4/5] END max_features=8, min_samples_leaf=1, min_samples_split=2, n_estimators=100;, score=0.938 total time=   1.1s\n",
      "[CV 5/5] END max_features=8, min_samples_leaf=1, min_samples_split=2, n_estimators=100;, score=0.932 total time=   1.1s\n",
      "[CV 1/5] END max_features=8, min_samples_leaf=1, min_samples_split=2, n_estimators=300;, score=0.931 total time=   3.5s\n",
      "[CV 2/5] END max_features=8, min_samples_leaf=1, min_samples_split=2, n_estimators=300;, score=0.930 total time=   3.5s\n",
      "[CV 3/5] END max_features=8, min_samples_leaf=1, min_samples_split=2, n_estimators=300;, score=0.935 total time=   3.6s\n",
      "[CV 4/5] END max_features=8, min_samples_leaf=1, min_samples_split=2, n_estimators=300;, score=0.938 total time=   3.6s\n",
      "[CV 5/5] END max_features=8, min_samples_leaf=1, min_samples_split=2, n_estimators=300;, score=0.932 total time=   3.6s\n",
      "[CV 1/5] END max_features=8, min_samples_leaf=1, min_samples_split=2, n_estimators=500;, score=0.931 total time=   5.9s\n",
      "[CV 2/5] END max_features=8, min_samples_leaf=1, min_samples_split=2, n_estimators=500;, score=0.930 total time=   5.9s\n",
      "[CV 3/5] END max_features=8, min_samples_leaf=1, min_samples_split=2, n_estimators=500;, score=0.935 total time=   6.0s\n",
      "[CV 4/5] END max_features=8, min_samples_leaf=1, min_samples_split=2, n_estimators=500;, score=0.938 total time=   5.9s\n",
      "[CV 5/5] END max_features=8, min_samples_leaf=1, min_samples_split=2, n_estimators=500;, score=0.932 total time=   6.0s\n",
      "[CV 1/5] END max_features=8, min_samples_leaf=1, min_samples_split=5, n_estimators=10;, score=0.931 total time=   0.0s\n",
      "[CV 2/5] END max_features=8, min_samples_leaf=1, min_samples_split=5, n_estimators=10;, score=0.931 total time=   0.0s\n",
      "[CV 3/5] END max_features=8, min_samples_leaf=1, min_samples_split=5, n_estimators=10;, score=0.935 total time=   0.0s\n",
      "[CV 4/5] END max_features=8, min_samples_leaf=1, min_samples_split=5, n_estimators=10;, score=0.938 total time=   0.0s\n",
      "[CV 5/5] END max_features=8, min_samples_leaf=1, min_samples_split=5, n_estimators=10;, score=0.932 total time=   0.0s\n",
      "[CV 1/5] END max_features=8, min_samples_leaf=1, min_samples_split=5, n_estimators=100;, score=0.931 total time=   1.1s\n",
      "[CV 2/5] END max_features=8, min_samples_leaf=1, min_samples_split=5, n_estimators=100;, score=0.931 total time=   1.1s\n",
      "[CV 3/5] END max_features=8, min_samples_leaf=1, min_samples_split=5, n_estimators=100;, score=0.935 total time=   1.2s\n",
      "[CV 4/5] END max_features=8, min_samples_leaf=1, min_samples_split=5, n_estimators=100;, score=0.938 total time=   1.1s\n",
      "[CV 5/5] END max_features=8, min_samples_leaf=1, min_samples_split=5, n_estimators=100;, score=0.932 total time=   1.1s\n",
      "[CV 1/5] END max_features=8, min_samples_leaf=1, min_samples_split=5, n_estimators=300;, score=0.931 total time=   3.6s\n",
      "[CV 2/5] END max_features=8, min_samples_leaf=1, min_samples_split=5, n_estimators=300;, score=0.931 total time=   4.0s\n",
      "[CV 3/5] END max_features=8, min_samples_leaf=1, min_samples_split=5, n_estimators=300;, score=0.935 total time=   4.0s\n",
      "[CV 4/5] END max_features=8, min_samples_leaf=1, min_samples_split=5, n_estimators=300;, score=0.938 total time=   3.9s\n",
      "[CV 5/5] END max_features=8, min_samples_leaf=1, min_samples_split=5, n_estimators=300;, score=0.932 total time=   3.9s\n",
      "[CV 1/5] END max_features=8, min_samples_leaf=1, min_samples_split=5, n_estimators=500;, score=0.931 total time=   6.6s\n",
      "[CV 2/5] END max_features=8, min_samples_leaf=1, min_samples_split=5, n_estimators=500;, score=0.931 total time=   6.8s\n",
      "[CV 3/5] END max_features=8, min_samples_leaf=1, min_samples_split=5, n_estimators=500;, score=0.935 total time=   6.6s\n",
      "[CV 4/5] END max_features=8, min_samples_leaf=1, min_samples_split=5, n_estimators=500;, score=0.938 total time=   6.5s\n",
      "[CV 5/5] END max_features=8, min_samples_leaf=1, min_samples_split=5, n_estimators=500;, score=0.932 total time=   6.4s\n",
      "[CV 1/5] END max_features=8, min_samples_leaf=1, min_samples_split=12, n_estimators=10;, score=0.931 total time=   0.1s\n",
      "[CV 2/5] END max_features=8, min_samples_leaf=1, min_samples_split=12, n_estimators=10;, score=0.931 total time=   0.1s\n",
      "[CV 3/5] END max_features=8, min_samples_leaf=1, min_samples_split=12, n_estimators=10;, score=0.935 total time=   0.0s\n",
      "[CV 4/5] END max_features=8, min_samples_leaf=1, min_samples_split=12, n_estimators=10;, score=0.938 total time=   0.1s\n",
      "[CV 5/5] END max_features=8, min_samples_leaf=1, min_samples_split=12, n_estimators=10;, score=0.932 total time=   0.1s\n",
      "[CV 1/5] END max_features=8, min_samples_leaf=1, min_samples_split=12, n_estimators=100;, score=0.931 total time=   1.2s\n",
      "[CV 2/5] END max_features=8, min_samples_leaf=1, min_samples_split=12, n_estimators=100;, score=0.931 total time=   1.2s\n",
      "[CV 3/5] END max_features=8, min_samples_leaf=1, min_samples_split=12, n_estimators=100;, score=0.935 total time=   1.2s\n",
      "[CV 4/5] END max_features=8, min_samples_leaf=1, min_samples_split=12, n_estimators=100;, score=0.938 total time=   1.2s\n",
      "[CV 5/5] END max_features=8, min_samples_leaf=1, min_samples_split=12, n_estimators=100;, score=0.932 total time=   1.2s\n",
      "[CV 1/5] END max_features=8, min_samples_leaf=1, min_samples_split=12, n_estimators=300;, score=0.931 total time=   4.0s\n",
      "[CV 2/5] END max_features=8, min_samples_leaf=1, min_samples_split=12, n_estimators=300;, score=0.931 total time=   4.7s\n",
      "[CV 3/5] END max_features=8, min_samples_leaf=1, min_samples_split=12, n_estimators=300;, score=0.935 total time=   8.2s\n",
      "[CV 4/5] END max_features=8, min_samples_leaf=1, min_samples_split=12, n_estimators=300;, score=0.938 total time=   5.1s\n",
      "[CV 5/5] END max_features=8, min_samples_leaf=1, min_samples_split=12, n_estimators=300;, score=0.932 total time=   4.8s\n",
      "[CV 1/5] END max_features=8, min_samples_leaf=1, min_samples_split=12, n_estimators=500;, score=0.931 total time=   6.8s\n",
      "[CV 2/5] END max_features=8, min_samples_leaf=1, min_samples_split=12, n_estimators=500;, score=0.931 total time=   6.9s\n",
      "[CV 3/5] END max_features=8, min_samples_leaf=1, min_samples_split=12, n_estimators=500;, score=0.935 total time=   6.5s\n",
      "[CV 4/5] END max_features=8, min_samples_leaf=1, min_samples_split=12, n_estimators=500;, score=0.938 total time=   6.5s\n",
      "[CV 5/5] END max_features=8, min_samples_leaf=1, min_samples_split=12, n_estimators=500;, score=0.932 total time=   6.4s\n",
      "[CV 1/5] END max_features=8, min_samples_leaf=3, min_samples_split=2, n_estimators=10;, score=0.931 total time=   0.1s\n",
      "[CV 2/5] END max_features=8, min_samples_leaf=3, min_samples_split=2, n_estimators=10;, score=0.931 total time=   0.0s\n",
      "[CV 3/5] END max_features=8, min_samples_leaf=3, min_samples_split=2, n_estimators=10;, score=0.935 total time=   0.0s\n",
      "[CV 4/5] END max_features=8, min_samples_leaf=3, min_samples_split=2, n_estimators=10;, score=0.937 total time=   0.0s\n",
      "[CV 5/5] END max_features=8, min_samples_leaf=3, min_samples_split=2, n_estimators=10;, score=0.932 total time=   0.0s\n",
      "[CV 1/5] END max_features=8, min_samples_leaf=3, min_samples_split=2, n_estimators=100;, score=0.931 total time=   1.3s\n",
      "[CV 2/5] END max_features=8, min_samples_leaf=3, min_samples_split=2, n_estimators=100;, score=0.931 total time=   1.3s\n",
      "[CV 3/5] END max_features=8, min_samples_leaf=3, min_samples_split=2, n_estimators=100;, score=0.935 total time=   1.2s\n",
      "[CV 4/5] END max_features=8, min_samples_leaf=3, min_samples_split=2, n_estimators=100;, score=0.937 total time=   1.2s\n",
      "[CV 5/5] END max_features=8, min_samples_leaf=3, min_samples_split=2, n_estimators=100;, score=0.932 total time=   1.2s\n",
      "[CV 1/5] END max_features=8, min_samples_leaf=3, min_samples_split=2, n_estimators=300;, score=0.931 total time=   3.8s\n",
      "[CV 2/5] END max_features=8, min_samples_leaf=3, min_samples_split=2, n_estimators=300;, score=0.930 total time=   3.9s\n",
      "[CV 3/5] END max_features=8, min_samples_leaf=3, min_samples_split=2, n_estimators=300;, score=0.935 total time=   3.8s\n",
      "[CV 4/5] END max_features=8, min_samples_leaf=3, min_samples_split=2, n_estimators=300;, score=0.937 total time=   3.8s\n",
      "[CV 5/5] END max_features=8, min_samples_leaf=3, min_samples_split=2, n_estimators=300;, score=0.932 total time=   3.9s\n",
      "[CV 1/5] END max_features=8, min_samples_leaf=3, min_samples_split=2, n_estimators=500;, score=0.931 total time=   6.3s\n",
      "[CV 2/5] END max_features=8, min_samples_leaf=3, min_samples_split=2, n_estimators=500;, score=0.931 total time=   7.2s\n",
      "[CV 3/5] END max_features=8, min_samples_leaf=3, min_samples_split=2, n_estimators=500;, score=0.935 total time=   6.6s\n",
      "[CV 4/5] END max_features=8, min_samples_leaf=3, min_samples_split=2, n_estimators=500;, score=0.937 total time=   6.4s\n",
      "[CV 5/5] END max_features=8, min_samples_leaf=3, min_samples_split=2, n_estimators=500;, score=0.932 total time=   6.5s\n",
      "[CV 1/5] END max_features=8, min_samples_leaf=3, min_samples_split=5, n_estimators=10;, score=0.931 total time=   0.1s\n",
      "[CV 2/5] END max_features=8, min_samples_leaf=3, min_samples_split=5, n_estimators=10;, score=0.931 total time=   0.1s\n",
      "[CV 3/5] END max_features=8, min_samples_leaf=3, min_samples_split=5, n_estimators=10;, score=0.935 total time=   0.1s\n",
      "[CV 4/5] END max_features=8, min_samples_leaf=3, min_samples_split=5, n_estimators=10;, score=0.937 total time=   0.1s\n",
      "[CV 5/5] END max_features=8, min_samples_leaf=3, min_samples_split=5, n_estimators=10;, score=0.932 total time=   0.1s\n",
      "[CV 1/5] END max_features=8, min_samples_leaf=3, min_samples_split=5, n_estimators=100;, score=0.931 total time=   1.3s\n",
      "[CV 2/5] END max_features=8, min_samples_leaf=3, min_samples_split=5, n_estimators=100;, score=0.930 total time=   1.3s\n",
      "[CV 3/5] END max_features=8, min_samples_leaf=3, min_samples_split=5, n_estimators=100;, score=0.935 total time=   1.3s\n",
      "[CV 4/5] END max_features=8, min_samples_leaf=3, min_samples_split=5, n_estimators=100;, score=0.937 total time=   1.2s\n",
      "[CV 5/5] END max_features=8, min_samples_leaf=3, min_samples_split=5, n_estimators=100;, score=0.932 total time=   1.8s\n",
      "[CV 1/5] END max_features=8, min_samples_leaf=3, min_samples_split=5, n_estimators=300;, score=0.931 total time=   6.2s\n",
      "[CV 2/5] END max_features=8, min_samples_leaf=3, min_samples_split=5, n_estimators=300;, score=0.930 total time=   8.1s\n",
      "[CV 3/5] END max_features=8, min_samples_leaf=3, min_samples_split=5, n_estimators=300;, score=0.935 total time=   4.3s\n",
      "[CV 4/5] END max_features=8, min_samples_leaf=3, min_samples_split=5, n_estimators=300;, score=0.937 total time=   3.8s\n",
      "[CV 5/5] END max_features=8, min_samples_leaf=3, min_samples_split=5, n_estimators=300;, score=0.932 total time=   3.8s\n",
      "[CV 1/5] END max_features=8, min_samples_leaf=3, min_samples_split=5, n_estimators=500;, score=0.931 total time=   6.4s\n",
      "[CV 2/5] END max_features=8, min_samples_leaf=3, min_samples_split=5, n_estimators=500;, score=0.931 total time=   6.3s\n",
      "[CV 3/5] END max_features=8, min_samples_leaf=3, min_samples_split=5, n_estimators=500;, score=0.935 total time=   6.5s\n",
      "[CV 4/5] END max_features=8, min_samples_leaf=3, min_samples_split=5, n_estimators=500;, score=0.937 total time=   6.3s\n",
      "[CV 5/5] END max_features=8, min_samples_leaf=3, min_samples_split=5, n_estimators=500;, score=0.932 total time=   6.4s\n",
      "[CV 1/5] END max_features=8, min_samples_leaf=3, min_samples_split=12, n_estimators=10;, score=0.931 total time=   0.0s\n",
      "[CV 2/5] END max_features=8, min_samples_leaf=3, min_samples_split=12, n_estimators=10;, score=0.931 total time=   0.0s\n",
      "[CV 3/5] END max_features=8, min_samples_leaf=3, min_samples_split=12, n_estimators=10;, score=0.935 total time=   0.0s\n",
      "[CV 4/5] END max_features=8, min_samples_leaf=3, min_samples_split=12, n_estimators=10;, score=0.937 total time=   0.0s\n",
      "[CV 5/5] END max_features=8, min_samples_leaf=3, min_samples_split=12, n_estimators=10;, score=0.932 total time=   0.0s\n",
      "[CV 1/5] END max_features=8, min_samples_leaf=3, min_samples_split=12, n_estimators=100;, score=0.931 total time=   1.2s\n",
      "[CV 2/5] END max_features=8, min_samples_leaf=3, min_samples_split=12, n_estimators=100;, score=0.931 total time=   1.2s\n",
      "[CV 3/5] END max_features=8, min_samples_leaf=3, min_samples_split=12, n_estimators=100;, score=0.935 total time=   1.2s\n",
      "[CV 4/5] END max_features=8, min_samples_leaf=3, min_samples_split=12, n_estimators=100;, score=0.937 total time=   1.1s\n",
      "[CV 5/5] END max_features=8, min_samples_leaf=3, min_samples_split=12, n_estimators=100;, score=0.932 total time=   1.2s\n",
      "[CV 1/5] END max_features=8, min_samples_leaf=3, min_samples_split=12, n_estimators=300;, score=0.931 total time=   3.8s\n",
      "[CV 2/5] END max_features=8, min_samples_leaf=3, min_samples_split=12, n_estimators=300;, score=0.931 total time=   3.7s\n",
      "[CV 3/5] END max_features=8, min_samples_leaf=3, min_samples_split=12, n_estimators=300;, score=0.935 total time=   3.9s\n",
      "[CV 4/5] END max_features=8, min_samples_leaf=3, min_samples_split=12, n_estimators=300;, score=0.937 total time=   4.0s\n",
      "[CV 5/5] END max_features=8, min_samples_leaf=3, min_samples_split=12, n_estimators=300;, score=0.932 total time=   3.9s\n",
      "[CV 1/5] END max_features=8, min_samples_leaf=3, min_samples_split=12, n_estimators=500;, score=0.931 total time=   6.5s\n",
      "[CV 2/5] END max_features=8, min_samples_leaf=3, min_samples_split=12, n_estimators=500;, score=0.930 total time=   6.7s\n",
      "[CV 3/5] END max_features=8, min_samples_leaf=3, min_samples_split=12, n_estimators=500;, score=0.935 total time=   6.4s\n",
      "[CV 4/5] END max_features=8, min_samples_leaf=3, min_samples_split=12, n_estimators=500;, score=0.937 total time=   6.2s\n",
      "[CV 5/5] END max_features=8, min_samples_leaf=3, min_samples_split=12, n_estimators=500;, score=0.932 total time=   6.4s\n",
      "[CV 1/5] END max_features=8, min_samples_leaf=5, min_samples_split=2, n_estimators=10;, score=0.931 total time=   0.1s\n",
      "[CV 2/5] END max_features=8, min_samples_leaf=5, min_samples_split=2, n_estimators=10;, score=0.930 total time=   0.0s\n",
      "[CV 3/5] END max_features=8, min_samples_leaf=5, min_samples_split=2, n_estimators=10;, score=0.935 total time=   0.0s\n",
      "[CV 4/5] END max_features=8, min_samples_leaf=5, min_samples_split=2, n_estimators=10;, score=0.937 total time=   0.1s\n",
      "[CV 5/5] END max_features=8, min_samples_leaf=5, min_samples_split=2, n_estimators=10;, score=0.932 total time=   0.1s\n",
      "[CV 1/5] END max_features=8, min_samples_leaf=5, min_samples_split=2, n_estimators=100;, score=0.931 total time=   1.2s\n",
      "[CV 2/5] END max_features=8, min_samples_leaf=5, min_samples_split=2, n_estimators=100;, score=0.930 total time=   1.2s\n",
      "[CV 3/5] END max_features=8, min_samples_leaf=5, min_samples_split=2, n_estimators=100;, score=0.935 total time=   1.2s\n",
      "[CV 4/5] END max_features=8, min_samples_leaf=5, min_samples_split=2, n_estimators=100;, score=0.937 total time=   1.2s\n",
      "[CV 5/5] END max_features=8, min_samples_leaf=5, min_samples_split=2, n_estimators=100;, score=0.932 total time=   1.3s\n",
      "[CV 1/5] END max_features=8, min_samples_leaf=5, min_samples_split=2, n_estimators=300;, score=0.931 total time=   4.0s\n",
      "[CV 2/5] END max_features=8, min_samples_leaf=5, min_samples_split=2, n_estimators=300;, score=0.930 total time=   4.0s\n",
      "[CV 3/5] END max_features=8, min_samples_leaf=5, min_samples_split=2, n_estimators=300;, score=0.935 total time=   3.9s\n",
      "[CV 4/5] END max_features=8, min_samples_leaf=5, min_samples_split=2, n_estimators=300;, score=0.937 total time=   4.1s\n",
      "[CV 5/5] END max_features=8, min_samples_leaf=5, min_samples_split=2, n_estimators=300;, score=0.932 total time=   4.1s\n",
      "[CV 1/5] END max_features=8, min_samples_leaf=5, min_samples_split=2, n_estimators=500;, score=0.931 total time=   6.6s\n",
      "[CV 2/5] END max_features=8, min_samples_leaf=5, min_samples_split=2, n_estimators=500;, score=0.930 total time=   6.3s\n",
      "[CV 3/5] END max_features=8, min_samples_leaf=5, min_samples_split=2, n_estimators=500;, score=0.935 total time=   6.3s\n",
      "[CV 4/5] END max_features=8, min_samples_leaf=5, min_samples_split=2, n_estimators=500;, score=0.937 total time=   5.9s\n",
      "[CV 5/5] END max_features=8, min_samples_leaf=5, min_samples_split=2, n_estimators=500;, score=0.932 total time=   6.0s\n",
      "[CV 1/5] END max_features=8, min_samples_leaf=5, min_samples_split=5, n_estimators=10;, score=0.931 total time=   0.0s\n",
      "[CV 2/5] END max_features=8, min_samples_leaf=5, min_samples_split=5, n_estimators=10;, score=0.930 total time=   0.0s\n",
      "[CV 3/5] END max_features=8, min_samples_leaf=5, min_samples_split=5, n_estimators=10;, score=0.935 total time=   0.0s\n",
      "[CV 4/5] END max_features=8, min_samples_leaf=5, min_samples_split=5, n_estimators=10;, score=0.937 total time=   0.0s\n",
      "[CV 5/5] END max_features=8, min_samples_leaf=5, min_samples_split=5, n_estimators=10;, score=0.932 total time=   0.0s\n",
      "[CV 1/5] END max_features=8, min_samples_leaf=5, min_samples_split=5, n_estimators=100;, score=0.931 total time=   1.1s\n",
      "[CV 2/5] END max_features=8, min_samples_leaf=5, min_samples_split=5, n_estimators=100;, score=0.930 total time=   1.1s\n",
      "[CV 3/5] END max_features=8, min_samples_leaf=5, min_samples_split=5, n_estimators=100;, score=0.935 total time=   1.2s\n",
      "[CV 4/5] END max_features=8, min_samples_leaf=5, min_samples_split=5, n_estimators=100;, score=0.937 total time=   1.1s\n",
      "[CV 5/5] END max_features=8, min_samples_leaf=5, min_samples_split=5, n_estimators=100;, score=0.932 total time=   1.1s\n",
      "[CV 1/5] END max_features=8, min_samples_leaf=5, min_samples_split=5, n_estimators=300;, score=0.931 total time=   3.5s\n",
      "[CV 2/5] END max_features=8, min_samples_leaf=5, min_samples_split=5, n_estimators=300;, score=0.930 total time=   3.5s\n",
      "[CV 3/5] END max_features=8, min_samples_leaf=5, min_samples_split=5, n_estimators=300;, score=0.935 total time=   3.5s\n",
      "[CV 4/5] END max_features=8, min_samples_leaf=5, min_samples_split=5, n_estimators=300;, score=0.937 total time=   3.5s\n",
      "[CV 5/5] END max_features=8, min_samples_leaf=5, min_samples_split=5, n_estimators=300;, score=0.932 total time=   3.5s\n",
      "[CV 1/5] END max_features=8, min_samples_leaf=5, min_samples_split=5, n_estimators=500;, score=0.931 total time=   5.9s\n",
      "[CV 2/5] END max_features=8, min_samples_leaf=5, min_samples_split=5, n_estimators=500;, score=0.930 total time=   5.8s\n",
      "[CV 3/5] END max_features=8, min_samples_leaf=5, min_samples_split=5, n_estimators=500;, score=0.935 total time=   5.9s\n",
      "[CV 4/5] END max_features=8, min_samples_leaf=5, min_samples_split=5, n_estimators=500;, score=0.937 total time=   5.8s\n",
      "[CV 5/5] END max_features=8, min_samples_leaf=5, min_samples_split=5, n_estimators=500;, score=0.932 total time=   6.0s\n",
      "[CV 1/5] END max_features=8, min_samples_leaf=5, min_samples_split=12, n_estimators=10;, score=0.931 total time=   0.0s\n",
      "[CV 2/5] END max_features=8, min_samples_leaf=5, min_samples_split=12, n_estimators=10;, score=0.930 total time=   0.0s\n",
      "[CV 3/5] END max_features=8, min_samples_leaf=5, min_samples_split=12, n_estimators=10;, score=0.935 total time=   0.0s\n",
      "[CV 4/5] END max_features=8, min_samples_leaf=5, min_samples_split=12, n_estimators=10;, score=0.937 total time=   0.0s\n",
      "[CV 5/5] END max_features=8, min_samples_leaf=5, min_samples_split=12, n_estimators=10;, score=0.932 total time=   0.0s\n",
      "[CV 1/5] END max_features=8, min_samples_leaf=5, min_samples_split=12, n_estimators=100;, score=0.931 total time=   1.1s\n",
      "[CV 2/5] END max_features=8, min_samples_leaf=5, min_samples_split=12, n_estimators=100;, score=0.930 total time=   1.1s\n",
      "[CV 3/5] END max_features=8, min_samples_leaf=5, min_samples_split=12, n_estimators=100;, score=0.935 total time=   1.1s\n",
      "[CV 4/5] END max_features=8, min_samples_leaf=5, min_samples_split=12, n_estimators=100;, score=0.937 total time=   1.1s\n",
      "[CV 5/5] END max_features=8, min_samples_leaf=5, min_samples_split=12, n_estimators=100;, score=0.932 total time=   1.1s\n",
      "[CV 1/5] END max_features=8, min_samples_leaf=5, min_samples_split=12, n_estimators=300;, score=0.931 total time=   3.7s\n",
      "[CV 2/5] END max_features=8, min_samples_leaf=5, min_samples_split=12, n_estimators=300;, score=0.930 total time=   3.7s\n",
      "[CV 3/5] END max_features=8, min_samples_leaf=5, min_samples_split=12, n_estimators=300;, score=0.935 total time=   3.8s\n",
      "[CV 4/5] END max_features=8, min_samples_leaf=5, min_samples_split=12, n_estimators=300;, score=0.937 total time=   4.0s\n",
      "[CV 5/5] END max_features=8, min_samples_leaf=5, min_samples_split=12, n_estimators=300;, score=0.932 total time=   3.9s\n",
      "[CV 1/5] END max_features=8, min_samples_leaf=5, min_samples_split=12, n_estimators=500;, score=0.931 total time=   6.4s\n",
      "[CV 2/5] END max_features=8, min_samples_leaf=5, min_samples_split=12, n_estimators=500;, score=0.930 total time=   6.3s\n",
      "[CV 3/5] END max_features=8, min_samples_leaf=5, min_samples_split=12, n_estimators=500;, score=0.935 total time=   6.4s\n",
      "[CV 4/5] END max_features=8, min_samples_leaf=5, min_samples_split=12, n_estimators=500;, score=0.937 total time=   6.5s\n",
      "[CV 5/5] END max_features=8, min_samples_leaf=5, min_samples_split=12, n_estimators=500;, score=0.932 total time=   6.9s\n"
     ]
    },
    {
     "data": {
      "text/html": [
       "<style>#sk-container-id-3 {color: black;background-color: white;}#sk-container-id-3 pre{padding: 0;}#sk-container-id-3 div.sk-toggleable {background-color: white;}#sk-container-id-3 label.sk-toggleable__label {cursor: pointer;display: block;width: 100%;margin-bottom: 0;padding: 0.3em;box-sizing: border-box;text-align: center;}#sk-container-id-3 label.sk-toggleable__label-arrow:before {content: \"▸\";float: left;margin-right: 0.25em;color: #696969;}#sk-container-id-3 label.sk-toggleable__label-arrow:hover:before {color: black;}#sk-container-id-3 div.sk-estimator:hover label.sk-toggleable__label-arrow:before {color: black;}#sk-container-id-3 div.sk-toggleable__content {max-height: 0;max-width: 0;overflow: hidden;text-align: left;background-color: #f0f8ff;}#sk-container-id-3 div.sk-toggleable__content pre {margin: 0.2em;color: black;border-radius: 0.25em;background-color: #f0f8ff;}#sk-container-id-3 input.sk-toggleable__control:checked~div.sk-toggleable__content {max-height: 200px;max-width: 100%;overflow: auto;}#sk-container-id-3 input.sk-toggleable__control:checked~label.sk-toggleable__label-arrow:before {content: \"▾\";}#sk-container-id-3 div.sk-estimator input.sk-toggleable__control:checked~label.sk-toggleable__label {background-color: #d4ebff;}#sk-container-id-3 div.sk-label input.sk-toggleable__control:checked~label.sk-toggleable__label {background-color: #d4ebff;}#sk-container-id-3 input.sk-hidden--visually {border: 0;clip: rect(1px 1px 1px 1px);clip: rect(1px, 1px, 1px, 1px);height: 1px;margin: -1px;overflow: hidden;padding: 0;position: absolute;width: 1px;}#sk-container-id-3 div.sk-estimator {font-family: monospace;background-color: #f0f8ff;border: 1px dotted black;border-radius: 0.25em;box-sizing: border-box;margin-bottom: 0.5em;}#sk-container-id-3 div.sk-estimator:hover {background-color: #d4ebff;}#sk-container-id-3 div.sk-parallel-item::after {content: \"\";width: 100%;border-bottom: 1px solid gray;flex-grow: 1;}#sk-container-id-3 div.sk-label:hover label.sk-toggleable__label {background-color: #d4ebff;}#sk-container-id-3 div.sk-serial::before {content: \"\";position: absolute;border-left: 1px solid gray;box-sizing: border-box;top: 0;bottom: 0;left: 50%;z-index: 0;}#sk-container-id-3 div.sk-serial {display: flex;flex-direction: column;align-items: center;background-color: white;padding-right: 0.2em;padding-left: 0.2em;position: relative;}#sk-container-id-3 div.sk-item {position: relative;z-index: 1;}#sk-container-id-3 div.sk-parallel {display: flex;align-items: stretch;justify-content: center;background-color: white;position: relative;}#sk-container-id-3 div.sk-item::before, #sk-container-id-3 div.sk-parallel-item::before {content: \"\";position: absolute;border-left: 1px solid gray;box-sizing: border-box;top: 0;bottom: 0;left: 50%;z-index: -1;}#sk-container-id-3 div.sk-parallel-item {display: flex;flex-direction: column;z-index: 1;position: relative;background-color: white;}#sk-container-id-3 div.sk-parallel-item:first-child::after {align-self: flex-end;width: 50%;}#sk-container-id-3 div.sk-parallel-item:last-child::after {align-self: flex-start;width: 50%;}#sk-container-id-3 div.sk-parallel-item:only-child::after {width: 0;}#sk-container-id-3 div.sk-dashed-wrapped {border: 1px dashed gray;margin: 0 0.4em 0.5em 0.4em;box-sizing: border-box;padding-bottom: 0.4em;background-color: white;}#sk-container-id-3 div.sk-label label {font-family: monospace;font-weight: bold;display: inline-block;line-height: 1.2em;}#sk-container-id-3 div.sk-label-container {text-align: center;}#sk-container-id-3 div.sk-container {/* jupyter's `normalize.less` sets `[hidden] { display: none; }` but bootstrap.min.css set `[hidden] { display: none !important; }` so we also need the `!important` here to be able to override the default hidden behavior on the sphinx rendered scikit-learn.org. See: https://github.com/scikit-learn/scikit-learn/issues/21755 */display: inline-block !important;position: relative;}#sk-container-id-3 div.sk-text-repr-fallback {display: none;}</style><div id=\"sk-container-id-3\" class=\"sk-top-container\"><div class=\"sk-text-repr-fallback\"><pre>GridSearchCV(estimator=RandomForestClassifier(),\n",
       "             param_grid={&#x27;max_features&#x27;: [4, 6, 8],\n",
       "                         &#x27;min_samples_leaf&#x27;: [1, 3, 5],\n",
       "                         &#x27;min_samples_split&#x27;: [2, 5, 12],\n",
       "                         &#x27;n_estimators&#x27;: [10, 100, 300, 500]},\n",
       "             verbose=3)</pre><b>In a Jupyter environment, please rerun this cell to show the HTML representation or trust the notebook. <br />On GitHub, the HTML representation is unable to render, please try loading this page with nbviewer.org.</b></div><div class=\"sk-container\" hidden><div class=\"sk-item sk-dashed-wrapped\"><div class=\"sk-label-container\"><div class=\"sk-label sk-toggleable\"><input class=\"sk-toggleable__control sk-hidden--visually\" id=\"sk-estimator-id-3\" type=\"checkbox\" ><label for=\"sk-estimator-id-3\" class=\"sk-toggleable__label sk-toggleable__label-arrow\">GridSearchCV</label><div class=\"sk-toggleable__content\"><pre>GridSearchCV(estimator=RandomForestClassifier(),\n",
       "             param_grid={&#x27;max_features&#x27;: [4, 6, 8],\n",
       "                         &#x27;min_samples_leaf&#x27;: [1, 3, 5],\n",
       "                         &#x27;min_samples_split&#x27;: [2, 5, 12],\n",
       "                         &#x27;n_estimators&#x27;: [10, 100, 300, 500]},\n",
       "             verbose=3)</pre></div></div></div><div class=\"sk-parallel\"><div class=\"sk-parallel-item\"><div class=\"sk-item\"><div class=\"sk-label-container\"><div class=\"sk-label sk-toggleable\"><input class=\"sk-toggleable__control sk-hidden--visually\" id=\"sk-estimator-id-4\" type=\"checkbox\" ><label for=\"sk-estimator-id-4\" class=\"sk-toggleable__label sk-toggleable__label-arrow\">estimator: RandomForestClassifier</label><div class=\"sk-toggleable__content\"><pre>RandomForestClassifier()</pre></div></div></div><div class=\"sk-serial\"><div class=\"sk-item\"><div class=\"sk-estimator sk-toggleable\"><input class=\"sk-toggleable__control sk-hidden--visually\" id=\"sk-estimator-id-5\" type=\"checkbox\" ><label for=\"sk-estimator-id-5\" class=\"sk-toggleable__label sk-toggleable__label-arrow\">RandomForestClassifier</label><div class=\"sk-toggleable__content\"><pre>RandomForestClassifier()</pre></div></div></div></div></div></div></div></div></div></div>"
      ],
      "text/plain": [
       "GridSearchCV(estimator=RandomForestClassifier(),\n",
       "             param_grid={'max_features': [4, 6, 8],\n",
       "                         'min_samples_leaf': [1, 3, 5],\n",
       "                         'min_samples_split': [2, 5, 12],\n",
       "                         'n_estimators': [10, 100, 300, 500]},\n",
       "             verbose=3)"
      ]
     },
     "execution_count": 26,
     "metadata": {},
     "output_type": "execute_result"
    }
   ],
   "source": [
    "grid_search.fit(X_train, y_train)"
   ]
  },
  {
   "cell_type": "code",
   "execution_count": 28,
   "metadata": {},
   "outputs": [],
   "source": [
    "best = grid_search.best_estimator_"
   ]
  },
  {
   "cell_type": "code",
   "execution_count": 29,
   "metadata": {},
   "outputs": [],
   "source": [
    "rf_fine = best"
   ]
  },
  {
   "cell_type": "code",
   "execution_count": 30,
   "metadata": {},
   "outputs": [
    {
     "data": {
      "text/html": [
       "<style>#sk-container-id-4 {color: black;background-color: white;}#sk-container-id-4 pre{padding: 0;}#sk-container-id-4 div.sk-toggleable {background-color: white;}#sk-container-id-4 label.sk-toggleable__label {cursor: pointer;display: block;width: 100%;margin-bottom: 0;padding: 0.3em;box-sizing: border-box;text-align: center;}#sk-container-id-4 label.sk-toggleable__label-arrow:before {content: \"▸\";float: left;margin-right: 0.25em;color: #696969;}#sk-container-id-4 label.sk-toggleable__label-arrow:hover:before {color: black;}#sk-container-id-4 div.sk-estimator:hover label.sk-toggleable__label-arrow:before {color: black;}#sk-container-id-4 div.sk-toggleable__content {max-height: 0;max-width: 0;overflow: hidden;text-align: left;background-color: #f0f8ff;}#sk-container-id-4 div.sk-toggleable__content pre {margin: 0.2em;color: black;border-radius: 0.25em;background-color: #f0f8ff;}#sk-container-id-4 input.sk-toggleable__control:checked~div.sk-toggleable__content {max-height: 200px;max-width: 100%;overflow: auto;}#sk-container-id-4 input.sk-toggleable__control:checked~label.sk-toggleable__label-arrow:before {content: \"▾\";}#sk-container-id-4 div.sk-estimator input.sk-toggleable__control:checked~label.sk-toggleable__label {background-color: #d4ebff;}#sk-container-id-4 div.sk-label input.sk-toggleable__control:checked~label.sk-toggleable__label {background-color: #d4ebff;}#sk-container-id-4 input.sk-hidden--visually {border: 0;clip: rect(1px 1px 1px 1px);clip: rect(1px, 1px, 1px, 1px);height: 1px;margin: -1px;overflow: hidden;padding: 0;position: absolute;width: 1px;}#sk-container-id-4 div.sk-estimator {font-family: monospace;background-color: #f0f8ff;border: 1px dotted black;border-radius: 0.25em;box-sizing: border-box;margin-bottom: 0.5em;}#sk-container-id-4 div.sk-estimator:hover {background-color: #d4ebff;}#sk-container-id-4 div.sk-parallel-item::after {content: \"\";width: 100%;border-bottom: 1px solid gray;flex-grow: 1;}#sk-container-id-4 div.sk-label:hover label.sk-toggleable__label {background-color: #d4ebff;}#sk-container-id-4 div.sk-serial::before {content: \"\";position: absolute;border-left: 1px solid gray;box-sizing: border-box;top: 0;bottom: 0;left: 50%;z-index: 0;}#sk-container-id-4 div.sk-serial {display: flex;flex-direction: column;align-items: center;background-color: white;padding-right: 0.2em;padding-left: 0.2em;position: relative;}#sk-container-id-4 div.sk-item {position: relative;z-index: 1;}#sk-container-id-4 div.sk-parallel {display: flex;align-items: stretch;justify-content: center;background-color: white;position: relative;}#sk-container-id-4 div.sk-item::before, #sk-container-id-4 div.sk-parallel-item::before {content: \"\";position: absolute;border-left: 1px solid gray;box-sizing: border-box;top: 0;bottom: 0;left: 50%;z-index: -1;}#sk-container-id-4 div.sk-parallel-item {display: flex;flex-direction: column;z-index: 1;position: relative;background-color: white;}#sk-container-id-4 div.sk-parallel-item:first-child::after {align-self: flex-end;width: 50%;}#sk-container-id-4 div.sk-parallel-item:last-child::after {align-self: flex-start;width: 50%;}#sk-container-id-4 div.sk-parallel-item:only-child::after {width: 0;}#sk-container-id-4 div.sk-dashed-wrapped {border: 1px dashed gray;margin: 0 0.4em 0.5em 0.4em;box-sizing: border-box;padding-bottom: 0.4em;background-color: white;}#sk-container-id-4 div.sk-label label {font-family: monospace;font-weight: bold;display: inline-block;line-height: 1.2em;}#sk-container-id-4 div.sk-label-container {text-align: center;}#sk-container-id-4 div.sk-container {/* jupyter's `normalize.less` sets `[hidden] { display: none; }` but bootstrap.min.css set `[hidden] { display: none !important; }` so we also need the `!important` here to be able to override the default hidden behavior on the sphinx rendered scikit-learn.org. See: https://github.com/scikit-learn/scikit-learn/issues/21755 */display: inline-block !important;position: relative;}#sk-container-id-4 div.sk-text-repr-fallback {display: none;}</style><div id=\"sk-container-id-4\" class=\"sk-top-container\"><div class=\"sk-text-repr-fallback\"><pre>RandomForestClassifier(max_features=6, n_estimators=10)</pre><b>In a Jupyter environment, please rerun this cell to show the HTML representation or trust the notebook. <br />On GitHub, the HTML representation is unable to render, please try loading this page with nbviewer.org.</b></div><div class=\"sk-container\" hidden><div class=\"sk-item\"><div class=\"sk-estimator sk-toggleable\"><input class=\"sk-toggleable__control sk-hidden--visually\" id=\"sk-estimator-id-6\" type=\"checkbox\" checked><label for=\"sk-estimator-id-6\" class=\"sk-toggleable__label sk-toggleable__label-arrow\">RandomForestClassifier</label><div class=\"sk-toggleable__content\"><pre>RandomForestClassifier(max_features=6, n_estimators=10)</pre></div></div></div></div></div>"
      ],
      "text/plain": [
       "RandomForestClassifier(max_features=6, n_estimators=10)"
      ]
     },
     "execution_count": 30,
     "metadata": {},
     "output_type": "execute_result"
    }
   ],
   "source": [
    "rf_fine.fit(X_train, y_train)"
   ]
  },
  {
   "cell_type": "code",
   "execution_count": 31,
   "metadata": {},
   "outputs": [],
   "source": [
    "predictions = rf_fine.predict(X_test)"
   ]
  },
  {
   "cell_type": "code",
   "execution_count": 32,
   "metadata": {},
   "outputs": [],
   "source": [
    "from sklearn.metrics import classification_report, confusion_matrix"
   ]
  },
  {
   "cell_type": "code",
   "execution_count": 33,
   "metadata": {},
   "outputs": [
    {
     "name": "stdout",
     "output_type": "stream",
     "text": [
      "              precision    recall  f1-score   support\n",
      "\n",
      "       allow       1.00      1.00      1.00     11378\n",
      "        deny       0.77      1.00      0.87      4452\n",
      "        drop       0.99      0.66      0.79      3811\n",
      "  reset-both       1.00      0.32      0.48        19\n",
      "\n",
      "    accuracy                           0.93     19660\n",
      "   macro avg       0.94      0.74      0.79     19660\n",
      "weighted avg       0.95      0.93      0.93     19660\n",
      "\n",
      "\n",
      "\n",
      "[[11377     1     0     0]\n",
      " [    1  4431    20     0]\n",
      " [    0  1287  2524     0]\n",
      " [    0    13     0     6]]\n"
     ]
    }
   ],
   "source": [
    "print(classification_report(y_test, predictions))\n",
    "print('\\n')\n",
    "print(confusion_matrix(y_test, predictions))"
   ]
  },
  {
   "cell_type": "code",
   "execution_count": 34,
   "metadata": {},
   "outputs": [
    {
     "data": {
      "text/html": [
       "<style>#sk-container-id-5 {color: black;background-color: white;}#sk-container-id-5 pre{padding: 0;}#sk-container-id-5 div.sk-toggleable {background-color: white;}#sk-container-id-5 label.sk-toggleable__label {cursor: pointer;display: block;width: 100%;margin-bottom: 0;padding: 0.3em;box-sizing: border-box;text-align: center;}#sk-container-id-5 label.sk-toggleable__label-arrow:before {content: \"▸\";float: left;margin-right: 0.25em;color: #696969;}#sk-container-id-5 label.sk-toggleable__label-arrow:hover:before {color: black;}#sk-container-id-5 div.sk-estimator:hover label.sk-toggleable__label-arrow:before {color: black;}#sk-container-id-5 div.sk-toggleable__content {max-height: 0;max-width: 0;overflow: hidden;text-align: left;background-color: #f0f8ff;}#sk-container-id-5 div.sk-toggleable__content pre {margin: 0.2em;color: black;border-radius: 0.25em;background-color: #f0f8ff;}#sk-container-id-5 input.sk-toggleable__control:checked~div.sk-toggleable__content {max-height: 200px;max-width: 100%;overflow: auto;}#sk-container-id-5 input.sk-toggleable__control:checked~label.sk-toggleable__label-arrow:before {content: \"▾\";}#sk-container-id-5 div.sk-estimator input.sk-toggleable__control:checked~label.sk-toggleable__label {background-color: #d4ebff;}#sk-container-id-5 div.sk-label input.sk-toggleable__control:checked~label.sk-toggleable__label {background-color: #d4ebff;}#sk-container-id-5 input.sk-hidden--visually {border: 0;clip: rect(1px 1px 1px 1px);clip: rect(1px, 1px, 1px, 1px);height: 1px;margin: -1px;overflow: hidden;padding: 0;position: absolute;width: 1px;}#sk-container-id-5 div.sk-estimator {font-family: monospace;background-color: #f0f8ff;border: 1px dotted black;border-radius: 0.25em;box-sizing: border-box;margin-bottom: 0.5em;}#sk-container-id-5 div.sk-estimator:hover {background-color: #d4ebff;}#sk-container-id-5 div.sk-parallel-item::after {content: \"\";width: 100%;border-bottom: 1px solid gray;flex-grow: 1;}#sk-container-id-5 div.sk-label:hover label.sk-toggleable__label {background-color: #d4ebff;}#sk-container-id-5 div.sk-serial::before {content: \"\";position: absolute;border-left: 1px solid gray;box-sizing: border-box;top: 0;bottom: 0;left: 50%;z-index: 0;}#sk-container-id-5 div.sk-serial {display: flex;flex-direction: column;align-items: center;background-color: white;padding-right: 0.2em;padding-left: 0.2em;position: relative;}#sk-container-id-5 div.sk-item {position: relative;z-index: 1;}#sk-container-id-5 div.sk-parallel {display: flex;align-items: stretch;justify-content: center;background-color: white;position: relative;}#sk-container-id-5 div.sk-item::before, #sk-container-id-5 div.sk-parallel-item::before {content: \"\";position: absolute;border-left: 1px solid gray;box-sizing: border-box;top: 0;bottom: 0;left: 50%;z-index: -1;}#sk-container-id-5 div.sk-parallel-item {display: flex;flex-direction: column;z-index: 1;position: relative;background-color: white;}#sk-container-id-5 div.sk-parallel-item:first-child::after {align-self: flex-end;width: 50%;}#sk-container-id-5 div.sk-parallel-item:last-child::after {align-self: flex-start;width: 50%;}#sk-container-id-5 div.sk-parallel-item:only-child::after {width: 0;}#sk-container-id-5 div.sk-dashed-wrapped {border: 1px dashed gray;margin: 0 0.4em 0.5em 0.4em;box-sizing: border-box;padding-bottom: 0.4em;background-color: white;}#sk-container-id-5 div.sk-label label {font-family: monospace;font-weight: bold;display: inline-block;line-height: 1.2em;}#sk-container-id-5 div.sk-label-container {text-align: center;}#sk-container-id-5 div.sk-container {/* jupyter's `normalize.less` sets `[hidden] { display: none; }` but bootstrap.min.css set `[hidden] { display: none !important; }` so we also need the `!important` here to be able to override the default hidden behavior on the sphinx rendered scikit-learn.org. See: https://github.com/scikit-learn/scikit-learn/issues/21755 */display: inline-block !important;position: relative;}#sk-container-id-5 div.sk-text-repr-fallback {display: none;}</style><div id=\"sk-container-id-5\" class=\"sk-top-container\"><div class=\"sk-text-repr-fallback\"><pre>RandomForestClassifier(max_features=11, random_state=55)</pre><b>In a Jupyter environment, please rerun this cell to show the HTML representation or trust the notebook. <br />On GitHub, the HTML representation is unable to render, please try loading this page with nbviewer.org.</b></div><div class=\"sk-container\" hidden><div class=\"sk-item\"><div class=\"sk-estimator sk-toggleable\"><input class=\"sk-toggleable__control sk-hidden--visually\" id=\"sk-estimator-id-7\" type=\"checkbox\" checked><label for=\"sk-estimator-id-7\" class=\"sk-toggleable__label sk-toggleable__label-arrow\">RandomForestClassifier</label><div class=\"sk-toggleable__content\"><pre>RandomForestClassifier(max_features=11, random_state=55)</pre></div></div></div></div></div>"
      ],
      "text/plain": [
       "RandomForestClassifier(max_features=11, random_state=55)"
      ]
     },
     "execution_count": 34,
     "metadata": {},
     "output_type": "execute_result"
    }
   ],
   "source": [
    "# Bagging: using all features\n",
    "\n",
    "rf_bagged = RandomForestClassifier(max_features = 11, random_state = 55)\n",
    "\n",
    "rf_bagged.fit(X_train, y_train)"
   ]
  },
  {
   "cell_type": "code",
   "execution_count": 35,
   "metadata": {},
   "outputs": [],
   "source": [
    "# ทำนายค่าในชุด test set ที่แบ่งไว้ 30%\n",
    "\n",
    "predictions = rf_bagged.predict(X_train)"
   ]
  },
  {
   "cell_type": "code",
   "execution_count": 36,
   "metadata": {},
   "outputs": [
    {
     "name": "stdout",
     "output_type": "stream",
     "text": [
      "              precision    recall  f1-score   support\n",
      "\n",
      "       allow       1.00      1.00      1.00     26262\n",
      "        deny       0.78      1.00      0.87     10535\n",
      "        drop       0.99      0.67      0.80      9040\n",
      "  reset-both       1.00      0.17      0.29        35\n",
      "\n",
      "    accuracy                           0.93     45872\n",
      "   macro avg       0.94      0.71      0.74     45872\n",
      "weighted avg       0.95      0.93      0.93     45872\n",
      "\n",
      "\n",
      "\n",
      "[[26253     9     0     0]\n",
      " [    0 10495    40     0]\n",
      " [    0  2969  6071     0]\n",
      " [    0    29     0     6]]\n"
     ]
    }
   ],
   "source": [
    "print(classification_report(y_train, predictions))\n",
    "print('\\n')\n",
    "print(confusion_matrix(y_train, predictions))"
   ]
  }
 ],
 "metadata": {
  "kernelspec": {
   "display_name": "base",
   "language": "python",
   "name": "python3"
  },
  "language_info": {
   "codemirror_mode": {
    "name": "ipython",
    "version": 3
   },
   "file_extension": ".py",
   "mimetype": "text/x-python",
   "name": "python",
   "nbconvert_exporter": "python",
   "pygments_lexer": "ipython3",
   "version": "3.9.13"
  },
  "orig_nbformat": 4
 },
 "nbformat": 4,
 "nbformat_minor": 2
}
